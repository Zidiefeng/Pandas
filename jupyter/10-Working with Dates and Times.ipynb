{
 "cells": [
  {
   "cell_type": "markdown",
   "metadata": {},
   "source": [
    "# datetime包中的时间"
   ]
  },
  {
   "cell_type": "markdown",
   "metadata": {},
   "source": [
    "- import datetime as dt 调用datetime包\n",
    "- date\n",
    "    - dt.date(year, month, day) 设置date\n",
    "    - date.year 调取日期的year\n",
    "    - date.month\n",
    "    - date.day\n",
    "    - str(date) 改成string 格式显示 \n",
    "        - '2010-01-20'\n",
    "- datetime\n",
    "    - dt.datetime(year, month, day, hour, minute, secon, microsecond,tzinfo) \n",
    "    - 从hour开始 可以不填\n",
    "    - sometime.year\n",
    "    - sometime.month\n",
    "    - sometime.day\n",
    "    - sometime.hour\n",
    "    - sometime.minute\n",
    "    - sometime.second\n",
    "    "
   ]
  },
  {
   "cell_type": "markdown",
   "metadata": {},
   "source": [
    "# pandas包中的时间-Timestamp"
   ]
  },
  {
   "cell_type": "markdown",
   "metadata": {},
   "source": [
    "可转换的时间格式很广：\n",
    "- 各种格式\n",
    "- 也可以直接从datetime包中格式之间转化过来\n",
    "    - pd.Timestamp(\"2015-03-31\")\n",
    "    - pd.Timestamp(\"2015/03/31\")\n",
    "    - pd.Timestamp(\"2013, 11, 04\")\n",
    "    - pd.Timestamp(\"1/1/2015\")\n",
    "    - pd.Timestamp(\"19/12/2015\")\n",
    "    - pd.Timestamp(\"12/19/2015\")\n",
    "    - pd.Timestamp(\"4/3/2000\")\n",
    "    - pd.Timestamp(\"2021-03-08 08:35:15\")\n",
    "    - pd.Timestamp(\"2021-03-08 6:13:29 PM\")\n",
    "    - pd.Timestamp(dt.date(2015, 1, 1))\n",
    "    - pd.Timestamp(dt.datetime(2000, 2, 3, 21, 35, 22))\n",
    "- 由date形成的series: DateTimeIndex 这是一个object/数据类型\n",
    "    - DateTimeIndex其实就是 a collection of timestamp datetime\n",
    "        - pd.DatetimeIndex(dates_list)\n",
    "        - pd.DatetimeIndex([\"2016/01/02\", \"2016/04/12\", \"2009/09/07\"])\n",
    "        - dates = [dt.date(2016, 1, 10), dt.date(1994, 6, 13), dt.date(2003, 12, 29)]\n",
    "        - dtIndex = pd.DatetimeIndex(dates)\n",
    "        - 并且真的可以作为index series使用\n",
    "            - values = [100, 200, 300]\n",
    "            - pd.Series(data = values, index = dtIndex)\n",
    "- 转成datetime类型： pd.to_datetime(\"2001-01-19\")\n",
    "    - 可以支持特别广泛的转换\n",
    "    - 转换成单个时间，自动转成的是timestamp\n",
    "        - pd.to_datetime(\"2001-04-19\")\n",
    "        - pd.to_datetime(dt.date(2015, 1, 1))\n",
    "        - pd.to_datetime(dt.datetime(2015, 1, 1, 14, 35, 20))\n",
    "    - 若是一个series of datetime, 直接转换成DatetimeIndex\n",
    "        - pd.to_datetime([\"2015-01-03\", \"2014/02/08\", \"2016\", \"July 4th, 1996\"])\n",
    "    - 优点:pd.Series([\"2015-01-03\", \"2014/02/08\", \"2016\", \"July 4th, 1996\"]) ,指挥转换成文字，不能转成datetime series\n",
    "    - error\n",
    "        - 如果要转成的部分有非时间的成分，使用pd.to_datetime会报错,此时设置errors参数，若为coerce，会自动转成NaT,类似nan\n",
    "        - dates = pd.Series([\"July 4th, 1996\", \"10/04/1991\", \"Hello\", \"2015-02-31\"])\n",
    "        - pd.to_datetime(dates, errors = \"coerce\")\n",
    "        - pd.to_datetime(dates, errors = \"raise\")指明错处\n",
    "    - pd.to_datetime(date,unit=\"s\") 中unit参数可以将数据时间，转成时间\n",
    "        - pd.to_datetime([1349720105, 1349806505, 1349892905, 1349979305, 1350065705], unit = \"s\")\n",
    "- pd.date_range(start = \"2016-01-01\", end = \"2016-01-10\", freq = \"D\")\n",
    "    - 就是create一个datetime序列，就像seq(1,5,2)生成1，3，5一样，设置起止日期和间隔，就可以生成一个series/DatetimeIndex,每一项是timestamp\n",
    "    - freq间隔时长\n",
    "        - freq=\"D\" 一天\n",
    "        - freq=\"2D\" 两天\n",
    "        - freq=\"B\" 表示business day, 跳过weekend\n",
    "        - freq=\"W\" 表示one day/week,默认是W-SUN, 每周只显示一次，即其周日,可以指明成其他如 W-FRI\n",
    "        - freq= \"H\", 小时\n",
    "        - freq=\"M\"一月一次，默认是end day, 也可以设置\"MS\" month start，以每月一号为准\n",
    "        - freq = \"A\" end day of each year\n",
    "    - pd.date_range(start/end, periods,freq)\n",
    "        - 指有开始/结束日期，间隔，和你要多少个/periods，就也可以生成一个时间series了\n",
    "        - pd.date_range(start = \"2012-09-09\", periods = 50, freq = \"6H\")\n",
    "        - pd.date_range(end = \"1999-12-31\", periods = 100, freq = \"7H\")\n",
    "- 处理series中每一项的时间: dt(与str相同)\n",
    "    - 将时间序列DateTimeIndex存进series,才可调取(此时每一项是datetime)\n",
    "        - bunch_of_dates = pd.date_range(start = \"2000-01-01\", end = \"2010-12-31\", freq = \"24D\")\n",
    "        - seri = pd.Series(bunch_of_dates)\n",
    "    - 可以调用的attribute\n",
    "        - seri.dt.day 返回一个每个日期 在当月第几天 的Series\n",
    "        - seri.dt.month 第几月\n",
    "        - seri.dt.weekday_name 返回周几\n",
    "        - seri.dt.is_quarter_start 返回TF序列\n",
    "    - 可以配合截取（根据TF序列）\n",
    "        - seri[seri.dt.is_quarter_start]\n",
    "- pandas_datareader\n",
    "    - anaconda下载library到环境:pandas_datareader\n",
    "        - from pandas_datareader import data \n",
    "        - （save some memory space）\n",
    "        - 后面直接用data就行，不用弄pandas_datareader.data\n",
    "    - data.DataReader(name = \"MSFT\", data_source = \"google\", start = \"2010-01-01\", end = \"2017-12-31\")\n",
    "        - 巨牛逼:根据数据资源“google”，起止日期，可以反回某公司如“MSFT”为microsoft对应时间段的股票-dataframe,以日期为index\n",
    "        - open: 开始的股票价格\n",
    "        - end: 当天结束时的价格\n",
    "        - high/low:当天最高/最低\n",
    "        - volume:当天成交量\n",
    "        - google好像先不能用了，可以试试：yahoo(Alternatives to Google Finance include Alpha Vantage, Quandl, and IEX.)\n",
    "        - 截取 stocks.loc[\"2014-03-04\":\"2014-04-04\"]\n",
    "    - 配合截取pd.date_range\n",
    "        - birthdays = pd.date_range(start = \"1991-04-12\", end = \"2017-12-31\", freq = pd.DateOffset(years = 1))\n",
    "        - mask = stocks.index.isin(birthdays)\n",
    "        - stocks[mask]\n",
    "- Timestamp 有直接可以调用的函数\n",
    "    - someday.day\n",
    "    - someday.month\n",
    "    - someday.year\n",
    "    - someday.weekday_name\n",
    "    - someday.is_month_end\n",
    "    - someday.is_month_start\n",
    "- 就stock，新加补充列 如stocks.index.weekday_name（若用Index就不用dt.了）\n",
    "    - stocks.insert(0, \"Day of Week\", stocks.index.weekday_name) 即在0位插入列\"Day of Week\"\n",
    "    - stocks.insert(1, \"Is Start of Month\", stocks.index.is_month_start)\n",
    "    - stocks[stocks[\"Is Start of Month\"]]\n",
    "- dataframe.truncate(before = \"2012-06-07\", after = \"2013-02-28\")\n",
    "    - 根据日期的index，可以用truncate截取整个dataframe的行\n",
    "    - 注意！前提是dataframe已经由date index sort好了！\n",
    "- 为了直接调取pd.tseries.offsets.之后的函数，还能被识别，直接import到最终的Level4\n",
    "    - from pandas.tseries.offsets import *\n",
    "    - 这样Import之后，直接可以调用函数啦\n",
    "        - stocks.index - MonthEnd()\n",
    "        - 而非 pd.tseries.offsets.MonthEnd()\n",
    "        - stocks.index - BMonthEnd()\n",
    "        - stocks.index - QuarterEnd()\n",
    "        - stocks.index - QuarterBegin()\n",
    "- \"+\" pd.DateOffset()\n",
    "    - 在原本的日期上加上一定单位的时间:date + pd.DateOffset()\n",
    "    - 如，若是一个Date series，可以在每一项上加上一定单位的日期\n",
    "        - stocks.index + pd.DateOffset(months = 8, years = 5, days = 12, hours = 3, minutes = 42)\n",
    "-  \"+\" pd.tseries.offsets. 对date series做函数处理\n",
    "    - stocks.index + pd.tseries.offsets.MonthBegin() 返回time series当月的第一天的Date\n",
    "    - stocks.index + pd.tseries.offsets.MonthEnd()\n",
    "- timestamp的时间差(difference in time)：Timedelta\n",
    "    - 直接让timestamp/date做减法，其实是储存在了一个叫pandas.tslib.Timedelta的Object中\n",
    "        - 如 Timedelta('-12 days +09:41:33')\n",
    "    - 可以用Timedelta()定义时间差是多少\n",
    "        - pd.Timedelta(weeks = 8, days = 3, hours = 12, minutes = 45)\n",
    "        - pd.Timedelta(\"14 days 6 hours 12 minutes 49 seconds\")\n",
    "    - 可以用Date+Timedelta得到新的日期\n",
    "        - shipping[\"Twice As Long\"] = shipping[\"delivery_date\"] + shipping[\"Delivery Time\"]\n",
    "    - 可以配合Mask截取dataframe\n",
    "        - mask = shipping[\"Delivery Time\"] == \"3423 days\"\n",
    "        - shipping[mask]"
   ]
  },
  {
   "cell_type": "markdown",
   "metadata": {},
   "source": [
    "143从头开始"
   ]
  },
  {
   "cell_type": "code",
   "execution_count": 3,
   "metadata": {},
   "outputs": [],
   "source": [
    "import pandas as pd\n",
    "import datetime as dt"
   ]
  },
  {
   "cell_type": "markdown",
   "metadata": {},
   "source": [
    "## Review of Python's `datetime` Module"
   ]
  },
  {
   "cell_type": "code",
   "execution_count": 5,
   "metadata": {},
   "outputs": [],
   "source": [
    "someday = dt.date(2010, 1, 20) #dt.date(year, month, day)"
   ]
  },
  {
   "cell_type": "code",
   "execution_count": 8,
   "metadata": {
    "scrolled": true
   },
   "outputs": [
    {
     "data": {
      "text/plain": [
       "2010"
      ]
     },
     "execution_count": 8,
     "metadata": {},
     "output_type": "execute_result"
    }
   ],
   "source": [
    "someday.year"
   ]
  },
  {
   "cell_type": "code",
   "execution_count": 7,
   "metadata": {},
   "outputs": [
    {
     "data": {
      "text/plain": [
       "1"
      ]
     },
     "execution_count": 7,
     "metadata": {},
     "output_type": "execute_result"
    }
   ],
   "source": [
    "someday.month"
   ]
  },
  {
   "cell_type": "code",
   "execution_count": 9,
   "metadata": {},
   "outputs": [
    {
     "data": {
      "text/plain": [
       "20"
      ]
     },
     "execution_count": 9,
     "metadata": {},
     "output_type": "execute_result"
    }
   ],
   "source": [
    "someday.day"
   ]
  },
  {
   "cell_type": "code",
   "execution_count": 10,
   "metadata": {},
   "outputs": [
    {
     "data": {
      "text/plain": [
       "'2010-01-20'"
      ]
     },
     "execution_count": 10,
     "metadata": {},
     "output_type": "execute_result"
    }
   ],
   "source": [
    "str(someday)"
   ]
  },
  {
   "cell_type": "code",
   "execution_count": 5,
   "metadata": {},
   "outputs": [
    {
     "data": {
      "text/plain": [
       "'2010-01-10 17:13:57'"
      ]
     },
     "execution_count": 5,
     "metadata": {},
     "output_type": "execute_result"
    }
   ],
   "source": [
    "str(dt.datetime(2010, 1, 10, 17, 13, 57))"
   ]
  },
  {
   "cell_type": "code",
   "execution_count": 6,
   "metadata": {
    "collapsed": true
   },
   "outputs": [],
   "source": [
    "sometime = dt.datetime(2010, 1, 10, 17, 13, 57)"
   ]
  },
  {
   "cell_type": "code",
   "execution_count": 7,
   "metadata": {},
   "outputs": [
    {
     "data": {
      "text/plain": [
       "57"
      ]
     },
     "execution_count": 7,
     "metadata": {},
     "output_type": "execute_result"
    }
   ],
   "source": [
    "sometime.year\n",
    "sometime.month\n",
    "sometime.day\n",
    "sometime.hour\n",
    "sometime.minute\n",
    "sometime.second"
   ]
  },
  {
   "cell_type": "markdown",
   "metadata": {},
   "source": [
    "## The `pandas Timestamp` Object"
   ]
  },
  {
   "cell_type": "code",
   "execution_count": 8,
   "metadata": {},
   "outputs": [
    {
     "data": {
      "text/plain": [
       "Timestamp('2021-03-08 18:13:29')"
      ]
     },
     "execution_count": 8,
     "metadata": {},
     "output_type": "execute_result"
    }
   ],
   "source": [
    "pd.Timestamp(\"2015-03-31\")\n",
    "pd.Timestamp(\"2015/03/31\")\n",
    "pd.Timestamp(\"2013, 11, 04\")\n",
    "pd.Timestamp(\"1/1/2015\")\n",
    "pd.Timestamp(\"19/12/2015\")\n",
    "pd.Timestamp(\"12/19/2015\")\n",
    "pd.Timestamp(\"4/3/2000\")\n",
    "pd.Timestamp(\"2021-03-08 08:35:15\")\n",
    "pd.Timestamp(\"2021-03-08 6:13:29 PM\")"
   ]
  },
  {
   "cell_type": "code",
   "execution_count": 9,
   "metadata": {},
   "outputs": [
    {
     "data": {
      "text/plain": [
       "Timestamp('2015-01-01 00:00:00')"
      ]
     },
     "execution_count": 9,
     "metadata": {},
     "output_type": "execute_result"
    }
   ],
   "source": [
    "pd.Timestamp(dt.date(2015, 1, 1))"
   ]
  },
  {
   "cell_type": "code",
   "execution_count": 10,
   "metadata": {},
   "outputs": [
    {
     "data": {
      "text/plain": [
       "Timestamp('2000-02-03 21:35:22')"
      ]
     },
     "execution_count": 10,
     "metadata": {},
     "output_type": "execute_result"
    }
   ],
   "source": [
    "pd.Timestamp(dt.datetime(2000, 2, 3, 21, 35, 22))"
   ]
  },
  {
   "cell_type": "markdown",
   "metadata": {},
   "source": [
    "## The `pandas DateTimeIndex` Object"
   ]
  },
  {
   "cell_type": "code",
   "execution_count": 11,
   "metadata": {},
   "outputs": [
    {
     "data": {
      "text/plain": [
       "DatetimeIndex(['2016-01-02', '2016-04-12', '2009-09-07'], dtype='datetime64[ns]', freq=None)"
      ]
     },
     "execution_count": 11,
     "metadata": {},
     "output_type": "execute_result"
    }
   ],
   "source": [
    "dates = [\"2016/01/02\", \"2016/04/12\", \"2009/09/07\"]\n",
    "pd.DatetimeIndex(dates)"
   ]
  },
  {
   "cell_type": "code",
   "execution_count": 12,
   "metadata": {},
   "outputs": [],
   "source": [
    "dates = [dt.date(2016, 1, 10), dt.date(1994, 6, 13), dt.date(2003, 12, 29)]\n",
    "dtIndex = pd.DatetimeIndex(dates)"
   ]
  },
  {
   "cell_type": "code",
   "execution_count": 13,
   "metadata": {},
   "outputs": [
    {
     "data": {
      "text/plain": [
       "2016-01-10    100\n",
       "1994-06-13    200\n",
       "2003-12-29    300\n",
       "dtype: int64"
      ]
     },
     "execution_count": 13,
     "metadata": {},
     "output_type": "execute_result"
    }
   ],
   "source": [
    "values = [100, 200, 300]\n",
    "pd.Series(data = values, index = dtIndex)"
   ]
  },
  {
   "cell_type": "markdown",
   "metadata": {},
   "source": [
    "## The `pd.to_datetime()` Method"
   ]
  },
  {
   "cell_type": "code",
   "execution_count": 14,
   "metadata": {},
   "outputs": [
    {
     "data": {
      "text/plain": [
       "DatetimeIndex(['2015-01-03', '2014-02-08', '2016-01-01', '1996-07-04'], dtype='datetime64[ns]', freq=None)"
      ]
     },
     "execution_count": 14,
     "metadata": {},
     "output_type": "execute_result"
    }
   ],
   "source": [
    "pd.to_datetime(\"2001-04-19\")\n",
    "pd.to_datetime(dt.date(2015, 1, 1))\n",
    "pd.to_datetime(dt.datetime(2015, 1, 1, 14, 35, 20))\n",
    "pd.to_datetime([\"2015-01-03\", \"2014/02/08\", \"2016\", \"July 4th, 1996\"])"
   ]
  },
  {
   "cell_type": "code",
   "execution_count": 15,
   "metadata": {},
   "outputs": [
    {
     "data": {
      "text/plain": [
       "0        2015-01-03\n",
       "1        2014/02/08\n",
       "2              2016\n",
       "3    July 4th, 1996\n",
       "dtype: object"
      ]
     },
     "execution_count": 15,
     "metadata": {},
     "output_type": "execute_result"
    }
   ],
   "source": [
    "times = pd.Series([\"2015-01-03\", \"2014/02/08\", \"2016\", \"July 4th, 1996\"])\n",
    "times"
   ]
  },
  {
   "cell_type": "code",
   "execution_count": 16,
   "metadata": {},
   "outputs": [
    {
     "data": {
      "text/plain": [
       "0   2015-01-03\n",
       "1   2014-02-08\n",
       "2   2016-01-01\n",
       "3   1996-07-04\n",
       "dtype: datetime64[ns]"
      ]
     },
     "execution_count": 16,
     "metadata": {},
     "output_type": "execute_result"
    }
   ],
   "source": [
    "pd.to_datetime(times)"
   ]
  },
  {
   "cell_type": "code",
   "execution_count": 17,
   "metadata": {},
   "outputs": [
    {
     "data": {
      "text/plain": [
       "0    July 4th, 1996\n",
       "1        10/04/1991\n",
       "2             Hello\n",
       "3        2015-02-31\n",
       "dtype: object"
      ]
     },
     "execution_count": 17,
     "metadata": {},
     "output_type": "execute_result"
    }
   ],
   "source": [
    "dates = pd.Series([\"July 4th, 1996\", \"10/04/1991\", \"Hello\", \"2015-02-31\"])\n",
    "dates"
   ]
  },
  {
   "cell_type": "code",
   "execution_count": 18,
   "metadata": {},
   "outputs": [
    {
     "data": {
      "text/plain": [
       "0   1996-07-04\n",
       "1   1991-10-04\n",
       "2          NaT\n",
       "3          NaT\n",
       "dtype: datetime64[ns]"
      ]
     },
     "execution_count": 18,
     "metadata": {},
     "output_type": "execute_result"
    }
   ],
   "source": [
    "pd.to_datetime(dates, errors = \"coerce\")"
   ]
  },
  {
   "cell_type": "code",
   "execution_count": 19,
   "metadata": {},
   "outputs": [
    {
     "data": {
      "text/plain": [
       "DatetimeIndex(['2012-10-08 18:15:05', '2012-10-09 18:15:05',\n",
       "               '2012-10-10 18:15:05', '2012-10-11 18:15:05',\n",
       "               '2012-10-12 18:15:05'],\n",
       "              dtype='datetime64[ns]', freq=None)"
      ]
     },
     "execution_count": 19,
     "metadata": {},
     "output_type": "execute_result"
    }
   ],
   "source": [
    "pd.to_datetime([1349720105, 1349806505, 1349892905, 1349979305, 1350065705], unit = \"s\")"
   ]
  },
  {
   "cell_type": "code",
   "execution_count": 20,
   "metadata": {},
   "outputs": [
    {
     "data": {
      "text/plain": [
       "Period('2016-01-08', '10D')"
      ]
     },
     "execution_count": 20,
     "metadata": {},
     "output_type": "execute_result"
    }
   ],
   "source": [
    "pd.Period(\"2016-01-08\", freq = \"10D\")"
   ]
  },
  {
   "cell_type": "code",
   "execution_count": 21,
   "metadata": {},
   "outputs": [
    {
     "data": {
      "text/plain": [
       "2016-01    1\n",
       "2016-02    2\n",
       "2016-03    3\n",
       "Freq: 2M, dtype: int64"
      ]
     },
     "execution_count": 21,
     "metadata": {},
     "output_type": "execute_result"
    }
   ],
   "source": [
    "dates = [\"2016-01-01\", \"2016-02-01\", \"2016-03-01\"]\n",
    "pd.Series([1, 2, 3], index = pd.PeriodIndex(dates, freq = \"2M\"))"
   ]
  },
  {
   "cell_type": "code",
   "execution_count": 22,
   "metadata": {},
   "outputs": [
    {
     "data": {
      "text/plain": [
       "2015-12-29/2016-01-04    999\n",
       "2016-01-26/2016-02-01    500\n",
       "2016-01-26/2016-02-01    325\n",
       "Freq: W-MON, Name: Weekly Revenue, dtype: int64"
      ]
     },
     "execution_count": 22,
     "metadata": {},
     "output_type": "execute_result"
    }
   ],
   "source": [
    "pd.Period(\"2016-01-08\", freq = \"W\")\n",
    "pd.Period(\"2016-01-08\", freq = \"W-SUN\")\n",
    "pd.Period(\"2016-01-08\", freq = \"W-WED\")\n",
    "pd.Period(\"2015-12-10\", freq = \"10D\")\n",
    "\n",
    "dates = [\"2016-01-01\", \"2016-02-01\", \"2016-02-01\"]\n",
    "pd.PeriodIndex(dates, freq = \"W-MON\")\n",
    "weeks = pd.PeriodIndex(dates, freq = \"W-MON\")\n",
    "\n",
    "pd.Series([999, 500, 325], index = weeks, name = \"Weekly Revenue\")"
   ]
  },
  {
   "cell_type": "markdown",
   "metadata": {},
   "source": [
    "## Create Range of Dates with the `pd.date_range()` Method, Part 1"
   ]
  },
  {
   "cell_type": "code",
   "execution_count": 5,
   "metadata": {},
   "outputs": [],
   "source": [
    "times = pd.date_range(start = \"2016-01-01\", end = \"2016-01-10\", freq = \"D\")"
   ]
  },
  {
   "cell_type": "code",
   "execution_count": 6,
   "metadata": {},
   "outputs": [
    {
     "data": {
      "text/plain": [
       "pandas.tseries.index.DatetimeIndex"
      ]
     },
     "execution_count": 6,
     "metadata": {},
     "output_type": "execute_result"
    }
   ],
   "source": [
    "type(times)"
   ]
  },
  {
   "cell_type": "code",
   "execution_count": 9,
   "metadata": {},
   "outputs": [
    {
     "data": {
      "text/plain": [
       "pandas.tslib.Timestamp"
      ]
     },
     "execution_count": 9,
     "metadata": {},
     "output_type": "execute_result"
    }
   ],
   "source": [
    "type(times[0])"
   ]
  },
  {
   "cell_type": "code",
   "execution_count": 22,
   "metadata": {},
   "outputs": [
    {
     "data": {
      "text/plain": [
       "DatetimeIndex(['2016-12-31', '2017-12-31', '2018-12-31', '2019-12-31',\n",
       "               '2020-12-31', '2021-12-31', '2022-12-31', '2023-12-31',\n",
       "               '2024-12-31', '2025-12-31', '2026-12-31', '2027-12-31',\n",
       "               '2028-12-31', '2029-12-31', '2030-12-31', '2031-12-31',\n",
       "               '2032-12-31', '2033-12-31', '2034-12-31', '2035-12-31',\n",
       "               '2036-12-31', '2037-12-31', '2038-12-31', '2039-12-31',\n",
       "               '2040-12-31', '2041-12-31', '2042-12-31', '2043-12-31',\n",
       "               '2044-12-31', '2045-12-31', '2046-12-31', '2047-12-31',\n",
       "               '2048-12-31', '2049-12-31'],\n",
       "              dtype='datetime64[ns]', freq='A-DEC')"
      ]
     },
     "execution_count": 22,
     "metadata": {},
     "output_type": "execute_result"
    }
   ],
   "source": [
    "pd.date_range(start = \"2016-01-01\", end = \"2050-01-01\", freq = \"A\")"
   ]
  },
  {
   "cell_type": "markdown",
   "metadata": {},
   "source": [
    "## Create Range of Dates with the `pd.date_range()` Method, Part 2"
   ]
  },
  {
   "cell_type": "code",
   "execution_count": 27,
   "metadata": {},
   "outputs": [
    {
     "data": {
      "text/plain": [
       "DatetimeIndex(['2012-09-09 00:00:00', '2012-09-09 06:00:00',\n",
       "               '2012-09-09 12:00:00', '2012-09-09 18:00:00',\n",
       "               '2012-09-10 00:00:00', '2012-09-10 06:00:00',\n",
       "               '2012-09-10 12:00:00', '2012-09-10 18:00:00',\n",
       "               '2012-09-11 00:00:00', '2012-09-11 06:00:00',\n",
       "               '2012-09-11 12:00:00', '2012-09-11 18:00:00',\n",
       "               '2012-09-12 00:00:00', '2012-09-12 06:00:00',\n",
       "               '2012-09-12 12:00:00', '2012-09-12 18:00:00',\n",
       "               '2012-09-13 00:00:00', '2012-09-13 06:00:00',\n",
       "               '2012-09-13 12:00:00', '2012-09-13 18:00:00',\n",
       "               '2012-09-14 00:00:00', '2012-09-14 06:00:00',\n",
       "               '2012-09-14 12:00:00', '2012-09-14 18:00:00',\n",
       "               '2012-09-15 00:00:00', '2012-09-15 06:00:00',\n",
       "               '2012-09-15 12:00:00', '2012-09-15 18:00:00',\n",
       "               '2012-09-16 00:00:00', '2012-09-16 06:00:00',\n",
       "               '2012-09-16 12:00:00', '2012-09-16 18:00:00',\n",
       "               '2012-09-17 00:00:00', '2012-09-17 06:00:00',\n",
       "               '2012-09-17 12:00:00', '2012-09-17 18:00:00',\n",
       "               '2012-09-18 00:00:00', '2012-09-18 06:00:00',\n",
       "               '2012-09-18 12:00:00', '2012-09-18 18:00:00',\n",
       "               '2012-09-19 00:00:00', '2012-09-19 06:00:00',\n",
       "               '2012-09-19 12:00:00', '2012-09-19 18:00:00',\n",
       "               '2012-09-20 00:00:00', '2012-09-20 06:00:00',\n",
       "               '2012-09-20 12:00:00', '2012-09-20 18:00:00',\n",
       "               '2012-09-21 00:00:00', '2012-09-21 06:00:00'],\n",
       "              dtype='datetime64[ns]', freq='6H')"
      ]
     },
     "execution_count": 27,
     "metadata": {},
     "output_type": "execute_result"
    }
   ],
   "source": [
    "pd.date_range(start = \"2012-09-09\", periods = 50, freq = \"6H\")"
   ]
  },
  {
   "cell_type": "markdown",
   "metadata": {},
   "source": [
    "## Create Range of Dates with the `pd.date_range()` Method, Part 3"
   ]
  },
  {
   "cell_type": "code",
   "execution_count": 28,
   "metadata": {},
   "outputs": [
    {
     "data": {
      "text/plain": [
       "DatetimeIndex(['1999-12-02 03:00:00', '1999-12-02 10:00:00',\n",
       "               '1999-12-02 17:00:00', '1999-12-03 00:00:00',\n",
       "               '1999-12-03 07:00:00', '1999-12-03 14:00:00',\n",
       "               '1999-12-03 21:00:00', '1999-12-04 04:00:00',\n",
       "               '1999-12-04 11:00:00', '1999-12-04 18:00:00',\n",
       "               '1999-12-05 01:00:00', '1999-12-05 08:00:00',\n",
       "               '1999-12-05 15:00:00', '1999-12-05 22:00:00',\n",
       "               '1999-12-06 05:00:00', '1999-12-06 12:00:00',\n",
       "               '1999-12-06 19:00:00', '1999-12-07 02:00:00',\n",
       "               '1999-12-07 09:00:00', '1999-12-07 16:00:00',\n",
       "               '1999-12-07 23:00:00', '1999-12-08 06:00:00',\n",
       "               '1999-12-08 13:00:00', '1999-12-08 20:00:00',\n",
       "               '1999-12-09 03:00:00', '1999-12-09 10:00:00',\n",
       "               '1999-12-09 17:00:00', '1999-12-10 00:00:00',\n",
       "               '1999-12-10 07:00:00', '1999-12-10 14:00:00',\n",
       "               '1999-12-10 21:00:00', '1999-12-11 04:00:00',\n",
       "               '1999-12-11 11:00:00', '1999-12-11 18:00:00',\n",
       "               '1999-12-12 01:00:00', '1999-12-12 08:00:00',\n",
       "               '1999-12-12 15:00:00', '1999-12-12 22:00:00',\n",
       "               '1999-12-13 05:00:00', '1999-12-13 12:00:00',\n",
       "               '1999-12-13 19:00:00', '1999-12-14 02:00:00',\n",
       "               '1999-12-14 09:00:00', '1999-12-14 16:00:00',\n",
       "               '1999-12-14 23:00:00', '1999-12-15 06:00:00',\n",
       "               '1999-12-15 13:00:00', '1999-12-15 20:00:00',\n",
       "               '1999-12-16 03:00:00', '1999-12-16 10:00:00',\n",
       "               '1999-12-16 17:00:00', '1999-12-17 00:00:00',\n",
       "               '1999-12-17 07:00:00', '1999-12-17 14:00:00',\n",
       "               '1999-12-17 21:00:00', '1999-12-18 04:00:00',\n",
       "               '1999-12-18 11:00:00', '1999-12-18 18:00:00',\n",
       "               '1999-12-19 01:00:00', '1999-12-19 08:00:00',\n",
       "               '1999-12-19 15:00:00', '1999-12-19 22:00:00',\n",
       "               '1999-12-20 05:00:00', '1999-12-20 12:00:00',\n",
       "               '1999-12-20 19:00:00', '1999-12-21 02:00:00',\n",
       "               '1999-12-21 09:00:00', '1999-12-21 16:00:00',\n",
       "               '1999-12-21 23:00:00', '1999-12-22 06:00:00',\n",
       "               '1999-12-22 13:00:00', '1999-12-22 20:00:00',\n",
       "               '1999-12-23 03:00:00', '1999-12-23 10:00:00',\n",
       "               '1999-12-23 17:00:00', '1999-12-24 00:00:00',\n",
       "               '1999-12-24 07:00:00', '1999-12-24 14:00:00',\n",
       "               '1999-12-24 21:00:00', '1999-12-25 04:00:00',\n",
       "               '1999-12-25 11:00:00', '1999-12-25 18:00:00',\n",
       "               '1999-12-26 01:00:00', '1999-12-26 08:00:00',\n",
       "               '1999-12-26 15:00:00', '1999-12-26 22:00:00',\n",
       "               '1999-12-27 05:00:00', '1999-12-27 12:00:00',\n",
       "               '1999-12-27 19:00:00', '1999-12-28 02:00:00',\n",
       "               '1999-12-28 09:00:00', '1999-12-28 16:00:00',\n",
       "               '1999-12-28 23:00:00', '1999-12-29 06:00:00',\n",
       "               '1999-12-29 13:00:00', '1999-12-29 20:00:00',\n",
       "               '1999-12-30 03:00:00', '1999-12-30 10:00:00',\n",
       "               '1999-12-30 17:00:00', '1999-12-31 00:00:00'],\n",
       "              dtype='datetime64[ns]', freq='7H')"
      ]
     },
     "execution_count": 28,
     "metadata": {},
     "output_type": "execute_result"
    }
   ],
   "source": [
    "pd.date_range(end = \"1999-12-31\", periods = 100, freq = \"7H\")"
   ]
  },
  {
   "cell_type": "markdown",
   "metadata": {},
   "source": [
    "## The `.dt` Accessor"
   ]
  },
  {
   "cell_type": "code",
   "execution_count": 3,
   "metadata": {},
   "outputs": [],
   "source": [
    "bunch_of_dates = pd.date_range(start = \"2000-01-01\", end = \"2010-12-31\", freq = \"24D\")"
   ]
  },
  {
   "cell_type": "code",
   "execution_count": 4,
   "metadata": {},
   "outputs": [
    {
     "data": {
      "text/plain": [
       "0   2000-01-01\n",
       "1   2000-01-25\n",
       "2   2000-02-18\n",
       "dtype: datetime64[ns]"
      ]
     },
     "execution_count": 4,
     "metadata": {},
     "output_type": "execute_result"
    }
   ],
   "source": [
    "s = pd.Series(bunch_of_dates)\n",
    "s.head(3)"
   ]
  },
  {
   "cell_type": "code",
   "execution_count": 5,
   "metadata": {},
   "outputs": [
    {
     "data": {
      "text/plain": [
       "5     2000-04-30\n",
       "57    2003-09-30\n",
       "71    2004-08-31\n",
       "90    2005-11-30\n",
       "123   2008-01-31\n",
       "161   2010-07-31\n",
       "dtype: datetime64[ns]"
      ]
     },
     "execution_count": 5,
     "metadata": {},
     "output_type": "execute_result"
    }
   ],
   "source": [
    "mask = s.dt.is_month_end\n",
    "s[mask]"
   ]
  },
  {
   "cell_type": "markdown",
   "metadata": {
    "collapsed": true
   },
   "source": [
    "## Import Financial Data Set with `pandas_datareader` Library"
   ]
  },
  {
   "cell_type": "markdown",
   "metadata": {},
   "source": [
    "- pandas_datareader\n",
    "    - anaconda下载library到环境:pandas_datareader\n",
    "        - from pandas_datareader import data \n",
    "        - （save some memory space）\n",
    "        - 后面直接用data就行，不用弄pandas_datareader.data\n",
    "    - data.DataReader(name = \"MSFT\", data_source = \"google\", start = \"2010-01-01\", end = \"2017-12-31\")\n",
    "        - 巨牛逼:根据数据资源“google”，起止日期，可以反回某公司如“MSFT”为microsoft对应时间段的股票-dataframe,以日期为index\n",
    "        - open: 开始的股票价格\n",
    "        - end: 当天结束时的价格\n",
    "        - high/low:当天最高/最低\n",
    "        - volume:当天成交量\n",
    "        - google好像先不能用了，可以试试：yahoo(Alternatives to Google Finance include Alpha Vantage, Quandl, and IEX.)\n",
    "        - 截取 stocks.loc[\"2014-03-04\":\"2014-04-04\"]\n",
    "    - 配合截取pd.date_range\n",
    "        - birthdays = pd.date_range(start = \"1991-04-12\", end = \"2017-12-31\", freq = pd.DateOffset(years = 1))\n",
    "        - mask = stocks.index.isin(birthdays)\n",
    "        - stocks[mask]"
   ]
  },
  {
   "cell_type": "code",
   "execution_count": 4,
   "metadata": {},
   "outputs": [],
   "source": [
    "import pandas as pd\n",
    "import datetime as dt\n",
    "from pandas_datareader import data"
   ]
  },
  {
   "cell_type": "code",
   "execution_count": 8,
   "metadata": {},
   "outputs": [
    {
     "data": {
      "text/html": [
       "<div>\n",
       "<style scoped>\n",
       "    .dataframe tbody tr th:only-of-type {\n",
       "        vertical-align: middle;\n",
       "    }\n",
       "\n",
       "    .dataframe tbody tr th {\n",
       "        vertical-align: top;\n",
       "    }\n",
       "\n",
       "    .dataframe thead th {\n",
       "        text-align: right;\n",
       "    }\n",
       "</style>\n",
       "<table border=\"1\" class=\"dataframe\">\n",
       "  <thead>\n",
       "    <tr style=\"text-align: right;\">\n",
       "      <th></th>\n",
       "      <th>High</th>\n",
       "      <th>Low</th>\n",
       "      <th>Open</th>\n",
       "      <th>Close</th>\n",
       "      <th>Volume</th>\n",
       "      <th>Adj Close</th>\n",
       "    </tr>\n",
       "    <tr>\n",
       "      <th>Date</th>\n",
       "      <th></th>\n",
       "      <th></th>\n",
       "      <th></th>\n",
       "      <th></th>\n",
       "      <th></th>\n",
       "      <th></th>\n",
       "    </tr>\n",
       "  </thead>\n",
       "  <tbody>\n",
       "    <tr>\n",
       "      <th>2010-01-04</th>\n",
       "      <td>31.10</td>\n",
       "      <td>30.590000</td>\n",
       "      <td>30.620001</td>\n",
       "      <td>30.950001</td>\n",
       "      <td>38409100.0</td>\n",
       "      <td>24.443624</td>\n",
       "    </tr>\n",
       "    <tr>\n",
       "      <th>2010-01-05</th>\n",
       "      <td>31.10</td>\n",
       "      <td>30.639999</td>\n",
       "      <td>30.850000</td>\n",
       "      <td>30.959999</td>\n",
       "      <td>49749600.0</td>\n",
       "      <td>24.451517</td>\n",
       "    </tr>\n",
       "    <tr>\n",
       "      <th>2010-01-06</th>\n",
       "      <td>31.08</td>\n",
       "      <td>30.520000</td>\n",
       "      <td>30.879999</td>\n",
       "      <td>30.770000</td>\n",
       "      <td>58182400.0</td>\n",
       "      <td>24.301458</td>\n",
       "    </tr>\n",
       "  </tbody>\n",
       "</table>\n",
       "</div>"
      ],
      "text/plain": [
       "             High        Low       Open      Close      Volume  Adj Close\n",
       "Date                                                                     \n",
       "2010-01-04  31.10  30.590000  30.620001  30.950001  38409100.0  24.443624\n",
       "2010-01-05  31.10  30.639999  30.850000  30.959999  49749600.0  24.451517\n",
       "2010-01-06  31.08  30.520000  30.879999  30.770000  58182400.0  24.301458"
      ]
     },
     "execution_count": 8,
     "metadata": {},
     "output_type": "execute_result"
    }
   ],
   "source": [
    "company = \"MSFT\"\n",
    "start = \"2010-01-01\"\n",
    "end = \"2017-12-31\"\n",
    "\n",
    "stocks = data.DataReader(name = company, data_source = \"yahoo\", start = start, end = end)\n",
    "stocks.head(3)"
   ]
  },
  {
   "cell_type": "code",
   "execution_count": 31,
   "metadata": {},
   "outputs": [
    {
     "data": {
      "text/plain": [
       "High         3.848000e+01\n",
       "Low          3.807000e+01\n",
       "Open         3.820000e+01\n",
       "Close        3.841000e+01\n",
       "Volume       2.680240e+07\n",
       "Adj Close    3.393059e+01\n",
       "Name: 2014-03-04 00:00:00, dtype: float64"
      ]
     },
     "execution_count": 31,
     "metadata": {},
     "output_type": "execute_result"
    }
   ],
   "source": [
    "stocks.loc[\"2014-03-04\"]"
   ]
  },
  {
   "cell_type": "code",
   "execution_count": 32,
   "metadata": {},
   "outputs": [
    {
     "data": {
      "text/plain": [
       "High         2.576000e+01\n",
       "Low          2.535000e+01\n",
       "Open         2.549000e+01\n",
       "Close        2.569000e+01\n",
       "Volume       5.447340e+07\n",
       "Adj Close    2.083438e+01\n",
       "Name: 2011-03-14 00:00:00, dtype: float64"
      ]
     },
     "execution_count": 32,
     "metadata": {},
     "output_type": "execute_result"
    }
   ],
   "source": [
    "stocks.iloc[300]"
   ]
  },
  {
   "cell_type": "code",
   "execution_count": 33,
   "metadata": {},
   "outputs": [
    {
     "name": "stderr",
     "output_type": "stream",
     "text": [
      "C:\\Users\\sunka\\Anaconda3\\lib\\site-packages\\ipykernel_launcher.py:1: DeprecationWarning: \n",
      ".ix is deprecated. Please use\n",
      ".loc for label based indexing or\n",
      ".iloc for positional indexing\n",
      "\n",
      "See the documentation here:\n",
      "http://pandas.pydata.org/pandas-docs/stable/indexing.html#ix-indexer-is-deprecated\n",
      "  \"\"\"Entry point for launching an IPython kernel.\n"
     ]
    },
    {
     "data": {
      "text/plain": [
       "High         3.848000e+01\n",
       "Low          3.807000e+01\n",
       "Open         3.820000e+01\n",
       "Close        3.841000e+01\n",
       "Volume       2.680240e+07\n",
       "Adj Close    3.393059e+01\n",
       "Name: 2014-03-04 00:00:00, dtype: float64"
      ]
     },
     "execution_count": 33,
     "metadata": {},
     "output_type": "execute_result"
    }
   ],
   "source": [
    "stocks.ix[\"2014-03-04\"] #好像ix已经不太支持了"
   ]
  },
  {
   "cell_type": "code",
   "execution_count": 34,
   "metadata": {},
   "outputs": [
    {
     "data": {
      "text/html": [
       "<div>\n",
       "<style scoped>\n",
       "    .dataframe tbody tr th:only-of-type {\n",
       "        vertical-align: middle;\n",
       "    }\n",
       "\n",
       "    .dataframe tbody tr th {\n",
       "        vertical-align: top;\n",
       "    }\n",
       "\n",
       "    .dataframe thead th {\n",
       "        text-align: right;\n",
       "    }\n",
       "</style>\n",
       "<table border=\"1\" class=\"dataframe\">\n",
       "  <thead>\n",
       "    <tr style=\"text-align: right;\">\n",
       "      <th></th>\n",
       "      <th>High</th>\n",
       "      <th>Low</th>\n",
       "      <th>Open</th>\n",
       "      <th>Close</th>\n",
       "      <th>Volume</th>\n",
       "      <th>Adj Close</th>\n",
       "    </tr>\n",
       "    <tr>\n",
       "      <th>Date</th>\n",
       "      <th></th>\n",
       "      <th></th>\n",
       "      <th></th>\n",
       "      <th></th>\n",
       "      <th></th>\n",
       "      <th></th>\n",
       "    </tr>\n",
       "  </thead>\n",
       "  <tbody>\n",
       "    <tr>\n",
       "      <th>2014-03-04</th>\n",
       "      <td>38.480000</td>\n",
       "      <td>38.070000</td>\n",
       "      <td>38.200001</td>\n",
       "      <td>38.410000</td>\n",
       "      <td>26802400.0</td>\n",
       "      <td>33.930588</td>\n",
       "    </tr>\n",
       "    <tr>\n",
       "      <th>2014-03-05</th>\n",
       "      <td>38.270000</td>\n",
       "      <td>37.930000</td>\n",
       "      <td>38.250000</td>\n",
       "      <td>38.110001</td>\n",
       "      <td>20520100.0</td>\n",
       "      <td>33.665577</td>\n",
       "    </tr>\n",
       "    <tr>\n",
       "      <th>2014-03-06</th>\n",
       "      <td>38.240002</td>\n",
       "      <td>37.889999</td>\n",
       "      <td>38.139999</td>\n",
       "      <td>38.150002</td>\n",
       "      <td>23582200.0</td>\n",
       "      <td>33.700912</td>\n",
       "    </tr>\n",
       "    <tr>\n",
       "      <th>2014-03-07</th>\n",
       "      <td>38.360001</td>\n",
       "      <td>37.689999</td>\n",
       "      <td>38.279999</td>\n",
       "      <td>37.900002</td>\n",
       "      <td>26591600.0</td>\n",
       "      <td>33.480068</td>\n",
       "    </tr>\n",
       "    <tr>\n",
       "      <th>2014-03-10</th>\n",
       "      <td>38.009998</td>\n",
       "      <td>37.720001</td>\n",
       "      <td>37.990002</td>\n",
       "      <td>37.820000</td>\n",
       "      <td>19006600.0</td>\n",
       "      <td>33.409401</td>\n",
       "    </tr>\n",
       "    <tr>\n",
       "      <th>2014-03-11</th>\n",
       "      <td>38.230000</td>\n",
       "      <td>37.720001</td>\n",
       "      <td>37.869999</td>\n",
       "      <td>38.020000</td>\n",
       "      <td>25216400.0</td>\n",
       "      <td>33.586075</td>\n",
       "    </tr>\n",
       "    <tr>\n",
       "      <th>2014-03-12</th>\n",
       "      <td>38.430000</td>\n",
       "      <td>37.790001</td>\n",
       "      <td>37.799999</td>\n",
       "      <td>38.270000</td>\n",
       "      <td>30494100.0</td>\n",
       "      <td>33.806915</td>\n",
       "    </tr>\n",
       "    <tr>\n",
       "      <th>2014-03-13</th>\n",
       "      <td>38.450001</td>\n",
       "      <td>37.639999</td>\n",
       "      <td>38.419998</td>\n",
       "      <td>37.889999</td>\n",
       "      <td>32169700.0</td>\n",
       "      <td>33.471237</td>\n",
       "    </tr>\n",
       "    <tr>\n",
       "      <th>2014-03-14</th>\n",
       "      <td>38.139999</td>\n",
       "      <td>37.509998</td>\n",
       "      <td>37.650002</td>\n",
       "      <td>37.700001</td>\n",
       "      <td>27195600.0</td>\n",
       "      <td>33.303394</td>\n",
       "    </tr>\n",
       "    <tr>\n",
       "      <th>2014-03-17</th>\n",
       "      <td>38.410000</td>\n",
       "      <td>37.790001</td>\n",
       "      <td>37.900002</td>\n",
       "      <td>38.049999</td>\n",
       "      <td>20479600.0</td>\n",
       "      <td>33.612564</td>\n",
       "    </tr>\n",
       "    <tr>\n",
       "      <th>2014-03-18</th>\n",
       "      <td>39.900002</td>\n",
       "      <td>38.220001</td>\n",
       "      <td>38.259998</td>\n",
       "      <td>39.549999</td>\n",
       "      <td>64063900.0</td>\n",
       "      <td>34.937641</td>\n",
       "    </tr>\n",
       "    <tr>\n",
       "      <th>2014-03-19</th>\n",
       "      <td>39.549999</td>\n",
       "      <td>38.910000</td>\n",
       "      <td>39.470001</td>\n",
       "      <td>39.270000</td>\n",
       "      <td>35597200.0</td>\n",
       "      <td>34.690289</td>\n",
       "    </tr>\n",
       "    <tr>\n",
       "      <th>2014-03-20</th>\n",
       "      <td>40.650002</td>\n",
       "      <td>39.240002</td>\n",
       "      <td>39.250000</td>\n",
       "      <td>40.330002</td>\n",
       "      <td>59269800.0</td>\n",
       "      <td>35.626678</td>\n",
       "    </tr>\n",
       "    <tr>\n",
       "      <th>2014-03-21</th>\n",
       "      <td>40.939999</td>\n",
       "      <td>40.009998</td>\n",
       "      <td>40.720001</td>\n",
       "      <td>40.160000</td>\n",
       "      <td>80721800.0</td>\n",
       "      <td>35.476494</td>\n",
       "    </tr>\n",
       "    <tr>\n",
       "      <th>2014-03-24</th>\n",
       "      <td>40.639999</td>\n",
       "      <td>39.860001</td>\n",
       "      <td>40.340000</td>\n",
       "      <td>40.500000</td>\n",
       "      <td>46098400.0</td>\n",
       "      <td>35.776855</td>\n",
       "    </tr>\n",
       "    <tr>\n",
       "      <th>2014-03-25</th>\n",
       "      <td>40.990002</td>\n",
       "      <td>39.959999</td>\n",
       "      <td>40.660000</td>\n",
       "      <td>40.340000</td>\n",
       "      <td>43193100.0</td>\n",
       "      <td>35.635513</td>\n",
       "    </tr>\n",
       "    <tr>\n",
       "      <th>2014-03-26</th>\n",
       "      <td>40.709999</td>\n",
       "      <td>39.599998</td>\n",
       "      <td>40.480000</td>\n",
       "      <td>39.790001</td>\n",
       "      <td>41977500.0</td>\n",
       "      <td>35.149658</td>\n",
       "    </tr>\n",
       "    <tr>\n",
       "      <th>2014-03-27</th>\n",
       "      <td>39.970001</td>\n",
       "      <td>39.340000</td>\n",
       "      <td>39.740002</td>\n",
       "      <td>39.360001</td>\n",
       "      <td>35369200.0</td>\n",
       "      <td>34.769806</td>\n",
       "    </tr>\n",
       "    <tr>\n",
       "      <th>2014-03-28</th>\n",
       "      <td>40.639999</td>\n",
       "      <td>39.680000</td>\n",
       "      <td>39.790001</td>\n",
       "      <td>40.299999</td>\n",
       "      <td>43472700.0</td>\n",
       "      <td>35.600174</td>\n",
       "    </tr>\n",
       "    <tr>\n",
       "      <th>2014-03-31</th>\n",
       "      <td>41.500000</td>\n",
       "      <td>40.400002</td>\n",
       "      <td>40.430000</td>\n",
       "      <td>40.990002</td>\n",
       "      <td>46886300.0</td>\n",
       "      <td>36.209713</td>\n",
       "    </tr>\n",
       "    <tr>\n",
       "      <th>2014-04-01</th>\n",
       "      <td>41.590000</td>\n",
       "      <td>41.070000</td>\n",
       "      <td>41.150002</td>\n",
       "      <td>41.419998</td>\n",
       "      <td>32605000.0</td>\n",
       "      <td>36.589558</td>\n",
       "    </tr>\n",
       "    <tr>\n",
       "      <th>2014-04-02</th>\n",
       "      <td>41.660000</td>\n",
       "      <td>41.169998</td>\n",
       "      <td>41.439999</td>\n",
       "      <td>41.349998</td>\n",
       "      <td>28666700.0</td>\n",
       "      <td>36.527725</td>\n",
       "    </tr>\n",
       "    <tr>\n",
       "      <th>2014-04-03</th>\n",
       "      <td>41.290001</td>\n",
       "      <td>40.709999</td>\n",
       "      <td>41.290001</td>\n",
       "      <td>41.009998</td>\n",
       "      <td>30139600.0</td>\n",
       "      <td>36.227371</td>\n",
       "    </tr>\n",
       "    <tr>\n",
       "      <th>2014-04-04</th>\n",
       "      <td>41.389999</td>\n",
       "      <td>39.639999</td>\n",
       "      <td>41.250000</td>\n",
       "      <td>39.869999</td>\n",
       "      <td>51409600.0</td>\n",
       "      <td>35.220318</td>\n",
       "    </tr>\n",
       "  </tbody>\n",
       "</table>\n",
       "</div>"
      ],
      "text/plain": [
       "                 High        Low       Open      Close      Volume  Adj Close\n",
       "Date                                                                         \n",
       "2014-03-04  38.480000  38.070000  38.200001  38.410000  26802400.0  33.930588\n",
       "2014-03-05  38.270000  37.930000  38.250000  38.110001  20520100.0  33.665577\n",
       "2014-03-06  38.240002  37.889999  38.139999  38.150002  23582200.0  33.700912\n",
       "2014-03-07  38.360001  37.689999  38.279999  37.900002  26591600.0  33.480068\n",
       "2014-03-10  38.009998  37.720001  37.990002  37.820000  19006600.0  33.409401\n",
       "2014-03-11  38.230000  37.720001  37.869999  38.020000  25216400.0  33.586075\n",
       "2014-03-12  38.430000  37.790001  37.799999  38.270000  30494100.0  33.806915\n",
       "2014-03-13  38.450001  37.639999  38.419998  37.889999  32169700.0  33.471237\n",
       "2014-03-14  38.139999  37.509998  37.650002  37.700001  27195600.0  33.303394\n",
       "2014-03-17  38.410000  37.790001  37.900002  38.049999  20479600.0  33.612564\n",
       "2014-03-18  39.900002  38.220001  38.259998  39.549999  64063900.0  34.937641\n",
       "2014-03-19  39.549999  38.910000  39.470001  39.270000  35597200.0  34.690289\n",
       "2014-03-20  40.650002  39.240002  39.250000  40.330002  59269800.0  35.626678\n",
       "2014-03-21  40.939999  40.009998  40.720001  40.160000  80721800.0  35.476494\n",
       "2014-03-24  40.639999  39.860001  40.340000  40.500000  46098400.0  35.776855\n",
       "2014-03-25  40.990002  39.959999  40.660000  40.340000  43193100.0  35.635513\n",
       "2014-03-26  40.709999  39.599998  40.480000  39.790001  41977500.0  35.149658\n",
       "2014-03-27  39.970001  39.340000  39.740002  39.360001  35369200.0  34.769806\n",
       "2014-03-28  40.639999  39.680000  39.790001  40.299999  43472700.0  35.600174\n",
       "2014-03-31  41.500000  40.400002  40.430000  40.990002  46886300.0  36.209713\n",
       "2014-04-01  41.590000  41.070000  41.150002  41.419998  32605000.0  36.589558\n",
       "2014-04-02  41.660000  41.169998  41.439999  41.349998  28666700.0  36.527725\n",
       "2014-04-03  41.290001  40.709999  41.290001  41.009998  30139600.0  36.227371\n",
       "2014-04-04  41.389999  39.639999  41.250000  39.869999  51409600.0  35.220318"
      ]
     },
     "execution_count": 34,
     "metadata": {},
     "output_type": "execute_result"
    }
   ],
   "source": [
    "stocks.loc[\"2014-03-04\":\"2014-04-04\"]"
   ]
  },
  {
   "cell_type": "code",
   "execution_count": null,
   "metadata": {},
   "outputs": [],
   "source": [
    "pd.date_range(start=\"2014-03-04\", end=\"2014-04-04\",freq=pd.)"
   ]
  },
  {
   "cell_type": "code",
   "execution_count": 9,
   "metadata": {},
   "outputs": [
    {
     "data": {
      "text/plain": [
       "[DatetimeIndex(['2010-01-04', '2010-01-05', '2010-01-06', '2010-01-07',\n",
       "                '2010-01-08', '2010-01-11', '2010-01-12', '2010-01-13',\n",
       "                '2010-01-14', '2010-01-15',\n",
       "                ...\n",
       "                '2017-12-15', '2017-12-18', '2017-12-19', '2017-12-20',\n",
       "                '2017-12-21', '2017-12-22', '2017-12-26', '2017-12-27',\n",
       "                '2017-12-28', '2017-12-29'],\n",
       "               dtype='datetime64[ns]', name='Date', length=2013, freq=None),\n",
       " Index(['High', 'Low', 'Open', 'Close', 'Volume', 'Adj Close'], dtype='object')]"
      ]
     },
     "execution_count": 9,
     "metadata": {},
     "output_type": "execute_result"
    }
   ],
   "source": [
    "stocks.values\n",
    "stocks.columns\n",
    "stocks.index[0]\n",
    "stocks.axes"
   ]
  },
  {
   "cell_type": "markdown",
   "metadata": {
    "collapsed": true
   },
   "source": [
    "## Selecting from a `DataFrame` with a `DateTimeIndex`"
   ]
  },
  {
   "cell_type": "code",
   "execution_count": 11,
   "metadata": {},
   "outputs": [
    {
     "data": {
      "text/html": [
       "<div>\n",
       "<style scoped>\n",
       "    .dataframe tbody tr th:only-of-type {\n",
       "        vertical-align: middle;\n",
       "    }\n",
       "\n",
       "    .dataframe tbody tr th {\n",
       "        vertical-align: top;\n",
       "    }\n",
       "\n",
       "    .dataframe thead th {\n",
       "        text-align: right;\n",
       "    }\n",
       "</style>\n",
       "<table border=\"1\" class=\"dataframe\">\n",
       "  <thead>\n",
       "    <tr style=\"text-align: right;\">\n",
       "      <th></th>\n",
       "      <th>High</th>\n",
       "      <th>Low</th>\n",
       "      <th>Open</th>\n",
       "      <th>Close</th>\n",
       "      <th>Volume</th>\n",
       "      <th>Adj Close</th>\n",
       "    </tr>\n",
       "    <tr>\n",
       "      <th>Date</th>\n",
       "      <th></th>\n",
       "      <th></th>\n",
       "      <th></th>\n",
       "      <th></th>\n",
       "      <th></th>\n",
       "      <th></th>\n",
       "    </tr>\n",
       "  </thead>\n",
       "  <tbody>\n",
       "    <tr>\n",
       "      <th>2010-01-04</th>\n",
       "      <td>31.10</td>\n",
       "      <td>30.590000</td>\n",
       "      <td>30.620001</td>\n",
       "      <td>30.950001</td>\n",
       "      <td>38409100.0</td>\n",
       "      <td>24.443624</td>\n",
       "    </tr>\n",
       "    <tr>\n",
       "      <th>2010-01-05</th>\n",
       "      <td>31.10</td>\n",
       "      <td>30.639999</td>\n",
       "      <td>30.850000</td>\n",
       "      <td>30.959999</td>\n",
       "      <td>49749600.0</td>\n",
       "      <td>24.451517</td>\n",
       "    </tr>\n",
       "    <tr>\n",
       "      <th>2010-01-06</th>\n",
       "      <td>31.08</td>\n",
       "      <td>30.520000</td>\n",
       "      <td>30.879999</td>\n",
       "      <td>30.770000</td>\n",
       "      <td>58182400.0</td>\n",
       "      <td>24.301458</td>\n",
       "    </tr>\n",
       "  </tbody>\n",
       "</table>\n",
       "</div>"
      ],
      "text/plain": [
       "             High        Low       Open      Close      Volume  Adj Close\n",
       "Date                                                                     \n",
       "2010-01-04  31.10  30.590000  30.620001  30.950001  38409100.0  24.443624\n",
       "2010-01-05  31.10  30.639999  30.850000  30.959999  49749600.0  24.451517\n",
       "2010-01-06  31.08  30.520000  30.879999  30.770000  58182400.0  24.301458"
      ]
     },
     "execution_count": 11,
     "metadata": {},
     "output_type": "execute_result"
    }
   ],
   "source": [
    "stocks = data.DataReader(name = company, data_source = \"yahoo\", start = start, end = end)\n",
    "stocks.head(3)"
   ]
  },
  {
   "cell_type": "code",
   "execution_count": 13,
   "metadata": {},
   "outputs": [
    {
     "name": "stderr",
     "output_type": "stream",
     "text": [
      "C:\\Users\\sunka\\Anaconda3\\lib\\site-packages\\ipykernel_launcher.py:3: DeprecationWarning: \n",
      ".ix is deprecated. Please use\n",
      ".loc for label based indexing or\n",
      ".iloc for positional indexing\n",
      "\n",
      "See the documentation here:\n",
      "http://pandas.pydata.org/pandas-docs/stable/indexing.html#ix-indexer-is-deprecated\n",
      "  This is separate from the ipykernel package so we can avoid doing imports until\n",
      "C:\\Users\\sunka\\Anaconda3\\lib\\site-packages\\ipykernel_launcher.py:4: DeprecationWarning: \n",
      ".ix is deprecated. Please use\n",
      ".loc for label based indexing or\n",
      ".iloc for positional indexing\n",
      "\n",
      "See the documentation here:\n",
      "http://pandas.pydata.org/pandas-docs/stable/indexing.html#ix-indexer-is-deprecated\n",
      "  after removing the cwd from sys.path.\n"
     ]
    },
    {
     "data": {
      "text/plain": [
       "High         2.576000e+01\n",
       "Low          2.535000e+01\n",
       "Open         2.549000e+01\n",
       "Close        2.569000e+01\n",
       "Volume       5.447340e+07\n",
       "Adj Close    2.083438e+01\n",
       "Name: 2011-03-14 00:00:00, dtype: float64"
      ]
     },
     "execution_count": 13,
     "metadata": {},
     "output_type": "execute_result"
    }
   ],
   "source": [
    "stocks.loc[\"2014-03-04\"]\n",
    "stocks.iloc[300]\n",
    "stocks.ix[\"2014-03-04\"]\n",
    "stocks.ix[300]"
   ]
  },
  {
   "cell_type": "code",
   "execution_count": 62,
   "metadata": {
    "collapsed": true
   },
   "outputs": [
    {
     "ename": "KeyError",
     "evalue": "'2016-01-01'",
     "output_type": "error",
     "traceback": [
      "\u001b[0;31m---------------------------------------------------------------------------\u001b[0m",
      "\u001b[0;31mTypeError\u001b[0m                                 Traceback (most recent call last)",
      "\u001b[0;32mpandas/index.pyx\u001b[0m in \u001b[0;36mpandas.index.DatetimeEngine.get_loc (pandas/index.c:10990)\u001b[0;34m()\u001b[0m\n",
      "\u001b[0;32mpandas/hashtable.pyx\u001b[0m in \u001b[0;36mpandas.hashtable.Int64HashTable.get_item (pandas/hashtable.c:6589)\u001b[0;34m()\u001b[0m\n",
      "\u001b[0;31mTypeError\u001b[0m: an integer is required",
      "\nDuring handling of the above exception, another exception occurred:\n",
      "\u001b[0;31mKeyError\u001b[0m                                  Traceback (most recent call last)",
      "\u001b[0;32m/Users/borisp/anaconda/envs/3.5/lib/python3.5/site-packages/pandas/indexes/base.py\u001b[0m in \u001b[0;36mget_loc\u001b[0;34m(self, key, method, tolerance)\u001b[0m\n\u001b[1;32m   1944\u001b[0m             \u001b[0;32mtry\u001b[0m\u001b[0;34m:\u001b[0m\u001b[0;34m\u001b[0m\u001b[0m\n\u001b[0;32m-> 1945\u001b[0;31m                 \u001b[0;32mreturn\u001b[0m \u001b[0mself\u001b[0m\u001b[0;34m.\u001b[0m\u001b[0m_engine\u001b[0m\u001b[0;34m.\u001b[0m\u001b[0mget_loc\u001b[0m\u001b[0;34m(\u001b[0m\u001b[0mkey\u001b[0m\u001b[0;34m)\u001b[0m\u001b[0;34m\u001b[0m\u001b[0m\n\u001b[0m\u001b[1;32m   1946\u001b[0m             \u001b[0;32mexcept\u001b[0m \u001b[0mKeyError\u001b[0m\u001b[0;34m:\u001b[0m\u001b[0;34m\u001b[0m\u001b[0m\n",
      "\u001b[0;32mpandas/index.pyx\u001b[0m in \u001b[0;36mpandas.index.DatetimeEngine.get_loc (pandas/index.c:11140)\u001b[0;34m()\u001b[0m\n",
      "\u001b[0;32mpandas/index.pyx\u001b[0m in \u001b[0;36mpandas.index.DatetimeEngine.get_loc (pandas/index.c:11046)\u001b[0;34m()\u001b[0m\n",
      "\u001b[0;32mpandas/index.pyx\u001b[0m in \u001b[0;36mpandas.index.DatetimeEngine._date_check_type (pandas/index.c:11210)\u001b[0;34m()\u001b[0m\n",
      "\u001b[0;31mKeyError\u001b[0m: '2016-01-01'",
      "\nDuring handling of the above exception, another exception occurred:\n",
      "\u001b[0;31mTypeError\u001b[0m                                 Traceback (most recent call last)",
      "\u001b[0;32mpandas/index.pyx\u001b[0m in \u001b[0;36mpandas.index.DatetimeEngine.get_loc (pandas/index.c:10990)\u001b[0;34m()\u001b[0m\n",
      "\u001b[0;32mpandas/hashtable.pyx\u001b[0m in \u001b[0;36mpandas.hashtable.Int64HashTable.get_item (pandas/hashtable.c:6589)\u001b[0;34m()\u001b[0m\n",
      "\u001b[0;31mTypeError\u001b[0m: an integer is required",
      "\nDuring handling of the above exception, another exception occurred:\n",
      "\u001b[0;31mKeyError\u001b[0m                                  Traceback (most recent call last)",
      "\u001b[0;32m/Users/borisp/anaconda/envs/3.5/lib/python3.5/site-packages/pandas/tseries/index.py\u001b[0m in \u001b[0;36mget_loc\u001b[0;34m(self, key, method, tolerance)\u001b[0m\n\u001b[1;32m   1430\u001b[0m         \u001b[0;32mtry\u001b[0m\u001b[0;34m:\u001b[0m\u001b[0;34m\u001b[0m\u001b[0m\n\u001b[0;32m-> 1431\u001b[0;31m             \u001b[0;32mreturn\u001b[0m \u001b[0mIndex\u001b[0m\u001b[0;34m.\u001b[0m\u001b[0mget_loc\u001b[0m\u001b[0;34m(\u001b[0m\u001b[0mself\u001b[0m\u001b[0;34m,\u001b[0m \u001b[0mkey\u001b[0m\u001b[0;34m,\u001b[0m \u001b[0mmethod\u001b[0m\u001b[0;34m,\u001b[0m \u001b[0mtolerance\u001b[0m\u001b[0;34m)\u001b[0m\u001b[0;34m\u001b[0m\u001b[0m\n\u001b[0m\u001b[1;32m   1432\u001b[0m         \u001b[0;32mexcept\u001b[0m \u001b[0;34m(\u001b[0m\u001b[0mKeyError\u001b[0m\u001b[0;34m,\u001b[0m \u001b[0mValueError\u001b[0m\u001b[0;34m,\u001b[0m \u001b[0mTypeError\u001b[0m\u001b[0;34m)\u001b[0m\u001b[0;34m:\u001b[0m\u001b[0;34m\u001b[0m\u001b[0m\n",
      "\u001b[0;32m/Users/borisp/anaconda/envs/3.5/lib/python3.5/site-packages/pandas/indexes/base.py\u001b[0m in \u001b[0;36mget_loc\u001b[0;34m(self, key, method, tolerance)\u001b[0m\n\u001b[1;32m   1946\u001b[0m             \u001b[0;32mexcept\u001b[0m \u001b[0mKeyError\u001b[0m\u001b[0;34m:\u001b[0m\u001b[0;34m\u001b[0m\u001b[0m\n\u001b[0;32m-> 1947\u001b[0;31m                 \u001b[0;32mreturn\u001b[0m \u001b[0mself\u001b[0m\u001b[0;34m.\u001b[0m\u001b[0m_engine\u001b[0m\u001b[0;34m.\u001b[0m\u001b[0mget_loc\u001b[0m\u001b[0;34m(\u001b[0m\u001b[0mself\u001b[0m\u001b[0;34m.\u001b[0m\u001b[0m_maybe_cast_indexer\u001b[0m\u001b[0;34m(\u001b[0m\u001b[0mkey\u001b[0m\u001b[0;34m)\u001b[0m\u001b[0;34m)\u001b[0m\u001b[0;34m\u001b[0m\u001b[0m\n\u001b[0m\u001b[1;32m   1948\u001b[0m \u001b[0;34m\u001b[0m\u001b[0m\n",
      "\u001b[0;32mpandas/index.pyx\u001b[0m in \u001b[0;36mpandas.index.DatetimeEngine.get_loc (pandas/index.c:11140)\u001b[0;34m()\u001b[0m\n",
      "\u001b[0;32mpandas/index.pyx\u001b[0m in \u001b[0;36mpandas.index.DatetimeEngine.get_loc (pandas/index.c:11046)\u001b[0;34m()\u001b[0m\n",
      "\u001b[0;32mpandas/index.pyx\u001b[0m in \u001b[0;36mpandas.index.DatetimeEngine._date_check_type (pandas/index.c:11210)\u001b[0;34m()\u001b[0m\n",
      "\u001b[0;31mKeyError\u001b[0m: '2016-01-01'",
      "\nDuring handling of the above exception, another exception occurred:\n",
      "\u001b[0;31mKeyError\u001b[0m                                  Traceback (most recent call last)",
      "\u001b[0;32mpandas/index.pyx\u001b[0m in \u001b[0;36mpandas.index.DatetimeEngine.get_loc (pandas/index.c:10828)\u001b[0;34m()\u001b[0m\n",
      "\u001b[0;32mpandas/hashtable.pyx\u001b[0m in \u001b[0;36mpandas.hashtable.Int64HashTable.get_item (pandas/hashtable.c:6610)\u001b[0;34m()\u001b[0m\n",
      "\u001b[0;32mpandas/hashtable.pyx\u001b[0m in \u001b[0;36mpandas.hashtable.Int64HashTable.get_item (pandas/hashtable.c:6554)\u001b[0;34m()\u001b[0m\n",
      "\u001b[0;31mKeyError\u001b[0m: 1451606400000000000",
      "\nDuring handling of the above exception, another exception occurred:\n",
      "\u001b[0;31mKeyError\u001b[0m                                  Traceback (most recent call last)",
      "\u001b[0;32m/Users/borisp/anaconda/envs/3.5/lib/python3.5/site-packages/pandas/indexes/base.py\u001b[0m in \u001b[0;36mget_loc\u001b[0;34m(self, key, method, tolerance)\u001b[0m\n\u001b[1;32m   1944\u001b[0m             \u001b[0;32mtry\u001b[0m\u001b[0;34m:\u001b[0m\u001b[0;34m\u001b[0m\u001b[0m\n\u001b[0;32m-> 1945\u001b[0;31m                 \u001b[0;32mreturn\u001b[0m \u001b[0mself\u001b[0m\u001b[0;34m.\u001b[0m\u001b[0m_engine\u001b[0m\u001b[0;34m.\u001b[0m\u001b[0mget_loc\u001b[0m\u001b[0;34m(\u001b[0m\u001b[0mkey\u001b[0m\u001b[0;34m)\u001b[0m\u001b[0;34m\u001b[0m\u001b[0m\n\u001b[0m\u001b[1;32m   1946\u001b[0m             \u001b[0;32mexcept\u001b[0m \u001b[0mKeyError\u001b[0m\u001b[0;34m:\u001b[0m\u001b[0;34m\u001b[0m\u001b[0m\n",
      "\u001b[0;32mpandas/index.pyx\u001b[0m in \u001b[0;36mpandas.index.DatetimeEngine.get_loc (pandas/index.c:11140)\u001b[0;34m()\u001b[0m\n",
      "\u001b[0;32mpandas/index.pyx\u001b[0m in \u001b[0;36mpandas.index.DatetimeEngine.get_loc (pandas/index.c:10895)\u001b[0;34m()\u001b[0m\n",
      "\u001b[0;31mKeyError\u001b[0m: Timestamp('2016-01-01 00:00:00')",
      "\nDuring handling of the above exception, another exception occurred:\n",
      "\u001b[0;31mKeyError\u001b[0m                                  Traceback (most recent call last)",
      "\u001b[0;32mpandas/index.pyx\u001b[0m in \u001b[0;36mpandas.index.DatetimeEngine.get_loc (pandas/index.c:10828)\u001b[0;34m()\u001b[0m\n",
      "\u001b[0;32mpandas/hashtable.pyx\u001b[0m in \u001b[0;36mpandas.hashtable.Int64HashTable.get_item (pandas/hashtable.c:6610)\u001b[0;34m()\u001b[0m\n",
      "\u001b[0;32mpandas/hashtable.pyx\u001b[0m in \u001b[0;36mpandas.hashtable.Int64HashTable.get_item (pandas/hashtable.c:6554)\u001b[0;34m()\u001b[0m\n",
      "\u001b[0;31mKeyError\u001b[0m: 1451606400000000000",
      "\nDuring handling of the above exception, another exception occurred:\n",
      "\u001b[0;31mKeyError\u001b[0m                                  Traceback (most recent call last)",
      "\u001b[0;32m/Users/borisp/anaconda/envs/3.5/lib/python3.5/site-packages/pandas/tseries/index.py\u001b[0m in \u001b[0;36mget_loc\u001b[0;34m(self, key, method, tolerance)\u001b[0m\n\u001b[1;32m   1439\u001b[0m                 \u001b[0mstamp\u001b[0m \u001b[0;34m=\u001b[0m \u001b[0mTimestamp\u001b[0m\u001b[0;34m(\u001b[0m\u001b[0mkey\u001b[0m\u001b[0;34m,\u001b[0m \u001b[0mtz\u001b[0m\u001b[0;34m=\u001b[0m\u001b[0mself\u001b[0m\u001b[0;34m.\u001b[0m\u001b[0mtz\u001b[0m\u001b[0;34m)\u001b[0m\u001b[0;34m\u001b[0m\u001b[0m\n\u001b[0;32m-> 1440\u001b[0;31m                 \u001b[0;32mreturn\u001b[0m \u001b[0mIndex\u001b[0m\u001b[0;34m.\u001b[0m\u001b[0mget_loc\u001b[0m\u001b[0;34m(\u001b[0m\u001b[0mself\u001b[0m\u001b[0;34m,\u001b[0m \u001b[0mstamp\u001b[0m\u001b[0;34m,\u001b[0m \u001b[0mmethod\u001b[0m\u001b[0;34m,\u001b[0m \u001b[0mtolerance\u001b[0m\u001b[0;34m)\u001b[0m\u001b[0;34m\u001b[0m\u001b[0m\n\u001b[0m\u001b[1;32m   1441\u001b[0m             \u001b[0;32mexcept\u001b[0m \u001b[0;34m(\u001b[0m\u001b[0mKeyError\u001b[0m\u001b[0;34m,\u001b[0m \u001b[0mValueError\u001b[0m\u001b[0;34m)\u001b[0m\u001b[0;34m:\u001b[0m\u001b[0;34m\u001b[0m\u001b[0m\n",
      "\u001b[0;32m/Users/borisp/anaconda/envs/3.5/lib/python3.5/site-packages/pandas/indexes/base.py\u001b[0m in \u001b[0;36mget_loc\u001b[0;34m(self, key, method, tolerance)\u001b[0m\n\u001b[1;32m   1946\u001b[0m             \u001b[0;32mexcept\u001b[0m \u001b[0mKeyError\u001b[0m\u001b[0;34m:\u001b[0m\u001b[0;34m\u001b[0m\u001b[0m\n\u001b[0;32m-> 1947\u001b[0;31m                 \u001b[0;32mreturn\u001b[0m \u001b[0mself\u001b[0m\u001b[0;34m.\u001b[0m\u001b[0m_engine\u001b[0m\u001b[0;34m.\u001b[0m\u001b[0mget_loc\u001b[0m\u001b[0;34m(\u001b[0m\u001b[0mself\u001b[0m\u001b[0;34m.\u001b[0m\u001b[0m_maybe_cast_indexer\u001b[0m\u001b[0;34m(\u001b[0m\u001b[0mkey\u001b[0m\u001b[0;34m)\u001b[0m\u001b[0;34m)\u001b[0m\u001b[0;34m\u001b[0m\u001b[0m\n\u001b[0m\u001b[1;32m   1948\u001b[0m \u001b[0;34m\u001b[0m\u001b[0m\n",
      "\u001b[0;32mpandas/index.pyx\u001b[0m in \u001b[0;36mpandas.index.DatetimeEngine.get_loc (pandas/index.c:11140)\u001b[0;34m()\u001b[0m\n",
      "\u001b[0;32mpandas/index.pyx\u001b[0m in \u001b[0;36mpandas.index.DatetimeEngine.get_loc (pandas/index.c:10895)\u001b[0;34m()\u001b[0m\n",
      "\u001b[0;31mKeyError\u001b[0m: Timestamp('2016-01-01 00:00:00')",
      "\nDuring handling of the above exception, another exception occurred:\n",
      "\u001b[0;31mKeyError\u001b[0m                                  Traceback (most recent call last)",
      "\u001b[0;32m<ipython-input-62-7bfeb55d4b0b>\u001b[0m in \u001b[0;36m<module>\u001b[0;34m()\u001b[0m\n\u001b[0;32m----> 1\u001b[0;31m \u001b[0mstocks\u001b[0m\u001b[0;34m.\u001b[0m\u001b[0mix\u001b[0m\u001b[0;34m[\u001b[0m\u001b[0;34m\"2016-01-01\"\u001b[0m\u001b[0;34m]\u001b[0m\u001b[0;34m\u001b[0m\u001b[0m\n\u001b[0m",
      "\u001b[0;32m/Users/borisp/anaconda/envs/3.5/lib/python3.5/site-packages/pandas/core/indexing.py\u001b[0m in \u001b[0;36m__getitem__\u001b[0;34m(self, key)\u001b[0m\n\u001b[1;32m     76\u001b[0m         \u001b[0;32melse\u001b[0m\u001b[0;34m:\u001b[0m\u001b[0;34m\u001b[0m\u001b[0m\n\u001b[1;32m     77\u001b[0m             \u001b[0mkey\u001b[0m \u001b[0;34m=\u001b[0m \u001b[0mcom\u001b[0m\u001b[0;34m.\u001b[0m\u001b[0m_apply_if_callable\u001b[0m\u001b[0;34m(\u001b[0m\u001b[0mkey\u001b[0m\u001b[0;34m,\u001b[0m \u001b[0mself\u001b[0m\u001b[0;34m.\u001b[0m\u001b[0mobj\u001b[0m\u001b[0;34m)\u001b[0m\u001b[0;34m\u001b[0m\u001b[0m\n\u001b[0;32m---> 78\u001b[0;31m             \u001b[0;32mreturn\u001b[0m \u001b[0mself\u001b[0m\u001b[0;34m.\u001b[0m\u001b[0m_getitem_axis\u001b[0m\u001b[0;34m(\u001b[0m\u001b[0mkey\u001b[0m\u001b[0;34m,\u001b[0m \u001b[0maxis\u001b[0m\u001b[0;34m=\u001b[0m\u001b[0;36m0\u001b[0m\u001b[0;34m)\u001b[0m\u001b[0;34m\u001b[0m\u001b[0m\n\u001b[0m\u001b[1;32m     79\u001b[0m \u001b[0;34m\u001b[0m\u001b[0m\n\u001b[1;32m     80\u001b[0m     \u001b[0;32mdef\u001b[0m \u001b[0m_get_label\u001b[0m\u001b[0;34m(\u001b[0m\u001b[0mself\u001b[0m\u001b[0;34m,\u001b[0m \u001b[0mlabel\u001b[0m\u001b[0;34m,\u001b[0m \u001b[0maxis\u001b[0m\u001b[0;34m=\u001b[0m\u001b[0;36m0\u001b[0m\u001b[0;34m)\u001b[0m\u001b[0;34m:\u001b[0m\u001b[0;34m\u001b[0m\u001b[0m\n",
      "\u001b[0;32m/Users/borisp/anaconda/envs/3.5/lib/python3.5/site-packages/pandas/core/indexing.py\u001b[0m in \u001b[0;36m_getitem_axis\u001b[0;34m(self, key, axis)\u001b[0m\n\u001b[1;32m   1016\u001b[0m                     \u001b[0;32mreturn\u001b[0m \u001b[0mself\u001b[0m\u001b[0;34m.\u001b[0m\u001b[0m_get_loc\u001b[0m\u001b[0;34m(\u001b[0m\u001b[0mkey\u001b[0m\u001b[0;34m,\u001b[0m \u001b[0maxis\u001b[0m\u001b[0;34m=\u001b[0m\u001b[0maxis\u001b[0m\u001b[0;34m)\u001b[0m\u001b[0;34m\u001b[0m\u001b[0m\n\u001b[1;32m   1017\u001b[0m \u001b[0;34m\u001b[0m\u001b[0m\n\u001b[0;32m-> 1018\u001b[0;31m             \u001b[0;32mreturn\u001b[0m \u001b[0mself\u001b[0m\u001b[0;34m.\u001b[0m\u001b[0m_get_label\u001b[0m\u001b[0;34m(\u001b[0m\u001b[0mkey\u001b[0m\u001b[0;34m,\u001b[0m \u001b[0maxis\u001b[0m\u001b[0;34m=\u001b[0m\u001b[0maxis\u001b[0m\u001b[0;34m)\u001b[0m\u001b[0;34m\u001b[0m\u001b[0m\n\u001b[0m\u001b[1;32m   1019\u001b[0m \u001b[0;34m\u001b[0m\u001b[0m\n\u001b[1;32m   1020\u001b[0m     \u001b[0;32mdef\u001b[0m \u001b[0m_getitem_iterable\u001b[0m\u001b[0;34m(\u001b[0m\u001b[0mself\u001b[0m\u001b[0;34m,\u001b[0m \u001b[0mkey\u001b[0m\u001b[0;34m,\u001b[0m \u001b[0maxis\u001b[0m\u001b[0;34m=\u001b[0m\u001b[0;36m0\u001b[0m\u001b[0;34m)\u001b[0m\u001b[0;34m:\u001b[0m\u001b[0;34m\u001b[0m\u001b[0m\n",
      "\u001b[0;32m/Users/borisp/anaconda/envs/3.5/lib/python3.5/site-packages/pandas/core/indexing.py\u001b[0m in \u001b[0;36m_get_label\u001b[0;34m(self, label, axis)\u001b[0m\n\u001b[1;32m     91\u001b[0m             \u001b[0;32mraise\u001b[0m \u001b[0mIndexingError\u001b[0m\u001b[0;34m(\u001b[0m\u001b[0;34m'no slices here, handle elsewhere'\u001b[0m\u001b[0;34m)\u001b[0m\u001b[0;34m\u001b[0m\u001b[0m\n\u001b[1;32m     92\u001b[0m \u001b[0;34m\u001b[0m\u001b[0m\n\u001b[0;32m---> 93\u001b[0;31m         \u001b[0;32mreturn\u001b[0m \u001b[0mself\u001b[0m\u001b[0;34m.\u001b[0m\u001b[0mobj\u001b[0m\u001b[0;34m.\u001b[0m\u001b[0m_xs\u001b[0m\u001b[0;34m(\u001b[0m\u001b[0mlabel\u001b[0m\u001b[0;34m,\u001b[0m \u001b[0maxis\u001b[0m\u001b[0;34m=\u001b[0m\u001b[0maxis\u001b[0m\u001b[0;34m)\u001b[0m\u001b[0;34m\u001b[0m\u001b[0m\n\u001b[0m\u001b[1;32m     94\u001b[0m \u001b[0;34m\u001b[0m\u001b[0m\n\u001b[1;32m     95\u001b[0m     \u001b[0;32mdef\u001b[0m \u001b[0m_get_loc\u001b[0m\u001b[0;34m(\u001b[0m\u001b[0mself\u001b[0m\u001b[0;34m,\u001b[0m \u001b[0mkey\u001b[0m\u001b[0;34m,\u001b[0m \u001b[0maxis\u001b[0m\u001b[0;34m=\u001b[0m\u001b[0;36m0\u001b[0m\u001b[0;34m)\u001b[0m\u001b[0;34m:\u001b[0m\u001b[0;34m\u001b[0m\u001b[0m\n",
      "\u001b[0;32m/Users/borisp/anaconda/envs/3.5/lib/python3.5/site-packages/pandas/core/generic.py\u001b[0m in \u001b[0;36mxs\u001b[0;34m(self, key, axis, level, copy, drop_level)\u001b[0m\n\u001b[1;32m   1747\u001b[0m                                                       drop_level=drop_level)\n\u001b[1;32m   1748\u001b[0m         \u001b[0;32melse\u001b[0m\u001b[0;34m:\u001b[0m\u001b[0;34m\u001b[0m\u001b[0m\n\u001b[0;32m-> 1749\u001b[0;31m             \u001b[0mloc\u001b[0m \u001b[0;34m=\u001b[0m \u001b[0mself\u001b[0m\u001b[0;34m.\u001b[0m\u001b[0mindex\u001b[0m\u001b[0;34m.\u001b[0m\u001b[0mget_loc\u001b[0m\u001b[0;34m(\u001b[0m\u001b[0mkey\u001b[0m\u001b[0;34m)\u001b[0m\u001b[0;34m\u001b[0m\u001b[0m\n\u001b[0m\u001b[1;32m   1750\u001b[0m \u001b[0;34m\u001b[0m\u001b[0m\n\u001b[1;32m   1751\u001b[0m             \u001b[0;32mif\u001b[0m \u001b[0misinstance\u001b[0m\u001b[0;34m(\u001b[0m\u001b[0mloc\u001b[0m\u001b[0;34m,\u001b[0m \u001b[0mnp\u001b[0m\u001b[0;34m.\u001b[0m\u001b[0mndarray\u001b[0m\u001b[0;34m)\u001b[0m\u001b[0;34m:\u001b[0m\u001b[0;34m\u001b[0m\u001b[0m\n",
      "\u001b[0;32m/Users/borisp/anaconda/envs/3.5/lib/python3.5/site-packages/pandas/tseries/index.py\u001b[0m in \u001b[0;36mget_loc\u001b[0;34m(self, key, method, tolerance)\u001b[0m\n\u001b[1;32m   1440\u001b[0m                 \u001b[0;32mreturn\u001b[0m \u001b[0mIndex\u001b[0m\u001b[0;34m.\u001b[0m\u001b[0mget_loc\u001b[0m\u001b[0;34m(\u001b[0m\u001b[0mself\u001b[0m\u001b[0;34m,\u001b[0m \u001b[0mstamp\u001b[0m\u001b[0;34m,\u001b[0m \u001b[0mmethod\u001b[0m\u001b[0;34m,\u001b[0m \u001b[0mtolerance\u001b[0m\u001b[0;34m)\u001b[0m\u001b[0;34m\u001b[0m\u001b[0m\n\u001b[1;32m   1441\u001b[0m             \u001b[0;32mexcept\u001b[0m \u001b[0;34m(\u001b[0m\u001b[0mKeyError\u001b[0m\u001b[0;34m,\u001b[0m \u001b[0mValueError\u001b[0m\u001b[0;34m)\u001b[0m\u001b[0;34m:\u001b[0m\u001b[0;34m\u001b[0m\u001b[0m\n\u001b[0;32m-> 1442\u001b[0;31m                 \u001b[0;32mraise\u001b[0m \u001b[0mKeyError\u001b[0m\u001b[0;34m(\u001b[0m\u001b[0mkey\u001b[0m\u001b[0;34m)\u001b[0m\u001b[0;34m\u001b[0m\u001b[0m\n\u001b[0m\u001b[1;32m   1443\u001b[0m \u001b[0;34m\u001b[0m\u001b[0m\n\u001b[1;32m   1444\u001b[0m     \u001b[0;32mdef\u001b[0m \u001b[0m_maybe_cast_slice_bound\u001b[0m\u001b[0;34m(\u001b[0m\u001b[0mself\u001b[0m\u001b[0;34m,\u001b[0m \u001b[0mlabel\u001b[0m\u001b[0;34m,\u001b[0m \u001b[0mside\u001b[0m\u001b[0;34m,\u001b[0m \u001b[0mkind\u001b[0m\u001b[0;34m)\u001b[0m\u001b[0;34m:\u001b[0m\u001b[0;34m\u001b[0m\u001b[0m\n",
      "\u001b[0;31mKeyError\u001b[0m: '2016-01-01'"
     ]
    }
   ],
   "source": [
    "stocks.ix[\"2016-01-01\"]"
   ]
  },
  {
   "cell_type": "code",
   "execution_count": 64,
   "metadata": {},
   "outputs": [
    {
     "data": {
      "text/html": [
       "<div>\n",
       "<table border=\"1\" class=\"dataframe\">\n",
       "  <thead>\n",
       "    <tr style=\"text-align: right;\">\n",
       "      <th></th>\n",
       "      <th>Open</th>\n",
       "      <th>High</th>\n",
       "      <th>Low</th>\n",
       "      <th>Close</th>\n",
       "      <th>Volume</th>\n",
       "    </tr>\n",
       "    <tr>\n",
       "      <th>Date</th>\n",
       "      <th></th>\n",
       "      <th></th>\n",
       "      <th></th>\n",
       "      <th></th>\n",
       "      <th></th>\n",
       "    </tr>\n",
       "  </thead>\n",
       "  <tbody>\n",
       "    <tr>\n",
       "      <th>2013-10-01</th>\n",
       "      <td>33.35</td>\n",
       "      <td>33.61</td>\n",
       "      <td>33.30</td>\n",
       "      <td>33.58</td>\n",
       "      <td>36718733</td>\n",
       "    </tr>\n",
       "    <tr>\n",
       "      <th>2013-10-02</th>\n",
       "      <td>33.36</td>\n",
       "      <td>34.03</td>\n",
       "      <td>33.29</td>\n",
       "      <td>33.92</td>\n",
       "      <td>46946813</td>\n",
       "    </tr>\n",
       "    <tr>\n",
       "      <th>2013-10-03</th>\n",
       "      <td>33.88</td>\n",
       "      <td>34.00</td>\n",
       "      <td>33.42</td>\n",
       "      <td>33.86</td>\n",
       "      <td>38707452</td>\n",
       "    </tr>\n",
       "    <tr>\n",
       "      <th>2013-10-04</th>\n",
       "      <td>33.69</td>\n",
       "      <td>33.99</td>\n",
       "      <td>33.62</td>\n",
       "      <td>33.88</td>\n",
       "      <td>33008107</td>\n",
       "    </tr>\n",
       "    <tr>\n",
       "      <th>2013-10-07</th>\n",
       "      <td>33.60</td>\n",
       "      <td>33.71</td>\n",
       "      <td>33.20</td>\n",
       "      <td>33.30</td>\n",
       "      <td>35069279</td>\n",
       "    </tr>\n",
       "  </tbody>\n",
       "</table>\n",
       "</div>"
      ],
      "text/plain": [
       "             Open   High    Low  Close    Volume\n",
       "Date                                            \n",
       "2013-10-01  33.35  33.61  33.30  33.58  36718733\n",
       "2013-10-02  33.36  34.03  33.29  33.92  46946813\n",
       "2013-10-03  33.88  34.00  33.42  33.86  38707452\n",
       "2013-10-04  33.69  33.99  33.62  33.88  33008107\n",
       "2013-10-07  33.60  33.71  33.20  33.30  35069279"
      ]
     },
     "execution_count": 64,
     "metadata": {},
     "output_type": "execute_result"
    }
   ],
   "source": [
    "stocks.loc[\"2013-10-01\" : \"2013-10-07\"]\n",
    "stocks.ix[\"2013-10-01\" : \"2013-10-07\"]"
   ]
  },
  {
   "cell_type": "code",
   "execution_count": 14,
   "metadata": {},
   "outputs": [
    {
     "data": {
      "text/html": [
       "<div>\n",
       "<style scoped>\n",
       "    .dataframe tbody tr th:only-of-type {\n",
       "        vertical-align: middle;\n",
       "    }\n",
       "\n",
       "    .dataframe tbody tr th {\n",
       "        vertical-align: top;\n",
       "    }\n",
       "\n",
       "    .dataframe thead th {\n",
       "        text-align: right;\n",
       "    }\n",
       "</style>\n",
       "<table border=\"1\" class=\"dataframe\">\n",
       "  <thead>\n",
       "    <tr style=\"text-align: right;\">\n",
       "      <th></th>\n",
       "      <th>High</th>\n",
       "      <th>Low</th>\n",
       "      <th>Open</th>\n",
       "      <th>Close</th>\n",
       "      <th>Volume</th>\n",
       "      <th>Adj Close</th>\n",
       "    </tr>\n",
       "    <tr>\n",
       "      <th>Date</th>\n",
       "      <th></th>\n",
       "      <th></th>\n",
       "      <th></th>\n",
       "      <th></th>\n",
       "      <th></th>\n",
       "      <th></th>\n",
       "    </tr>\n",
       "  </thead>\n",
       "  <tbody>\n",
       "    <tr>\n",
       "      <th>2010-04-12</th>\n",
       "      <td>30.490000</td>\n",
       "      <td>30.209999</td>\n",
       "      <td>30.250000</td>\n",
       "      <td>30.320000</td>\n",
       "      <td>37068800.0</td>\n",
       "      <td>24.058039</td>\n",
       "    </tr>\n",
       "    <tr>\n",
       "      <th>2011-04-12</th>\n",
       "      <td>25.850000</td>\n",
       "      <td>25.549999</td>\n",
       "      <td>25.830000</td>\n",
       "      <td>25.639999</td>\n",
       "      <td>36920400.0</td>\n",
       "      <td>20.793827</td>\n",
       "    </tr>\n",
       "    <tr>\n",
       "      <th>2012-04-12</th>\n",
       "      <td>31.040001</td>\n",
       "      <td>30.420000</td>\n",
       "      <td>30.480000</td>\n",
       "      <td>30.980000</td>\n",
       "      <td>38304000.0</td>\n",
       "      <td>25.809261</td>\n",
       "    </tr>\n",
       "    <tr>\n",
       "      <th>2013-04-12</th>\n",
       "      <td>29.020000</td>\n",
       "      <td>28.660000</td>\n",
       "      <td>28.850000</td>\n",
       "      <td>28.790001</td>\n",
       "      <td>62886300.0</td>\n",
       "      <td>24.704655</td>\n",
       "    </tr>\n",
       "    <tr>\n",
       "      <th>2016-04-12</th>\n",
       "      <td>54.779999</td>\n",
       "      <td>53.759998</td>\n",
       "      <td>54.369999</td>\n",
       "      <td>54.650002</td>\n",
       "      <td>24944300.0</td>\n",
       "      <td>50.932743</td>\n",
       "    </tr>\n",
       "    <tr>\n",
       "      <th>2017-04-12</th>\n",
       "      <td>65.510002</td>\n",
       "      <td>65.110001</td>\n",
       "      <td>65.419998</td>\n",
       "      <td>65.230003</td>\n",
       "      <td>17108500.0</td>\n",
       "      <td>62.391968</td>\n",
       "    </tr>\n",
       "  </tbody>\n",
       "</table>\n",
       "</div>"
      ],
      "text/plain": [
       "                 High        Low       Open      Close      Volume  Adj Close\n",
       "Date                                                                         \n",
       "2010-04-12  30.490000  30.209999  30.250000  30.320000  37068800.0  24.058039\n",
       "2011-04-12  25.850000  25.549999  25.830000  25.639999  36920400.0  20.793827\n",
       "2012-04-12  31.040001  30.420000  30.480000  30.980000  38304000.0  25.809261\n",
       "2013-04-12  29.020000  28.660000  28.850000  28.790001  62886300.0  24.704655\n",
       "2016-04-12  54.779999  53.759998  54.369999  54.650002  24944300.0  50.932743\n",
       "2017-04-12  65.510002  65.110001  65.419998  65.230003  17108500.0  62.391968"
      ]
     },
     "execution_count": 14,
     "metadata": {},
     "output_type": "execute_result"
    }
   ],
   "source": [
    "birthdays = pd.date_range(start = \"1991-04-12\", end = \"2017-12-31\", freq = pd.DateOffset(years = 1))\n",
    "mask = stocks.index.isin(birthdays)\n",
    "stocks[mask]"
   ]
  },
  {
   "cell_type": "markdown",
   "metadata": {
    "collapsed": true
   },
   "source": [
    "## `Timestamp` Object Attributes"
   ]
  },
  {
   "cell_type": "markdown",
   "metadata": {},
   "source": [
    "- Timestamp 有直接可以调用的函数\n",
    "    - someday.day\n",
    "    - someday.month\n",
    "    - someday.year\n",
    "    - someday.weekday_name\n",
    "    - someday.is_month_end\n",
    "    - someday.is_month_start\n",
    "- 就stock，新加补充列 如stocks.index.weekday_name（若用Index就不用dt.了）\n",
    "    - stocks.insert(0, \"Day of Week\", stocks.index.weekday_name) 即在0位插入列\"Day of Week\"\n",
    "    - stocks.insert(1, \"Is Start of Month\", stocks.index.is_month_start)\n",
    "    - stocks[stocks[\"Is Start of Month\"]]"
   ]
  },
  {
   "cell_type": "code",
   "execution_count": 73,
   "metadata": {},
   "outputs": [
    {
     "data": {
      "text/html": [
       "<div>\n",
       "<table border=\"1\" class=\"dataframe\">\n",
       "  <thead>\n",
       "    <tr style=\"text-align: right;\">\n",
       "      <th></th>\n",
       "      <th>Open</th>\n",
       "      <th>High</th>\n",
       "      <th>Low</th>\n",
       "      <th>Close</th>\n",
       "      <th>Volume</th>\n",
       "    </tr>\n",
       "    <tr>\n",
       "      <th>Date</th>\n",
       "      <th></th>\n",
       "      <th></th>\n",
       "      <th></th>\n",
       "      <th></th>\n",
       "      <th></th>\n",
       "    </tr>\n",
       "  </thead>\n",
       "  <tbody>\n",
       "    <tr>\n",
       "      <th>2010-01-04</th>\n",
       "      <td>30.62</td>\n",
       "      <td>31.10</td>\n",
       "      <td>30.59</td>\n",
       "      <td>30.95</td>\n",
       "      <td>38414185</td>\n",
       "    </tr>\n",
       "    <tr>\n",
       "      <th>2010-01-05</th>\n",
       "      <td>30.85</td>\n",
       "      <td>31.10</td>\n",
       "      <td>30.64</td>\n",
       "      <td>30.96</td>\n",
       "      <td>49758862</td>\n",
       "    </tr>\n",
       "    <tr>\n",
       "      <th>2010-01-06</th>\n",
       "      <td>30.88</td>\n",
       "      <td>31.08</td>\n",
       "      <td>30.52</td>\n",
       "      <td>30.77</td>\n",
       "      <td>58182332</td>\n",
       "    </tr>\n",
       "  </tbody>\n",
       "</table>\n",
       "</div>"
      ],
      "text/plain": [
       "             Open   High    Low  Close    Volume\n",
       "Date                                            \n",
       "2010-01-04  30.62  31.10  30.59  30.95  38414185\n",
       "2010-01-05  30.85  31.10  30.64  30.96  49758862\n",
       "2010-01-06  30.88  31.08  30.52  30.77  58182332"
      ]
     },
     "execution_count": 73,
     "metadata": {},
     "output_type": "execute_result"
    }
   ],
   "source": [
    "stocks = data.DataReader(name = company, data_source = \"google\", start = start, end = end)\n",
    "stocks.head(3)"
   ]
  },
  {
   "cell_type": "code",
   "execution_count": 76,
   "metadata": {},
   "outputs": [
    {
     "data": {
      "text/plain": [
       "Timestamp('2011-12-28 00:00:00')"
      ]
     },
     "execution_count": 76,
     "metadata": {},
     "output_type": "execute_result"
    }
   ],
   "source": [
    "someday = stocks.index[500]\n",
    "someday"
   ]
  },
  {
   "cell_type": "code",
   "execution_count": 82,
   "metadata": {},
   "outputs": [
    {
     "data": {
      "text/plain": [
       "False"
      ]
     },
     "execution_count": 82,
     "metadata": {},
     "output_type": "execute_result"
    }
   ],
   "source": [
    "someday.day\n",
    "someday.month\n",
    "someday.year\n",
    "someday.weekday_name\n",
    "someday.is_month_end\n",
    "someday.is_month_start"
   ]
  },
  {
   "cell_type": "code",
   "execution_count": 36,
   "metadata": {},
   "outputs": [
    {
     "data": {
      "text/html": [
       "<div>\n",
       "<style scoped>\n",
       "    .dataframe tbody tr th:only-of-type {\n",
       "        vertical-align: middle;\n",
       "    }\n",
       "\n",
       "    .dataframe tbody tr th {\n",
       "        vertical-align: top;\n",
       "    }\n",
       "\n",
       "    .dataframe thead th {\n",
       "        text-align: right;\n",
       "    }\n",
       "</style>\n",
       "<table border=\"1\" class=\"dataframe\">\n",
       "  <thead>\n",
       "    <tr style=\"text-align: right;\">\n",
       "      <th></th>\n",
       "      <th>Day of Week</th>\n",
       "      <th>Is Start of Month</th>\n",
       "      <th>High</th>\n",
       "      <th>Low</th>\n",
       "      <th>Open</th>\n",
       "      <th>Close</th>\n",
       "      <th>Volume</th>\n",
       "      <th>Adj Close</th>\n",
       "    </tr>\n",
       "    <tr>\n",
       "      <th>Date</th>\n",
       "      <th></th>\n",
       "      <th></th>\n",
       "      <th></th>\n",
       "      <th></th>\n",
       "      <th></th>\n",
       "      <th></th>\n",
       "      <th></th>\n",
       "      <th></th>\n",
       "    </tr>\n",
       "  </thead>\n",
       "  <tbody>\n",
       "    <tr>\n",
       "      <th>2010-02-01</th>\n",
       "      <td>Monday</td>\n",
       "      <td>True</td>\n",
       "      <td>28.480000</td>\n",
       "      <td>27.920000</td>\n",
       "      <td>28.389999</td>\n",
       "      <td>28.410000</td>\n",
       "      <td>85931100.0</td>\n",
       "      <td>22.437580</td>\n",
       "    </tr>\n",
       "    <tr>\n",
       "      <th>2010-03-01</th>\n",
       "      <td>Monday</td>\n",
       "      <td>True</td>\n",
       "      <td>29.049999</td>\n",
       "      <td>28.530001</td>\n",
       "      <td>28.770000</td>\n",
       "      <td>29.020000</td>\n",
       "      <td>43805400.0</td>\n",
       "      <td>23.026525</td>\n",
       "    </tr>\n",
       "    <tr>\n",
       "      <th>2010-04-01</th>\n",
       "      <td>Thursday</td>\n",
       "      <td>True</td>\n",
       "      <td>29.540001</td>\n",
       "      <td>28.620001</td>\n",
       "      <td>29.350000</td>\n",
       "      <td>29.160000</td>\n",
       "      <td>74768100.0</td>\n",
       "      <td>23.137602</td>\n",
       "    </tr>\n",
       "    <tr>\n",
       "      <th>2010-06-01</th>\n",
       "      <td>Tuesday</td>\n",
       "      <td>True</td>\n",
       "      <td>26.309999</td>\n",
       "      <td>25.520000</td>\n",
       "      <td>25.530001</td>\n",
       "      <td>25.889999</td>\n",
       "      <td>76152400.0</td>\n",
       "      <td>20.635656</td>\n",
       "    </tr>\n",
       "    <tr>\n",
       "      <th>2010-07-01</th>\n",
       "      <td>Thursday</td>\n",
       "      <td>True</td>\n",
       "      <td>23.320000</td>\n",
       "      <td>22.730000</td>\n",
       "      <td>23.090000</td>\n",
       "      <td>23.160000</td>\n",
       "      <td>92239400.0</td>\n",
       "      <td>18.459715</td>\n",
       "    </tr>\n",
       "    <tr>\n",
       "      <th>2010-09-01</th>\n",
       "      <td>Wednesday</td>\n",
       "      <td>True</td>\n",
       "      <td>23.950001</td>\n",
       "      <td>23.540001</td>\n",
       "      <td>23.670000</td>\n",
       "      <td>23.900000</td>\n",
       "      <td>65235900.0</td>\n",
       "      <td>19.151144</td>\n",
       "    </tr>\n",
       "    <tr>\n",
       "      <th>2010-10-01</th>\n",
       "      <td>Friday</td>\n",
       "      <td>True</td>\n",
       "      <td>24.820000</td>\n",
       "      <td>24.299999</td>\n",
       "      <td>24.770000</td>\n",
       "      <td>24.379999</td>\n",
       "      <td>62672300.0</td>\n",
       "      <td>19.535769</td>\n",
       "    </tr>\n",
       "    <tr>\n",
       "      <th>2010-11-01</th>\n",
       "      <td>Monday</td>\n",
       "      <td>True</td>\n",
       "      <td>27.219999</td>\n",
       "      <td>26.700001</td>\n",
       "      <td>26.879999</td>\n",
       "      <td>26.950001</td>\n",
       "      <td>61912100.0</td>\n",
       "      <td>21.595112</td>\n",
       "    </tr>\n",
       "    <tr>\n",
       "      <th>2010-12-01</th>\n",
       "      <td>Wednesday</td>\n",
       "      <td>True</td>\n",
       "      <td>26.250000</td>\n",
       "      <td>25.559999</td>\n",
       "      <td>25.570000</td>\n",
       "      <td>26.040001</td>\n",
       "      <td>74123500.0</td>\n",
       "      <td>20.994139</td>\n",
       "    </tr>\n",
       "    <tr>\n",
       "      <th>2011-02-01</th>\n",
       "      <td>Tuesday</td>\n",
       "      <td>True</td>\n",
       "      <td>28.059999</td>\n",
       "      <td>27.610001</td>\n",
       "      <td>27.799999</td>\n",
       "      <td>27.990000</td>\n",
       "      <td>62810700.0</td>\n",
       "      <td>22.566280</td>\n",
       "    </tr>\n",
       "    <tr>\n",
       "      <th>2011-03-01</th>\n",
       "      <td>Tuesday</td>\n",
       "      <td>True</td>\n",
       "      <td>26.780001</td>\n",
       "      <td>26.150000</td>\n",
       "      <td>26.600000</td>\n",
       "      <td>26.160000</td>\n",
       "      <td>60055000.0</td>\n",
       "      <td>21.215551</td>\n",
       "    </tr>\n",
       "    <tr>\n",
       "      <th>2011-04-01</th>\n",
       "      <td>Friday</td>\n",
       "      <td>True</td>\n",
       "      <td>25.530001</td>\n",
       "      <td>25.309999</td>\n",
       "      <td>25.530001</td>\n",
       "      <td>25.480000</td>\n",
       "      <td>63114200.0</td>\n",
       "      <td>20.664076</td>\n",
       "    </tr>\n",
       "    <tr>\n",
       "      <th>2011-06-01</th>\n",
       "      <td>Wednesday</td>\n",
       "      <td>True</td>\n",
       "      <td>25.100000</td>\n",
       "      <td>24.370001</td>\n",
       "      <td>24.990000</td>\n",
       "      <td>24.430000</td>\n",
       "      <td>74033500.0</td>\n",
       "      <td>19.942396</td>\n",
       "    </tr>\n",
       "    <tr>\n",
       "      <th>2011-07-01</th>\n",
       "      <td>Friday</td>\n",
       "      <td>True</td>\n",
       "      <td>26.170000</td>\n",
       "      <td>25.840000</td>\n",
       "      <td>25.930000</td>\n",
       "      <td>26.020000</td>\n",
       "      <td>52906200.0</td>\n",
       "      <td>21.240322</td>\n",
       "    </tr>\n",
       "    <tr>\n",
       "      <th>2011-08-01</th>\n",
       "      <td>Monday</td>\n",
       "      <td>True</td>\n",
       "      <td>27.690001</td>\n",
       "      <td>26.750000</td>\n",
       "      <td>27.510000</td>\n",
       "      <td>27.270000</td>\n",
       "      <td>61838400.0</td>\n",
       "      <td>22.260714</td>\n",
       "    </tr>\n",
       "    <tr>\n",
       "      <th>2011-09-01</th>\n",
       "      <td>Thursday</td>\n",
       "      <td>True</td>\n",
       "      <td>26.860001</td>\n",
       "      <td>26.209999</td>\n",
       "      <td>26.459999</td>\n",
       "      <td>26.209999</td>\n",
       "      <td>60510800.0</td>\n",
       "      <td>21.530468</td>\n",
       "    </tr>\n",
       "    <tr>\n",
       "      <th>2011-11-01</th>\n",
       "      <td>Tuesday</td>\n",
       "      <td>True</td>\n",
       "      <td>26.320000</td>\n",
       "      <td>25.860001</td>\n",
       "      <td>26.190001</td>\n",
       "      <td>25.990000</td>\n",
       "      <td>61182600.0</td>\n",
       "      <td>21.349743</td>\n",
       "    </tr>\n",
       "    <tr>\n",
       "      <th>2011-12-01</th>\n",
       "      <td>Thursday</td>\n",
       "      <td>True</td>\n",
       "      <td>25.629999</td>\n",
       "      <td>25.200001</td>\n",
       "      <td>25.559999</td>\n",
       "      <td>25.280001</td>\n",
       "      <td>48545400.0</td>\n",
       "      <td>20.922884</td>\n",
       "    </tr>\n",
       "    <tr>\n",
       "      <th>2012-02-01</th>\n",
       "      <td>Wednesday</td>\n",
       "      <td>True</td>\n",
       "      <td>30.049999</td>\n",
       "      <td>29.760000</td>\n",
       "      <td>29.790001</td>\n",
       "      <td>29.889999</td>\n",
       "      <td>67409900.0</td>\n",
       "      <td>24.738325</td>\n",
       "    </tr>\n",
       "    <tr>\n",
       "      <th>2012-03-01</th>\n",
       "      <td>Thursday</td>\n",
       "      <td>True</td>\n",
       "      <td>32.389999</td>\n",
       "      <td>31.850000</td>\n",
       "      <td>31.930000</td>\n",
       "      <td>32.290001</td>\n",
       "      <td>77344100.0</td>\n",
       "      <td>26.900608</td>\n",
       "    </tr>\n",
       "    <tr>\n",
       "      <th>2012-05-01</th>\n",
       "      <td>Tuesday</td>\n",
       "      <td>True</td>\n",
       "      <td>32.340000</td>\n",
       "      <td>31.950001</td>\n",
       "      <td>32.049999</td>\n",
       "      <td>32.009998</td>\n",
       "      <td>43832300.0</td>\n",
       "      <td>26.667349</td>\n",
       "    </tr>\n",
       "    <tr>\n",
       "      <th>2012-06-01</th>\n",
       "      <td>Friday</td>\n",
       "      <td>True</td>\n",
       "      <td>28.959999</td>\n",
       "      <td>28.440001</td>\n",
       "      <td>28.760000</td>\n",
       "      <td>28.450001</td>\n",
       "      <td>56634300.0</td>\n",
       "      <td>23.857056</td>\n",
       "    </tr>\n",
       "    <tr>\n",
       "      <th>2012-08-01</th>\n",
       "      <td>Wednesday</td>\n",
       "      <td>True</td>\n",
       "      <td>29.650000</td>\n",
       "      <td>29.209999</td>\n",
       "      <td>29.590000</td>\n",
       "      <td>29.410000</td>\n",
       "      <td>31721800.0</td>\n",
       "      <td>24.662073</td>\n",
       "    </tr>\n",
       "    <tr>\n",
       "      <th>2012-10-01</th>\n",
       "      <td>Monday</td>\n",
       "      <td>True</td>\n",
       "      <td>29.980000</td>\n",
       "      <td>29.420000</td>\n",
       "      <td>29.809999</td>\n",
       "      <td>29.490000</td>\n",
       "      <td>54042700.0</td>\n",
       "      <td>24.892981</td>\n",
       "    </tr>\n",
       "    <tr>\n",
       "      <th>2012-11-01</th>\n",
       "      <td>Thursday</td>\n",
       "      <td>True</td>\n",
       "      <td>29.559999</td>\n",
       "      <td>28.820000</td>\n",
       "      <td>28.840000</td>\n",
       "      <td>29.520000</td>\n",
       "      <td>72047900.0</td>\n",
       "      <td>24.918303</td>\n",
       "    </tr>\n",
       "    <tr>\n",
       "      <th>2013-02-01</th>\n",
       "      <td>Friday</td>\n",
       "      <td>True</td>\n",
       "      <td>28.049999</td>\n",
       "      <td>27.549999</td>\n",
       "      <td>27.670000</td>\n",
       "      <td>27.930000</td>\n",
       "      <td>55565900.0</td>\n",
       "      <td>23.769892</td>\n",
       "    </tr>\n",
       "    <tr>\n",
       "      <th>2013-03-01</th>\n",
       "      <td>Friday</td>\n",
       "      <td>True</td>\n",
       "      <td>27.980000</td>\n",
       "      <td>27.520000</td>\n",
       "      <td>27.719999</td>\n",
       "      <td>27.950001</td>\n",
       "      <td>34849700.0</td>\n",
       "      <td>23.983852</td>\n",
       "    </tr>\n",
       "    <tr>\n",
       "      <th>2013-04-01</th>\n",
       "      <td>Monday</td>\n",
       "      <td>True</td>\n",
       "      <td>28.660000</td>\n",
       "      <td>28.360001</td>\n",
       "      <td>28.639999</td>\n",
       "      <td>28.610001</td>\n",
       "      <td>29201100.0</td>\n",
       "      <td>24.550192</td>\n",
       "    </tr>\n",
       "    <tr>\n",
       "      <th>2013-05-01</th>\n",
       "      <td>Wednesday</td>\n",
       "      <td>True</td>\n",
       "      <td>33.080002</td>\n",
       "      <td>32.599998</td>\n",
       "      <td>32.930000</td>\n",
       "      <td>32.720001</td>\n",
       "      <td>54330900.0</td>\n",
       "      <td>28.076982</td>\n",
       "    </tr>\n",
       "    <tr>\n",
       "      <th>2013-07-01</th>\n",
       "      <td>Monday</td>\n",
       "      <td>True</td>\n",
       "      <td>34.990002</td>\n",
       "      <td>34.330002</td>\n",
       "      <td>34.750000</td>\n",
       "      <td>34.360001</td>\n",
       "      <td>31055400.0</td>\n",
       "      <td>29.691017</td>\n",
       "    </tr>\n",
       "    <tr>\n",
       "      <th>...</th>\n",
       "      <td>...</td>\n",
       "      <td>...</td>\n",
       "      <td>...</td>\n",
       "      <td>...</td>\n",
       "      <td>...</td>\n",
       "      <td>...</td>\n",
       "      <td>...</td>\n",
       "      <td>...</td>\n",
       "    </tr>\n",
       "    <tr>\n",
       "      <th>2014-04-01</th>\n",
       "      <td>Tuesday</td>\n",
       "      <td>True</td>\n",
       "      <td>41.590000</td>\n",
       "      <td>41.070000</td>\n",
       "      <td>41.150002</td>\n",
       "      <td>41.419998</td>\n",
       "      <td>32605000.0</td>\n",
       "      <td>36.589558</td>\n",
       "    </tr>\n",
       "    <tr>\n",
       "      <th>2014-05-01</th>\n",
       "      <td>Thursday</td>\n",
       "      <td>True</td>\n",
       "      <td>40.360001</td>\n",
       "      <td>39.950001</td>\n",
       "      <td>40.240002</td>\n",
       "      <td>40.000000</td>\n",
       "      <td>28787400.0</td>\n",
       "      <td>35.335155</td>\n",
       "    </tr>\n",
       "    <tr>\n",
       "      <th>2014-07-01</th>\n",
       "      <td>Tuesday</td>\n",
       "      <td>True</td>\n",
       "      <td>42.150002</td>\n",
       "      <td>41.689999</td>\n",
       "      <td>41.860001</td>\n",
       "      <td>41.869999</td>\n",
       "      <td>26917000.0</td>\n",
       "      <td>37.248013</td>\n",
       "    </tr>\n",
       "    <tr>\n",
       "      <th>2014-08-01</th>\n",
       "      <td>Friday</td>\n",
       "      <td>True</td>\n",
       "      <td>43.250000</td>\n",
       "      <td>42.599998</td>\n",
       "      <td>43.209999</td>\n",
       "      <td>42.860001</td>\n",
       "      <td>31170300.0</td>\n",
       "      <td>38.128727</td>\n",
       "    </tr>\n",
       "    <tr>\n",
       "      <th>2014-10-01</th>\n",
       "      <td>Wednesday</td>\n",
       "      <td>True</td>\n",
       "      <td>46.529999</td>\n",
       "      <td>45.849998</td>\n",
       "      <td>46.270000</td>\n",
       "      <td>45.900002</td>\n",
       "      <td>38088400.0</td>\n",
       "      <td>41.088188</td>\n",
       "    </tr>\n",
       "    <tr>\n",
       "      <th>2014-12-01</th>\n",
       "      <td>Monday</td>\n",
       "      <td>True</td>\n",
       "      <td>48.779999</td>\n",
       "      <td>47.709999</td>\n",
       "      <td>47.880001</td>\n",
       "      <td>48.619999</td>\n",
       "      <td>31191600.0</td>\n",
       "      <td>43.797543</td>\n",
       "    </tr>\n",
       "    <tr>\n",
       "      <th>2015-04-01</th>\n",
       "      <td>Wednesday</td>\n",
       "      <td>True</td>\n",
       "      <td>40.759998</td>\n",
       "      <td>40.310001</td>\n",
       "      <td>40.599998</td>\n",
       "      <td>40.720001</td>\n",
       "      <td>36865300.0</td>\n",
       "      <td>36.942169</td>\n",
       "    </tr>\n",
       "    <tr>\n",
       "      <th>2015-05-01</th>\n",
       "      <td>Friday</td>\n",
       "      <td>True</td>\n",
       "      <td>48.880001</td>\n",
       "      <td>48.400002</td>\n",
       "      <td>48.580002</td>\n",
       "      <td>48.660000</td>\n",
       "      <td>38937300.0</td>\n",
       "      <td>44.145527</td>\n",
       "    </tr>\n",
       "    <tr>\n",
       "      <th>2015-06-01</th>\n",
       "      <td>Monday</td>\n",
       "      <td>True</td>\n",
       "      <td>47.770000</td>\n",
       "      <td>46.619999</td>\n",
       "      <td>47.060001</td>\n",
       "      <td>47.230000</td>\n",
       "      <td>28837300.0</td>\n",
       "      <td>43.126656</td>\n",
       "    </tr>\n",
       "    <tr>\n",
       "      <th>2015-07-01</th>\n",
       "      <td>Wednesday</td>\n",
       "      <td>True</td>\n",
       "      <td>45.230000</td>\n",
       "      <td>44.099998</td>\n",
       "      <td>44.459999</td>\n",
       "      <td>44.450001</td>\n",
       "      <td>28343900.0</td>\n",
       "      <td>40.588188</td>\n",
       "    </tr>\n",
       "    <tr>\n",
       "      <th>2015-09-01</th>\n",
       "      <td>Tuesday</td>\n",
       "      <td>True</td>\n",
       "      <td>42.590000</td>\n",
       "      <td>41.660000</td>\n",
       "      <td>42.169998</td>\n",
       "      <td>41.820000</td>\n",
       "      <td>49688900.0</td>\n",
       "      <td>38.438499</td>\n",
       "    </tr>\n",
       "    <tr>\n",
       "      <th>2015-10-01</th>\n",
       "      <td>Thursday</td>\n",
       "      <td>True</td>\n",
       "      <td>44.750000</td>\n",
       "      <td>43.750000</td>\n",
       "      <td>44.750000</td>\n",
       "      <td>44.610001</td>\n",
       "      <td>28657900.0</td>\n",
       "      <td>41.002899</td>\n",
       "    </tr>\n",
       "    <tr>\n",
       "      <th>2015-12-01</th>\n",
       "      <td>Tuesday</td>\n",
       "      <td>True</td>\n",
       "      <td>55.230000</td>\n",
       "      <td>54.299999</td>\n",
       "      <td>54.410000</td>\n",
       "      <td>55.220001</td>\n",
       "      <td>39952800.0</td>\n",
       "      <td>51.097107</td>\n",
       "    </tr>\n",
       "    <tr>\n",
       "      <th>2016-02-01</th>\n",
       "      <td>Monday</td>\n",
       "      <td>True</td>\n",
       "      <td>55.090000</td>\n",
       "      <td>54.500000</td>\n",
       "      <td>54.880001</td>\n",
       "      <td>54.709999</td>\n",
       "      <td>44208500.0</td>\n",
       "      <td>50.625172</td>\n",
       "    </tr>\n",
       "    <tr>\n",
       "      <th>2016-03-01</th>\n",
       "      <td>Tuesday</td>\n",
       "      <td>True</td>\n",
       "      <td>52.590000</td>\n",
       "      <td>50.919998</td>\n",
       "      <td>50.970001</td>\n",
       "      <td>52.580002</td>\n",
       "      <td>33024500.0</td>\n",
       "      <td>49.003548</td>\n",
       "    </tr>\n",
       "    <tr>\n",
       "      <th>2016-04-01</th>\n",
       "      <td>Friday</td>\n",
       "      <td>True</td>\n",
       "      <td>55.610001</td>\n",
       "      <td>54.570000</td>\n",
       "      <td>55.049999</td>\n",
       "      <td>55.570000</td>\n",
       "      <td>24399200.0</td>\n",
       "      <td>51.790169</td>\n",
       "    </tr>\n",
       "    <tr>\n",
       "      <th>2016-06-01</th>\n",
       "      <td>Wednesday</td>\n",
       "      <td>True</td>\n",
       "      <td>52.950001</td>\n",
       "      <td>52.439999</td>\n",
       "      <td>52.439999</td>\n",
       "      <td>52.849998</td>\n",
       "      <td>25324800.0</td>\n",
       "      <td>49.599678</td>\n",
       "    </tr>\n",
       "    <tr>\n",
       "      <th>2016-07-01</th>\n",
       "      <td>Friday</td>\n",
       "      <td>True</td>\n",
       "      <td>51.720001</td>\n",
       "      <td>51.070000</td>\n",
       "      <td>51.130001</td>\n",
       "      <td>51.160000</td>\n",
       "      <td>21400400.0</td>\n",
       "      <td>48.013626</td>\n",
       "    </tr>\n",
       "    <tr>\n",
       "      <th>2016-08-01</th>\n",
       "      <td>Monday</td>\n",
       "      <td>True</td>\n",
       "      <td>56.750000</td>\n",
       "      <td>56.139999</td>\n",
       "      <td>56.599998</td>\n",
       "      <td>56.580002</td>\n",
       "      <td>26003400.0</td>\n",
       "      <td>53.100292</td>\n",
       "    </tr>\n",
       "    <tr>\n",
       "      <th>2016-09-01</th>\n",
       "      <td>Thursday</td>\n",
       "      <td>True</td>\n",
       "      <td>57.820000</td>\n",
       "      <td>57.009998</td>\n",
       "      <td>57.009998</td>\n",
       "      <td>57.590000</td>\n",
       "      <td>26075400.0</td>\n",
       "      <td>54.385036</td>\n",
       "    </tr>\n",
       "    <tr>\n",
       "      <th>2016-11-01</th>\n",
       "      <td>Tuesday</td>\n",
       "      <td>True</td>\n",
       "      <td>60.020000</td>\n",
       "      <td>59.250000</td>\n",
       "      <td>59.970001</td>\n",
       "      <td>59.799999</td>\n",
       "      <td>24533000.0</td>\n",
       "      <td>56.472046</td>\n",
       "    </tr>\n",
       "    <tr>\n",
       "      <th>2016-12-01</th>\n",
       "      <td>Thursday</td>\n",
       "      <td>True</td>\n",
       "      <td>60.150002</td>\n",
       "      <td>58.939999</td>\n",
       "      <td>60.110001</td>\n",
       "      <td>59.200001</td>\n",
       "      <td>34542100.0</td>\n",
       "      <td>56.283112</td>\n",
       "    </tr>\n",
       "    <tr>\n",
       "      <th>2017-02-01</th>\n",
       "      <td>Wednesday</td>\n",
       "      <td>True</td>\n",
       "      <td>64.620003</td>\n",
       "      <td>63.470001</td>\n",
       "      <td>64.360001</td>\n",
       "      <td>63.580002</td>\n",
       "      <td>39671500.0</td>\n",
       "      <td>60.447304</td>\n",
       "    </tr>\n",
       "    <tr>\n",
       "      <th>2017-03-01</th>\n",
       "      <td>Wednesday</td>\n",
       "      <td>True</td>\n",
       "      <td>64.989998</td>\n",
       "      <td>64.019997</td>\n",
       "      <td>64.129997</td>\n",
       "      <td>64.940002</td>\n",
       "      <td>26937500.0</td>\n",
       "      <td>62.114594</td>\n",
       "    </tr>\n",
       "    <tr>\n",
       "      <th>2017-05-01</th>\n",
       "      <td>Monday</td>\n",
       "      <td>True</td>\n",
       "      <td>69.550003</td>\n",
       "      <td>68.500000</td>\n",
       "      <td>68.680000</td>\n",
       "      <td>69.410004</td>\n",
       "      <td>31954400.0</td>\n",
       "      <td>66.390121</td>\n",
       "    </tr>\n",
       "    <tr>\n",
       "      <th>2017-06-01</th>\n",
       "      <td>Thursday</td>\n",
       "      <td>True</td>\n",
       "      <td>70.610001</td>\n",
       "      <td>69.449997</td>\n",
       "      <td>70.239998</td>\n",
       "      <td>70.099998</td>\n",
       "      <td>21603600.0</td>\n",
       "      <td>67.434410</td>\n",
       "    </tr>\n",
       "    <tr>\n",
       "      <th>2017-08-01</th>\n",
       "      <td>Tuesday</td>\n",
       "      <td>True</td>\n",
       "      <td>73.419998</td>\n",
       "      <td>72.489998</td>\n",
       "      <td>73.099998</td>\n",
       "      <td>72.580002</td>\n",
       "      <td>22132300.0</td>\n",
       "      <td>69.820122</td>\n",
       "    </tr>\n",
       "    <tr>\n",
       "      <th>2017-09-01</th>\n",
       "      <td>Friday</td>\n",
       "      <td>True</td>\n",
       "      <td>74.739998</td>\n",
       "      <td>73.639999</td>\n",
       "      <td>74.709999</td>\n",
       "      <td>73.940002</td>\n",
       "      <td>21736200.0</td>\n",
       "      <td>71.507362</td>\n",
       "    </tr>\n",
       "    <tr>\n",
       "      <th>2017-11-01</th>\n",
       "      <td>Wednesday</td>\n",
       "      <td>True</td>\n",
       "      <td>83.760002</td>\n",
       "      <td>82.879997</td>\n",
       "      <td>83.680000</td>\n",
       "      <td>83.180000</td>\n",
       "      <td>22307400.0</td>\n",
       "      <td>80.443352</td>\n",
       "    </tr>\n",
       "    <tr>\n",
       "      <th>2017-12-01</th>\n",
       "      <td>Friday</td>\n",
       "      <td>True</td>\n",
       "      <td>84.809998</td>\n",
       "      <td>83.220001</td>\n",
       "      <td>83.599998</td>\n",
       "      <td>84.260002</td>\n",
       "      <td>29532100.0</td>\n",
       "      <td>81.897079</td>\n",
       "    </tr>\n",
       "  </tbody>\n",
       "</table>\n",
       "<p>63 rows × 8 columns</p>\n",
       "</div>"
      ],
      "text/plain": [
       "           Day of Week  Is Start of Month       High        Low       Open  \\\n",
       "Date                                                                         \n",
       "2010-02-01      Monday               True  28.480000  27.920000  28.389999   \n",
       "2010-03-01      Monday               True  29.049999  28.530001  28.770000   \n",
       "2010-04-01    Thursday               True  29.540001  28.620001  29.350000   \n",
       "2010-06-01     Tuesday               True  26.309999  25.520000  25.530001   \n",
       "2010-07-01    Thursday               True  23.320000  22.730000  23.090000   \n",
       "2010-09-01   Wednesday               True  23.950001  23.540001  23.670000   \n",
       "2010-10-01      Friday               True  24.820000  24.299999  24.770000   \n",
       "2010-11-01      Monday               True  27.219999  26.700001  26.879999   \n",
       "2010-12-01   Wednesday               True  26.250000  25.559999  25.570000   \n",
       "2011-02-01     Tuesday               True  28.059999  27.610001  27.799999   \n",
       "2011-03-01     Tuesday               True  26.780001  26.150000  26.600000   \n",
       "2011-04-01      Friday               True  25.530001  25.309999  25.530001   \n",
       "2011-06-01   Wednesday               True  25.100000  24.370001  24.990000   \n",
       "2011-07-01      Friday               True  26.170000  25.840000  25.930000   \n",
       "2011-08-01      Monday               True  27.690001  26.750000  27.510000   \n",
       "2011-09-01    Thursday               True  26.860001  26.209999  26.459999   \n",
       "2011-11-01     Tuesday               True  26.320000  25.860001  26.190001   \n",
       "2011-12-01    Thursday               True  25.629999  25.200001  25.559999   \n",
       "2012-02-01   Wednesday               True  30.049999  29.760000  29.790001   \n",
       "2012-03-01    Thursday               True  32.389999  31.850000  31.930000   \n",
       "2012-05-01     Tuesday               True  32.340000  31.950001  32.049999   \n",
       "2012-06-01      Friday               True  28.959999  28.440001  28.760000   \n",
       "2012-08-01   Wednesday               True  29.650000  29.209999  29.590000   \n",
       "2012-10-01      Monday               True  29.980000  29.420000  29.809999   \n",
       "2012-11-01    Thursday               True  29.559999  28.820000  28.840000   \n",
       "2013-02-01      Friday               True  28.049999  27.549999  27.670000   \n",
       "2013-03-01      Friday               True  27.980000  27.520000  27.719999   \n",
       "2013-04-01      Monday               True  28.660000  28.360001  28.639999   \n",
       "2013-05-01   Wednesday               True  33.080002  32.599998  32.930000   \n",
       "2013-07-01      Monday               True  34.990002  34.330002  34.750000   \n",
       "...                ...                ...        ...        ...        ...   \n",
       "2014-04-01     Tuesday               True  41.590000  41.070000  41.150002   \n",
       "2014-05-01    Thursday               True  40.360001  39.950001  40.240002   \n",
       "2014-07-01     Tuesday               True  42.150002  41.689999  41.860001   \n",
       "2014-08-01      Friday               True  43.250000  42.599998  43.209999   \n",
       "2014-10-01   Wednesday               True  46.529999  45.849998  46.270000   \n",
       "2014-12-01      Monday               True  48.779999  47.709999  47.880001   \n",
       "2015-04-01   Wednesday               True  40.759998  40.310001  40.599998   \n",
       "2015-05-01      Friday               True  48.880001  48.400002  48.580002   \n",
       "2015-06-01      Monday               True  47.770000  46.619999  47.060001   \n",
       "2015-07-01   Wednesday               True  45.230000  44.099998  44.459999   \n",
       "2015-09-01     Tuesday               True  42.590000  41.660000  42.169998   \n",
       "2015-10-01    Thursday               True  44.750000  43.750000  44.750000   \n",
       "2015-12-01     Tuesday               True  55.230000  54.299999  54.410000   \n",
       "2016-02-01      Monday               True  55.090000  54.500000  54.880001   \n",
       "2016-03-01     Tuesday               True  52.590000  50.919998  50.970001   \n",
       "2016-04-01      Friday               True  55.610001  54.570000  55.049999   \n",
       "2016-06-01   Wednesday               True  52.950001  52.439999  52.439999   \n",
       "2016-07-01      Friday               True  51.720001  51.070000  51.130001   \n",
       "2016-08-01      Monday               True  56.750000  56.139999  56.599998   \n",
       "2016-09-01    Thursday               True  57.820000  57.009998  57.009998   \n",
       "2016-11-01     Tuesday               True  60.020000  59.250000  59.970001   \n",
       "2016-12-01    Thursday               True  60.150002  58.939999  60.110001   \n",
       "2017-02-01   Wednesday               True  64.620003  63.470001  64.360001   \n",
       "2017-03-01   Wednesday               True  64.989998  64.019997  64.129997   \n",
       "2017-05-01      Monday               True  69.550003  68.500000  68.680000   \n",
       "2017-06-01    Thursday               True  70.610001  69.449997  70.239998   \n",
       "2017-08-01     Tuesday               True  73.419998  72.489998  73.099998   \n",
       "2017-09-01      Friday               True  74.739998  73.639999  74.709999   \n",
       "2017-11-01   Wednesday               True  83.760002  82.879997  83.680000   \n",
       "2017-12-01      Friday               True  84.809998  83.220001  83.599998   \n",
       "\n",
       "                Close      Volume  Adj Close  \n",
       "Date                                          \n",
       "2010-02-01  28.410000  85931100.0  22.437580  \n",
       "2010-03-01  29.020000  43805400.0  23.026525  \n",
       "2010-04-01  29.160000  74768100.0  23.137602  \n",
       "2010-06-01  25.889999  76152400.0  20.635656  \n",
       "2010-07-01  23.160000  92239400.0  18.459715  \n",
       "2010-09-01  23.900000  65235900.0  19.151144  \n",
       "2010-10-01  24.379999  62672300.0  19.535769  \n",
       "2010-11-01  26.950001  61912100.0  21.595112  \n",
       "2010-12-01  26.040001  74123500.0  20.994139  \n",
       "2011-02-01  27.990000  62810700.0  22.566280  \n",
       "2011-03-01  26.160000  60055000.0  21.215551  \n",
       "2011-04-01  25.480000  63114200.0  20.664076  \n",
       "2011-06-01  24.430000  74033500.0  19.942396  \n",
       "2011-07-01  26.020000  52906200.0  21.240322  \n",
       "2011-08-01  27.270000  61838400.0  22.260714  \n",
       "2011-09-01  26.209999  60510800.0  21.530468  \n",
       "2011-11-01  25.990000  61182600.0  21.349743  \n",
       "2011-12-01  25.280001  48545400.0  20.922884  \n",
       "2012-02-01  29.889999  67409900.0  24.738325  \n",
       "2012-03-01  32.290001  77344100.0  26.900608  \n",
       "2012-05-01  32.009998  43832300.0  26.667349  \n",
       "2012-06-01  28.450001  56634300.0  23.857056  \n",
       "2012-08-01  29.410000  31721800.0  24.662073  \n",
       "2012-10-01  29.490000  54042700.0  24.892981  \n",
       "2012-11-01  29.520000  72047900.0  24.918303  \n",
       "2013-02-01  27.930000  55565900.0  23.769892  \n",
       "2013-03-01  27.950001  34849700.0  23.983852  \n",
       "2013-04-01  28.610001  29201100.0  24.550192  \n",
       "2013-05-01  32.720001  54330900.0  28.076982  \n",
       "2013-07-01  34.360001  31055400.0  29.691017  \n",
       "...               ...         ...        ...  \n",
       "2014-04-01  41.419998  32605000.0  36.589558  \n",
       "2014-05-01  40.000000  28787400.0  35.335155  \n",
       "2014-07-01  41.869999  26917000.0  37.248013  \n",
       "2014-08-01  42.860001  31170300.0  38.128727  \n",
       "2014-10-01  45.900002  38088400.0  41.088188  \n",
       "2014-12-01  48.619999  31191600.0  43.797543  \n",
       "2015-04-01  40.720001  36865300.0  36.942169  \n",
       "2015-05-01  48.660000  38937300.0  44.145527  \n",
       "2015-06-01  47.230000  28837300.0  43.126656  \n",
       "2015-07-01  44.450001  28343900.0  40.588188  \n",
       "2015-09-01  41.820000  49688900.0  38.438499  \n",
       "2015-10-01  44.610001  28657900.0  41.002899  \n",
       "2015-12-01  55.220001  39952800.0  51.097107  \n",
       "2016-02-01  54.709999  44208500.0  50.625172  \n",
       "2016-03-01  52.580002  33024500.0  49.003548  \n",
       "2016-04-01  55.570000  24399200.0  51.790169  \n",
       "2016-06-01  52.849998  25324800.0  49.599678  \n",
       "2016-07-01  51.160000  21400400.0  48.013626  \n",
       "2016-08-01  56.580002  26003400.0  53.100292  \n",
       "2016-09-01  57.590000  26075400.0  54.385036  \n",
       "2016-11-01  59.799999  24533000.0  56.472046  \n",
       "2016-12-01  59.200001  34542100.0  56.283112  \n",
       "2017-02-01  63.580002  39671500.0  60.447304  \n",
       "2017-03-01  64.940002  26937500.0  62.114594  \n",
       "2017-05-01  69.410004  31954400.0  66.390121  \n",
       "2017-06-01  70.099998  21603600.0  67.434410  \n",
       "2017-08-01  72.580002  22132300.0  69.820122  \n",
       "2017-09-01  73.940002  21736200.0  71.507362  \n",
       "2017-11-01  83.180000  22307400.0  80.443352  \n",
       "2017-12-01  84.260002  29532100.0  81.897079  \n",
       "\n",
       "[63 rows x 8 columns]"
      ]
     },
     "execution_count": 36,
     "metadata": {},
     "output_type": "execute_result"
    }
   ],
   "source": [
    "stocks.insert(0, \"Day of Week\", stocks.index.weekday_name)\n",
    "stocks.insert(1, \"Is Start of Month\", stocks.index.is_month_start)\n",
    "stocks[stocks[\"Is Start of Month\"]]"
   ]
  },
  {
   "cell_type": "markdown",
   "metadata": {
    "collapsed": true
   },
   "source": [
    "## The `.truncate()` Method"
   ]
  },
  {
   "cell_type": "markdown",
   "metadata": {},
   "source": [
    "- dataframe.truncate(before = \"2012-06-07\", after = \"2013-02-28\")\n",
    "    - 根据日期的index，可以用truncate截取整个dataframe的行\n",
    "    - 注意！前提是dataframe已经由date index sort好了！"
   ]
  },
  {
   "cell_type": "code",
   "execution_count": 17,
   "metadata": {},
   "outputs": [
    {
     "data": {
      "text/html": [
       "<div>\n",
       "<style scoped>\n",
       "    .dataframe tbody tr th:only-of-type {\n",
       "        vertical-align: middle;\n",
       "    }\n",
       "\n",
       "    .dataframe tbody tr th {\n",
       "        vertical-align: top;\n",
       "    }\n",
       "\n",
       "    .dataframe thead th {\n",
       "        text-align: right;\n",
       "    }\n",
       "</style>\n",
       "<table border=\"1\" class=\"dataframe\">\n",
       "  <thead>\n",
       "    <tr style=\"text-align: right;\">\n",
       "      <th></th>\n",
       "      <th>High</th>\n",
       "      <th>Low</th>\n",
       "      <th>Open</th>\n",
       "      <th>Close</th>\n",
       "      <th>Volume</th>\n",
       "      <th>Adj Close</th>\n",
       "    </tr>\n",
       "    <tr>\n",
       "      <th>Date</th>\n",
       "      <th></th>\n",
       "      <th></th>\n",
       "      <th></th>\n",
       "      <th></th>\n",
       "      <th></th>\n",
       "      <th></th>\n",
       "    </tr>\n",
       "  </thead>\n",
       "  <tbody>\n",
       "    <tr>\n",
       "      <th>2010-01-04</th>\n",
       "      <td>31.10</td>\n",
       "      <td>30.590000</td>\n",
       "      <td>30.620001</td>\n",
       "      <td>30.950001</td>\n",
       "      <td>38409100.0</td>\n",
       "      <td>24.443624</td>\n",
       "    </tr>\n",
       "    <tr>\n",
       "      <th>2010-01-05</th>\n",
       "      <td>31.10</td>\n",
       "      <td>30.639999</td>\n",
       "      <td>30.850000</td>\n",
       "      <td>30.959999</td>\n",
       "      <td>49749600.0</td>\n",
       "      <td>24.451517</td>\n",
       "    </tr>\n",
       "    <tr>\n",
       "      <th>2010-01-06</th>\n",
       "      <td>31.08</td>\n",
       "      <td>30.520000</td>\n",
       "      <td>30.879999</td>\n",
       "      <td>30.770000</td>\n",
       "      <td>58182400.0</td>\n",
       "      <td>24.301458</td>\n",
       "    </tr>\n",
       "  </tbody>\n",
       "</table>\n",
       "</div>"
      ],
      "text/plain": [
       "             High        Low       Open      Close      Volume  Adj Close\n",
       "Date                                                                     \n",
       "2010-01-04  31.10  30.590000  30.620001  30.950001  38409100.0  24.443624\n",
       "2010-01-05  31.10  30.639999  30.850000  30.959999  49749600.0  24.451517\n",
       "2010-01-06  31.08  30.520000  30.879999  30.770000  58182400.0  24.301458"
      ]
     },
     "execution_count": 17,
     "metadata": {},
     "output_type": "execute_result"
    }
   ],
   "source": [
    "stocks = data.DataReader(name = company, data_source = \"yahoo\", start = start, end = end)\n",
    "stocks.head(3)"
   ]
  },
  {
   "cell_type": "code",
   "execution_count": 92,
   "metadata": {
    "collapsed": true
   },
   "outputs": [
    {
     "data": {
      "text/html": [
       "<div>\n",
       "<table border=\"1\" class=\"dataframe\">\n",
       "  <thead>\n",
       "    <tr style=\"text-align: right;\">\n",
       "      <th></th>\n",
       "      <th>Open</th>\n",
       "      <th>High</th>\n",
       "      <th>Low</th>\n",
       "      <th>Close</th>\n",
       "      <th>Volume</th>\n",
       "    </tr>\n",
       "    <tr>\n",
       "      <th>Date</th>\n",
       "      <th></th>\n",
       "      <th></th>\n",
       "      <th></th>\n",
       "      <th></th>\n",
       "      <th></th>\n",
       "    </tr>\n",
       "  </thead>\n",
       "  <tbody>\n",
       "    <tr>\n",
       "      <th>2012-06-07</th>\n",
       "      <td>29.64</td>\n",
       "      <td>29.70</td>\n",
       "      <td>29.17</td>\n",
       "      <td>29.23</td>\n",
       "      <td>37794901</td>\n",
       "    </tr>\n",
       "    <tr>\n",
       "      <th>2012-06-08</th>\n",
       "      <td>29.21</td>\n",
       "      <td>29.68</td>\n",
       "      <td>29.05</td>\n",
       "      <td>29.65</td>\n",
       "      <td>42554321</td>\n",
       "    </tr>\n",
       "    <tr>\n",
       "      <th>2012-06-11</th>\n",
       "      <td>29.73</td>\n",
       "      <td>29.81</td>\n",
       "      <td>28.82</td>\n",
       "      <td>28.90</td>\n",
       "      <td>46365066</td>\n",
       "    </tr>\n",
       "    <tr>\n",
       "      <th>2012-06-12</th>\n",
       "      <td>29.10</td>\n",
       "      <td>29.30</td>\n",
       "      <td>28.84</td>\n",
       "      <td>29.29</td>\n",
       "      <td>35338135</td>\n",
       "    </tr>\n",
       "    <tr>\n",
       "      <th>2012-06-13</th>\n",
       "      <td>29.22</td>\n",
       "      <td>29.44</td>\n",
       "      <td>29.05</td>\n",
       "      <td>29.13</td>\n",
       "      <td>32984515</td>\n",
       "    </tr>\n",
       "    <tr>\n",
       "      <th>2012-06-14</th>\n",
       "      <td>29.33</td>\n",
       "      <td>29.46</td>\n",
       "      <td>28.88</td>\n",
       "      <td>29.34</td>\n",
       "      <td>39460156</td>\n",
       "    </tr>\n",
       "    <tr>\n",
       "      <th>2012-06-15</th>\n",
       "      <td>29.59</td>\n",
       "      <td>30.08</td>\n",
       "      <td>29.49</td>\n",
       "      <td>30.02</td>\n",
       "      <td>62314362</td>\n",
       "    </tr>\n",
       "    <tr>\n",
       "      <th>2012-06-18</th>\n",
       "      <td>29.99</td>\n",
       "      <td>30.03</td>\n",
       "      <td>29.71</td>\n",
       "      <td>29.84</td>\n",
       "      <td>58679618</td>\n",
       "    </tr>\n",
       "    <tr>\n",
       "      <th>2012-06-19</th>\n",
       "      <td>30.19</td>\n",
       "      <td>31.11</td>\n",
       "      <td>30.05</td>\n",
       "      <td>30.70</td>\n",
       "      <td>75725717</td>\n",
       "    </tr>\n",
       "    <tr>\n",
       "      <th>2012-06-20</th>\n",
       "      <td>30.93</td>\n",
       "      <td>31.05</td>\n",
       "      <td>30.64</td>\n",
       "      <td>30.93</td>\n",
       "      <td>36257101</td>\n",
       "    </tr>\n",
       "    <tr>\n",
       "      <th>2012-06-21</th>\n",
       "      <td>30.96</td>\n",
       "      <td>31.14</td>\n",
       "      <td>30.06</td>\n",
       "      <td>30.14</td>\n",
       "      <td>48461283</td>\n",
       "    </tr>\n",
       "    <tr>\n",
       "      <th>2012-06-22</th>\n",
       "      <td>30.30</td>\n",
       "      <td>30.73</td>\n",
       "      <td>30.03</td>\n",
       "      <td>30.70</td>\n",
       "      <td>45098017</td>\n",
       "    </tr>\n",
       "    <tr>\n",
       "      <th>2012-06-25</th>\n",
       "      <td>30.30</td>\n",
       "      <td>30.32</td>\n",
       "      <td>29.62</td>\n",
       "      <td>29.86</td>\n",
       "      <td>42225199</td>\n",
       "    </tr>\n",
       "    <tr>\n",
       "      <th>2012-06-26</th>\n",
       "      <td>30.00</td>\n",
       "      <td>30.27</td>\n",
       "      <td>29.94</td>\n",
       "      <td>30.02</td>\n",
       "      <td>38422237</td>\n",
       "    </tr>\n",
       "    <tr>\n",
       "      <th>2012-06-27</th>\n",
       "      <td>30.19</td>\n",
       "      <td>30.50</td>\n",
       "      <td>30.03</td>\n",
       "      <td>30.17</td>\n",
       "      <td>33783977</td>\n",
       "    </tr>\n",
       "    <tr>\n",
       "      <th>2012-06-28</th>\n",
       "      <td>29.98</td>\n",
       "      <td>30.05</td>\n",
       "      <td>29.42</td>\n",
       "      <td>29.91</td>\n",
       "      <td>45333920</td>\n",
       "    </tr>\n",
       "    <tr>\n",
       "      <th>2012-06-29</th>\n",
       "      <td>30.45</td>\n",
       "      <td>30.69</td>\n",
       "      <td>30.14</td>\n",
       "      <td>30.59</td>\n",
       "      <td>55227108</td>\n",
       "    </tr>\n",
       "    <tr>\n",
       "      <th>2012-07-02</th>\n",
       "      <td>30.62</td>\n",
       "      <td>30.62</td>\n",
       "      <td>30.21</td>\n",
       "      <td>30.56</td>\n",
       "      <td>30589039</td>\n",
       "    </tr>\n",
       "    <tr>\n",
       "      <th>2012-07-03</th>\n",
       "      <td>30.23</td>\n",
       "      <td>30.76</td>\n",
       "      <td>30.17</td>\n",
       "      <td>30.76</td>\n",
       "      <td>20941442</td>\n",
       "    </tr>\n",
       "    <tr>\n",
       "      <th>2012-07-05</th>\n",
       "      <td>30.59</td>\n",
       "      <td>30.78</td>\n",
       "      <td>30.38</td>\n",
       "      <td>30.70</td>\n",
       "      <td>28802821</td>\n",
       "    </tr>\n",
       "    <tr>\n",
       "      <th>2012-07-06</th>\n",
       "      <td>30.61</td>\n",
       "      <td>30.70</td>\n",
       "      <td>29.95</td>\n",
       "      <td>30.18</td>\n",
       "      <td>38297403</td>\n",
       "    </tr>\n",
       "    <tr>\n",
       "      <th>2012-07-09</th>\n",
       "      <td>30.12</td>\n",
       "      <td>30.23</td>\n",
       "      <td>29.78</td>\n",
       "      <td>30.00</td>\n",
       "      <td>30682552</td>\n",
       "    </tr>\n",
       "    <tr>\n",
       "      <th>2012-07-10</th>\n",
       "      <td>30.08</td>\n",
       "      <td>30.22</td>\n",
       "      <td>29.51</td>\n",
       "      <td>29.74</td>\n",
       "      <td>37537369</td>\n",
       "    </tr>\n",
       "    <tr>\n",
       "      <th>2012-07-11</th>\n",
       "      <td>29.71</td>\n",
       "      <td>29.74</td>\n",
       "      <td>29.10</td>\n",
       "      <td>29.30</td>\n",
       "      <td>39188842</td>\n",
       "    </tr>\n",
       "    <tr>\n",
       "      <th>2012-07-12</th>\n",
       "      <td>29.15</td>\n",
       "      <td>29.18</td>\n",
       "      <td>28.54</td>\n",
       "      <td>28.63</td>\n",
       "      <td>63530444</td>\n",
       "    </tr>\n",
       "    <tr>\n",
       "      <th>2012-07-13</th>\n",
       "      <td>28.76</td>\n",
       "      <td>29.48</td>\n",
       "      <td>28.72</td>\n",
       "      <td>29.39</td>\n",
       "      <td>39090585</td>\n",
       "    </tr>\n",
       "    <tr>\n",
       "      <th>2012-07-16</th>\n",
       "      <td>29.48</td>\n",
       "      <td>29.53</td>\n",
       "      <td>29.04</td>\n",
       "      <td>29.44</td>\n",
       "      <td>27901963</td>\n",
       "    </tr>\n",
       "    <tr>\n",
       "      <th>2012-07-17</th>\n",
       "      <td>29.64</td>\n",
       "      <td>29.86</td>\n",
       "      <td>29.20</td>\n",
       "      <td>29.66</td>\n",
       "      <td>33776331</td>\n",
       "    </tr>\n",
       "    <tr>\n",
       "      <th>2012-07-18</th>\n",
       "      <td>29.60</td>\n",
       "      <td>30.45</td>\n",
       "      <td>29.46</td>\n",
       "      <td>30.45</td>\n",
       "      <td>41100151</td>\n",
       "    </tr>\n",
       "    <tr>\n",
       "      <th>2012-07-19</th>\n",
       "      <td>30.51</td>\n",
       "      <td>30.80</td>\n",
       "      <td>30.38</td>\n",
       "      <td>30.66</td>\n",
       "      <td>46663183</td>\n",
       "    </tr>\n",
       "    <tr>\n",
       "      <th>...</th>\n",
       "      <td>...</td>\n",
       "      <td>...</td>\n",
       "      <td>...</td>\n",
       "      <td>...</td>\n",
       "      <td>...</td>\n",
       "    </tr>\n",
       "    <tr>\n",
       "      <th>2013-01-16</th>\n",
       "      <td>27.15</td>\n",
       "      <td>27.23</td>\n",
       "      <td>27.01</td>\n",
       "      <td>27.04</td>\n",
       "      <td>41077374</td>\n",
       "    </tr>\n",
       "    <tr>\n",
       "      <th>2013-01-17</th>\n",
       "      <td>27.19</td>\n",
       "      <td>27.47</td>\n",
       "      <td>27.06</td>\n",
       "      <td>27.25</td>\n",
       "      <td>51685841</td>\n",
       "    </tr>\n",
       "    <tr>\n",
       "      <th>2013-01-18</th>\n",
       "      <td>27.10</td>\n",
       "      <td>27.29</td>\n",
       "      <td>27.04</td>\n",
       "      <td>27.25</td>\n",
       "      <td>52171305</td>\n",
       "    </tr>\n",
       "    <tr>\n",
       "      <th>2013-01-22</th>\n",
       "      <td>27.30</td>\n",
       "      <td>27.45</td>\n",
       "      <td>27.00</td>\n",
       "      <td>27.15</td>\n",
       "      <td>58656745</td>\n",
       "    </tr>\n",
       "    <tr>\n",
       "      <th>2013-01-23</th>\n",
       "      <td>27.20</td>\n",
       "      <td>27.64</td>\n",
       "      <td>27.20</td>\n",
       "      <td>27.61</td>\n",
       "      <td>50387614</td>\n",
       "    </tr>\n",
       "    <tr>\n",
       "      <th>2013-01-24</th>\n",
       "      <td>27.70</td>\n",
       "      <td>28.07</td>\n",
       "      <td>27.47</td>\n",
       "      <td>27.63</td>\n",
       "      <td>101739246</td>\n",
       "    </tr>\n",
       "    <tr>\n",
       "      <th>2013-01-25</th>\n",
       "      <td>27.58</td>\n",
       "      <td>28.23</td>\n",
       "      <td>27.39</td>\n",
       "      <td>27.88</td>\n",
       "      <td>81853106</td>\n",
       "    </tr>\n",
       "    <tr>\n",
       "      <th>2013-01-28</th>\n",
       "      <td>28.01</td>\n",
       "      <td>28.22</td>\n",
       "      <td>27.76</td>\n",
       "      <td>27.91</td>\n",
       "      <td>56061493</td>\n",
       "    </tr>\n",
       "    <tr>\n",
       "      <th>2013-01-29</th>\n",
       "      <td>27.82</td>\n",
       "      <td>28.13</td>\n",
       "      <td>27.60</td>\n",
       "      <td>28.01</td>\n",
       "      <td>49247863</td>\n",
       "    </tr>\n",
       "    <tr>\n",
       "      <th>2013-01-30</th>\n",
       "      <td>28.01</td>\n",
       "      <td>28.19</td>\n",
       "      <td>27.76</td>\n",
       "      <td>27.85</td>\n",
       "      <td>43585526</td>\n",
       "    </tr>\n",
       "    <tr>\n",
       "      <th>2013-01-31</th>\n",
       "      <td>27.79</td>\n",
       "      <td>27.97</td>\n",
       "      <td>27.40</td>\n",
       "      <td>27.45</td>\n",
       "      <td>50536148</td>\n",
       "    </tr>\n",
       "    <tr>\n",
       "      <th>2013-02-01</th>\n",
       "      <td>27.67</td>\n",
       "      <td>28.05</td>\n",
       "      <td>27.55</td>\n",
       "      <td>27.93</td>\n",
       "      <td>55566440</td>\n",
       "    </tr>\n",
       "    <tr>\n",
       "      <th>2013-02-04</th>\n",
       "      <td>27.87</td>\n",
       "      <td>28.02</td>\n",
       "      <td>27.42</td>\n",
       "      <td>27.44</td>\n",
       "      <td>50539942</td>\n",
       "    </tr>\n",
       "    <tr>\n",
       "      <th>2013-02-05</th>\n",
       "      <td>27.62</td>\n",
       "      <td>27.66</td>\n",
       "      <td>27.36</td>\n",
       "      <td>27.50</td>\n",
       "      <td>35410361</td>\n",
       "    </tr>\n",
       "    <tr>\n",
       "      <th>2013-02-06</th>\n",
       "      <td>27.38</td>\n",
       "      <td>27.54</td>\n",
       "      <td>27.25</td>\n",
       "      <td>27.34</td>\n",
       "      <td>41889572</td>\n",
       "    </tr>\n",
       "    <tr>\n",
       "      <th>2013-02-07</th>\n",
       "      <td>27.35</td>\n",
       "      <td>27.39</td>\n",
       "      <td>27.10</td>\n",
       "      <td>27.28</td>\n",
       "      <td>38034068</td>\n",
       "    </tr>\n",
       "    <tr>\n",
       "      <th>2013-02-08</th>\n",
       "      <td>27.35</td>\n",
       "      <td>27.71</td>\n",
       "      <td>27.31</td>\n",
       "      <td>27.55</td>\n",
       "      <td>33320436</td>\n",
       "    </tr>\n",
       "    <tr>\n",
       "      <th>2013-02-11</th>\n",
       "      <td>27.65</td>\n",
       "      <td>27.92</td>\n",
       "      <td>27.50</td>\n",
       "      <td>27.86</td>\n",
       "      <td>32248149</td>\n",
       "    </tr>\n",
       "    <tr>\n",
       "      <th>2013-02-12</th>\n",
       "      <td>27.88</td>\n",
       "      <td>28.00</td>\n",
       "      <td>27.75</td>\n",
       "      <td>27.88</td>\n",
       "      <td>35991329</td>\n",
       "    </tr>\n",
       "    <tr>\n",
       "      <th>2013-02-13</th>\n",
       "      <td>27.93</td>\n",
       "      <td>28.11</td>\n",
       "      <td>27.88</td>\n",
       "      <td>28.03</td>\n",
       "      <td>41716060</td>\n",
       "    </tr>\n",
       "    <tr>\n",
       "      <th>2013-02-14</th>\n",
       "      <td>27.92</td>\n",
       "      <td>28.06</td>\n",
       "      <td>27.87</td>\n",
       "      <td>28.04</td>\n",
       "      <td>32663454</td>\n",
       "    </tr>\n",
       "    <tr>\n",
       "      <th>2013-02-15</th>\n",
       "      <td>28.04</td>\n",
       "      <td>28.16</td>\n",
       "      <td>27.88</td>\n",
       "      <td>28.01</td>\n",
       "      <td>49657740</td>\n",
       "    </tr>\n",
       "    <tr>\n",
       "      <th>2013-02-19</th>\n",
       "      <td>27.88</td>\n",
       "      <td>28.09</td>\n",
       "      <td>27.80</td>\n",
       "      <td>28.04</td>\n",
       "      <td>38806870</td>\n",
       "    </tr>\n",
       "    <tr>\n",
       "      <th>2013-02-20</th>\n",
       "      <td>28.13</td>\n",
       "      <td>28.20</td>\n",
       "      <td>27.83</td>\n",
       "      <td>27.87</td>\n",
       "      <td>44112446</td>\n",
       "    </tr>\n",
       "    <tr>\n",
       "      <th>2013-02-21</th>\n",
       "      <td>27.74</td>\n",
       "      <td>27.74</td>\n",
       "      <td>27.23</td>\n",
       "      <td>27.49</td>\n",
       "      <td>49085538</td>\n",
       "    </tr>\n",
       "    <tr>\n",
       "      <th>2013-02-22</th>\n",
       "      <td>27.68</td>\n",
       "      <td>27.76</td>\n",
       "      <td>27.48</td>\n",
       "      <td>27.76</td>\n",
       "      <td>31430018</td>\n",
       "    </tr>\n",
       "    <tr>\n",
       "      <th>2013-02-25</th>\n",
       "      <td>27.97</td>\n",
       "      <td>28.05</td>\n",
       "      <td>27.37</td>\n",
       "      <td>27.37</td>\n",
       "      <td>48020353</td>\n",
       "    </tr>\n",
       "    <tr>\n",
       "      <th>2013-02-26</th>\n",
       "      <td>27.38</td>\n",
       "      <td>27.60</td>\n",
       "      <td>27.34</td>\n",
       "      <td>27.37</td>\n",
       "      <td>49925050</td>\n",
       "    </tr>\n",
       "    <tr>\n",
       "      <th>2013-02-27</th>\n",
       "      <td>27.42</td>\n",
       "      <td>28.00</td>\n",
       "      <td>27.33</td>\n",
       "      <td>27.81</td>\n",
       "      <td>36395589</td>\n",
       "    </tr>\n",
       "    <tr>\n",
       "      <th>2013-02-28</th>\n",
       "      <td>27.88</td>\n",
       "      <td>27.97</td>\n",
       "      <td>27.74</td>\n",
       "      <td>27.80</td>\n",
       "      <td>35840861</td>\n",
       "    </tr>\n",
       "  </tbody>\n",
       "</table>\n",
       "<p>182 rows × 5 columns</p>\n",
       "</div>"
      ],
      "text/plain": [
       "             Open   High    Low  Close     Volume\n",
       "Date                                             \n",
       "2012-06-07  29.64  29.70  29.17  29.23   37794901\n",
       "2012-06-08  29.21  29.68  29.05  29.65   42554321\n",
       "2012-06-11  29.73  29.81  28.82  28.90   46365066\n",
       "2012-06-12  29.10  29.30  28.84  29.29   35338135\n",
       "2012-06-13  29.22  29.44  29.05  29.13   32984515\n",
       "2012-06-14  29.33  29.46  28.88  29.34   39460156\n",
       "2012-06-15  29.59  30.08  29.49  30.02   62314362\n",
       "2012-06-18  29.99  30.03  29.71  29.84   58679618\n",
       "2012-06-19  30.19  31.11  30.05  30.70   75725717\n",
       "2012-06-20  30.93  31.05  30.64  30.93   36257101\n",
       "2012-06-21  30.96  31.14  30.06  30.14   48461283\n",
       "2012-06-22  30.30  30.73  30.03  30.70   45098017\n",
       "2012-06-25  30.30  30.32  29.62  29.86   42225199\n",
       "2012-06-26  30.00  30.27  29.94  30.02   38422237\n",
       "2012-06-27  30.19  30.50  30.03  30.17   33783977\n",
       "2012-06-28  29.98  30.05  29.42  29.91   45333920\n",
       "2012-06-29  30.45  30.69  30.14  30.59   55227108\n",
       "2012-07-02  30.62  30.62  30.21  30.56   30589039\n",
       "2012-07-03  30.23  30.76  30.17  30.76   20941442\n",
       "2012-07-05  30.59  30.78  30.38  30.70   28802821\n",
       "2012-07-06  30.61  30.70  29.95  30.18   38297403\n",
       "2012-07-09  30.12  30.23  29.78  30.00   30682552\n",
       "2012-07-10  30.08  30.22  29.51  29.74   37537369\n",
       "2012-07-11  29.71  29.74  29.10  29.30   39188842\n",
       "2012-07-12  29.15  29.18  28.54  28.63   63530444\n",
       "2012-07-13  28.76  29.48  28.72  29.39   39090585\n",
       "2012-07-16  29.48  29.53  29.04  29.44   27901963\n",
       "2012-07-17  29.64  29.86  29.20  29.66   33776331\n",
       "2012-07-18  29.60  30.45  29.46  30.45   41100151\n",
       "2012-07-19  30.51  30.80  30.38  30.66   46663183\n",
       "...           ...    ...    ...    ...        ...\n",
       "2013-01-16  27.15  27.23  27.01  27.04   41077374\n",
       "2013-01-17  27.19  27.47  27.06  27.25   51685841\n",
       "2013-01-18  27.10  27.29  27.04  27.25   52171305\n",
       "2013-01-22  27.30  27.45  27.00  27.15   58656745\n",
       "2013-01-23  27.20  27.64  27.20  27.61   50387614\n",
       "2013-01-24  27.70  28.07  27.47  27.63  101739246\n",
       "2013-01-25  27.58  28.23  27.39  27.88   81853106\n",
       "2013-01-28  28.01  28.22  27.76  27.91   56061493\n",
       "2013-01-29  27.82  28.13  27.60  28.01   49247863\n",
       "2013-01-30  28.01  28.19  27.76  27.85   43585526\n",
       "2013-01-31  27.79  27.97  27.40  27.45   50536148\n",
       "2013-02-01  27.67  28.05  27.55  27.93   55566440\n",
       "2013-02-04  27.87  28.02  27.42  27.44   50539942\n",
       "2013-02-05  27.62  27.66  27.36  27.50   35410361\n",
       "2013-02-06  27.38  27.54  27.25  27.34   41889572\n",
       "2013-02-07  27.35  27.39  27.10  27.28   38034068\n",
       "2013-02-08  27.35  27.71  27.31  27.55   33320436\n",
       "2013-02-11  27.65  27.92  27.50  27.86   32248149\n",
       "2013-02-12  27.88  28.00  27.75  27.88   35991329\n",
       "2013-02-13  27.93  28.11  27.88  28.03   41716060\n",
       "2013-02-14  27.92  28.06  27.87  28.04   32663454\n",
       "2013-02-15  28.04  28.16  27.88  28.01   49657740\n",
       "2013-02-19  27.88  28.09  27.80  28.04   38806870\n",
       "2013-02-20  28.13  28.20  27.83  27.87   44112446\n",
       "2013-02-21  27.74  27.74  27.23  27.49   49085538\n",
       "2013-02-22  27.68  27.76  27.48  27.76   31430018\n",
       "2013-02-25  27.97  28.05  27.37  27.37   48020353\n",
       "2013-02-26  27.38  27.60  27.34  27.37   49925050\n",
       "2013-02-27  27.42  28.00  27.33  27.81   36395589\n",
       "2013-02-28  27.88  27.97  27.74  27.80   35840861\n",
       "\n",
       "[182 rows x 5 columns]"
      ]
     },
     "execution_count": 92,
     "metadata": {},
     "output_type": "execute_result"
    }
   ],
   "source": [
    "stocks.truncate(before = \"2012-06-07\", after = \"2013-02-28\")"
   ]
  },
  {
   "cell_type": "markdown",
   "metadata": {},
   "source": [
    "## `pd.DateOffset` Objects"
   ]
  },
  {
   "cell_type": "markdown",
   "metadata": {},
   "source": [
    "- 为了直接调取pd.tseries.offsets.之后的函数，还能被识别，直接import到最终的Level4\n",
    "    - from pandas.tseries.offsets import *\n",
    "    - 这样Import之后，直接可以调用函数啦\n",
    "        - stocks.index - MonthEnd()\n",
    "        - 而非 pd.tseries.offsets.MonthEnd()\n",
    "        - stocks.index - BMonthEnd()\n",
    "        - stocks.index - QuarterEnd()\n",
    "        - stocks.index - QuarterBegin()\n",
    "- + pd.DateOffset()\n",
    "    - 在原本的日期上加上一定单位的时间:date + pd.DateOffset()\n",
    "    - 如，若是一个Date series，可以在每一项上加上一定单位的日期\n",
    "        - stocks.index + pd.DateOffset(months = 8, years = 5, days = 12, hours = 3, minutes = 42)\n",
    "-  + pd.tseries.offsets. 对date series做函数处理\n",
    "    - stocks.index + pd.tseries.offsets.MonthBegin() 返回time series当月的第一天的Date\n",
    "    - stocks.index + pd.tseries.offsets.MonthEnd()"
   ]
  },
  {
   "cell_type": "code",
   "execution_count": 18,
   "metadata": {},
   "outputs": [
    {
     "data": {
      "text/html": [
       "<div>\n",
       "<style scoped>\n",
       "    .dataframe tbody tr th:only-of-type {\n",
       "        vertical-align: middle;\n",
       "    }\n",
       "\n",
       "    .dataframe tbody tr th {\n",
       "        vertical-align: top;\n",
       "    }\n",
       "\n",
       "    .dataframe thead th {\n",
       "        text-align: right;\n",
       "    }\n",
       "</style>\n",
       "<table border=\"1\" class=\"dataframe\">\n",
       "  <thead>\n",
       "    <tr style=\"text-align: right;\">\n",
       "      <th></th>\n",
       "      <th>High</th>\n",
       "      <th>Low</th>\n",
       "      <th>Open</th>\n",
       "      <th>Close</th>\n",
       "      <th>Volume</th>\n",
       "      <th>Adj Close</th>\n",
       "    </tr>\n",
       "    <tr>\n",
       "      <th>Date</th>\n",
       "      <th></th>\n",
       "      <th></th>\n",
       "      <th></th>\n",
       "      <th></th>\n",
       "      <th></th>\n",
       "      <th></th>\n",
       "    </tr>\n",
       "  </thead>\n",
       "  <tbody>\n",
       "    <tr>\n",
       "      <th>2004-08-19</th>\n",
       "      <td>51.835709</td>\n",
       "      <td>47.800831</td>\n",
       "      <td>49.813286</td>\n",
       "      <td>49.982655</td>\n",
       "      <td>44871300.0</td>\n",
       "      <td>49.982655</td>\n",
       "    </tr>\n",
       "    <tr>\n",
       "      <th>2004-08-20</th>\n",
       "      <td>54.336334</td>\n",
       "      <td>50.062355</td>\n",
       "      <td>50.316402</td>\n",
       "      <td>53.952770</td>\n",
       "      <td>22942800.0</td>\n",
       "      <td>53.952770</td>\n",
       "    </tr>\n",
       "    <tr>\n",
       "      <th>2004-08-23</th>\n",
       "      <td>56.528118</td>\n",
       "      <td>54.321388</td>\n",
       "      <td>55.168217</td>\n",
       "      <td>54.495735</td>\n",
       "      <td>18342800.0</td>\n",
       "      <td>54.495735</td>\n",
       "    </tr>\n",
       "  </tbody>\n",
       "</table>\n",
       "</div>"
      ],
      "text/plain": [
       "                 High        Low       Open      Close      Volume  Adj Close\n",
       "Date                                                                         \n",
       "2004-08-19  51.835709  47.800831  49.813286  49.982655  44871300.0  49.982655\n",
       "2004-08-20  54.336334  50.062355  50.316402  53.952770  22942800.0  53.952770\n",
       "2004-08-23  56.528118  54.321388  55.168217  54.495735  18342800.0  54.495735"
      ]
     },
     "execution_count": 18,
     "metadata": {},
     "output_type": "execute_result"
    }
   ],
   "source": [
    "stocks = data.DataReader(name = \"GOOG\", data_source = \"yahoo\",\n",
    "                start = dt.date(2000, 1, 1), end = dt.datetime.now())\n",
    "stocks.head(3)"
   ]
  },
  {
   "cell_type": "code",
   "execution_count": 105,
   "metadata": {},
   "outputs": [
    {
     "data": {
      "text/plain": [
       "DatetimeIndex(['2010-05-01 03:42:00', '2010-05-02 03:42:00',\n",
       "               '2010-05-05 03:42:00', '2010-05-06 03:42:00',\n",
       "               '2010-05-07 03:42:00', '2010-05-08 03:42:00',\n",
       "               '2010-05-09 03:42:00', '2010-05-12 03:42:00',\n",
       "               '2010-05-12 03:42:00', '2010-05-13 03:42:00',\n",
       "               ...\n",
       "               '2022-05-14 03:42:00', '2022-05-18 03:42:00',\n",
       "               '2022-05-19 03:42:00', '2022-05-20 03:42:00',\n",
       "               '2022-05-21 03:42:00', '2022-05-24 03:42:00',\n",
       "               '2022-05-25 03:42:00', '2022-05-26 03:42:00',\n",
       "               '2022-05-27 03:42:00', '2022-05-28 03:42:00'],\n",
       "              dtype='datetime64[ns]', name='Date', length=3041, freq=None)"
      ]
     },
     "execution_count": 105,
     "metadata": {},
     "output_type": "execute_result"
    }
   ],
   "source": [
    "stocks.index + pd.DateOffset(months = 8, years = 5, days = 12, hours = 3, minutes = 42)"
   ]
  },
  {
   "cell_type": "markdown",
   "metadata": {},
   "source": [
    "## More Fun with `pd.DateOffset` Objects"
   ]
  },
  {
   "cell_type": "code",
   "execution_count": 141,
   "metadata": {
    "collapsed": true
   },
   "outputs": [],
   "source": [
    "import pandas as pd\n",
    "import datetime as dt\n",
    "from pandas_datareader import data\n",
    "from pandas.tseries.offsets import *"
   ]
  },
  {
   "cell_type": "code",
   "execution_count": 19,
   "metadata": {},
   "outputs": [
    {
     "data": {
      "text/html": [
       "<div>\n",
       "<style scoped>\n",
       "    .dataframe tbody tr th:only-of-type {\n",
       "        vertical-align: middle;\n",
       "    }\n",
       "\n",
       "    .dataframe tbody tr th {\n",
       "        vertical-align: top;\n",
       "    }\n",
       "\n",
       "    .dataframe thead th {\n",
       "        text-align: right;\n",
       "    }\n",
       "</style>\n",
       "<table border=\"1\" class=\"dataframe\">\n",
       "  <thead>\n",
       "    <tr style=\"text-align: right;\">\n",
       "      <th></th>\n",
       "      <th>High</th>\n",
       "      <th>Low</th>\n",
       "      <th>Open</th>\n",
       "      <th>Close</th>\n",
       "      <th>Volume</th>\n",
       "      <th>Adj Close</th>\n",
       "    </tr>\n",
       "    <tr>\n",
       "      <th>Date</th>\n",
       "      <th></th>\n",
       "      <th></th>\n",
       "      <th></th>\n",
       "      <th></th>\n",
       "      <th></th>\n",
       "      <th></th>\n",
       "    </tr>\n",
       "  </thead>\n",
       "  <tbody>\n",
       "    <tr>\n",
       "      <th>2004-08-19</th>\n",
       "      <td>51.835709</td>\n",
       "      <td>47.800831</td>\n",
       "      <td>49.813286</td>\n",
       "      <td>49.982655</td>\n",
       "      <td>44871300.0</td>\n",
       "      <td>49.982655</td>\n",
       "    </tr>\n",
       "    <tr>\n",
       "      <th>2004-08-20</th>\n",
       "      <td>54.336334</td>\n",
       "      <td>50.062355</td>\n",
       "      <td>50.316402</td>\n",
       "      <td>53.952770</td>\n",
       "      <td>22942800.0</td>\n",
       "      <td>53.952770</td>\n",
       "    </tr>\n",
       "    <tr>\n",
       "      <th>2004-08-23</th>\n",
       "      <td>56.528118</td>\n",
       "      <td>54.321388</td>\n",
       "      <td>55.168217</td>\n",
       "      <td>54.495735</td>\n",
       "      <td>18342800.0</td>\n",
       "      <td>54.495735</td>\n",
       "    </tr>\n",
       "  </tbody>\n",
       "</table>\n",
       "</div>"
      ],
      "text/plain": [
       "                 High        Low       Open      Close      Volume  Adj Close\n",
       "Date                                                                         \n",
       "2004-08-19  51.835709  47.800831  49.813286  49.982655  44871300.0  49.982655\n",
       "2004-08-20  54.336334  50.062355  50.316402  53.952770  22942800.0  53.952770\n",
       "2004-08-23  56.528118  54.321388  55.168217  54.495735  18342800.0  54.495735"
      ]
     },
     "execution_count": 19,
     "metadata": {},
     "output_type": "execute_result"
    }
   ],
   "source": [
    "stocks = data.DataReader(name = \"GOOG\", data_source = \"yahoo\",\n",
    "                start = dt.date(2000, 1, 1), end = dt.datetime.now())\n",
    "\n",
    "stocks.head(3)"
   ]
  },
  {
   "cell_type": "code",
   "execution_count": 23,
   "metadata": {},
   "outputs": [
    {
     "data": {
      "text/plain": [
       "DatetimeIndex(['2004-08-31', '2004-08-31', '2004-08-31', '2004-08-31',\n",
       "               '2004-08-31', '2004-08-31', '2004-08-31', '2004-08-31',\n",
       "               '2004-09-30', '2004-09-30',\n",
       "               ...\n",
       "               '2019-08-31', '2019-08-31', '2019-08-31', '2019-08-31',\n",
       "               '2019-08-31', '2019-08-31', '2019-08-31', '2019-08-31',\n",
       "               '2019-08-31', '2019-08-31'],\n",
       "              dtype='datetime64[ns]', name='Date', length=3781, freq=None)"
      ]
     },
     "execution_count": 23,
     "metadata": {},
     "output_type": "execute_result"
    }
   ],
   "source": [
    "stocks.index + pd.tseries.offsets.MonthEnd()"
   ]
  },
  {
   "cell_type": "code",
   "execution_count": 24,
   "metadata": {},
   "outputs": [
    {
     "data": {
      "text/plain": [
       "DatetimeIndex(['2004-09-01', '2004-09-01', '2004-09-01', '2004-09-01',\n",
       "               '2004-09-01', '2004-09-01', '2004-09-01', '2004-09-01',\n",
       "               '2004-09-01', '2004-10-01',\n",
       "               ...\n",
       "               '2019-09-01', '2019-09-01', '2019-09-01', '2019-09-01',\n",
       "               '2019-09-01', '2019-09-01', '2019-09-01', '2019-09-01',\n",
       "               '2019-09-01', '2019-09-01'],\n",
       "              dtype='datetime64[ns]', name='Date', length=3781, freq=None)"
      ]
     },
     "execution_count": 24,
     "metadata": {},
     "output_type": "execute_result"
    }
   ],
   "source": [
    "stocks.index + pd.tseries.offsets.MonthBegin()"
   ]
  },
  {
   "cell_type": "code",
   "execution_count": 151,
   "metadata": {},
   "outputs": [
    {
     "name": "stderr",
     "output_type": "stream",
     "text": [
      "/Users/borisp/anaconda/envs/3.5/lib/python3.5/site-packages/pandas/tseries/index.py:814: PerformanceWarning: Non-vectorized DateOffset being applied to Series or DatetimeIndex\n",
      "  \"or DatetimeIndex\", PerformanceWarning)\n"
     ]
    },
    {
     "data": {
      "text/plain": [
       "DatetimeIndex(['2004-06-01', '2004-06-01', '2004-06-01', '2004-06-01',\n",
       "               '2004-06-01', '2004-06-01', '2004-06-01', '2004-06-01',\n",
       "               '2004-06-01', '2004-06-01',\n",
       "               ...\n",
       "               '2016-09-01', '2016-09-01', '2016-09-01', '2016-09-01',\n",
       "               '2016-09-01', '2016-09-01', '2016-09-01', '2016-09-01',\n",
       "               '2016-09-01', '2016-09-01'],\n",
       "              dtype='datetime64[ns]', name='Date', length=3041, freq=None)"
      ]
     },
     "execution_count": 151,
     "metadata": {},
     "output_type": "execute_result"
    }
   ],
   "source": [
    "stocks.index - MonthEnd()\n",
    "stocks.index - BMonthEnd()\n",
    "stocks.index - QuarterEnd()\n",
    "stocks.index - QuarterBegin()"
   ]
  },
  {
   "cell_type": "code",
   "execution_count": 157,
   "metadata": {},
   "outputs": [
    {
     "data": {
      "text/plain": [
       "DatetimeIndex(['2004-01-01', '2004-01-01', '2004-01-01', '2004-01-01',\n",
       "               '2004-01-01', '2004-01-01', '2004-01-01', '2004-01-01',\n",
       "               '2004-01-01', '2004-01-01',\n",
       "               ...\n",
       "               '2016-01-01', '2016-01-01', '2016-01-01', '2016-01-01',\n",
       "               '2016-01-01', '2016-01-01', '2016-01-01', '2016-01-01',\n",
       "               '2016-01-01', '2016-01-01'],\n",
       "              dtype='datetime64[ns]', name='Date', length=3041, freq=None)"
      ]
     },
     "execution_count": 157,
     "metadata": {},
     "output_type": "execute_result"
    }
   ],
   "source": [
    "stocks.index - YearBegin()"
   ]
  },
  {
   "cell_type": "markdown",
   "metadata": {},
   "source": [
    "## The `Timedelta` Object"
   ]
  },
  {
   "cell_type": "markdown",
   "metadata": {},
   "source": [
    "- timestamp的时间差(difference in time)：Timedelta\n",
    "    - 直接让timestamp/date做减法，其实是储存在了一个叫pandas.tslib.Timedelta的Object中\n",
    "        - 如 Timedelta('-12 days +09:41:33')\n",
    "    - 可以用Timedelta()定义时间差是多少\n",
    "        - pd.Timedelta(weeks = 8, days = 3, hours = 12, minutes = 45)\n",
    "        - pd.Timedelta(\"14 days 6 hours 12 minutes 49 seconds\")\n",
    "    - 可以用Date+Timedelta得到新的日期\n",
    "        - shipping[\"Twice As Long\"] = shipping[\"delivery_date\"] + shipping[\"Delivery Time\"]\n",
    "    - 可以配合Mask截取dataframe\n",
    "        - mask = shipping[\"Delivery Time\"] == \"3423 days\"\n",
    "        - shipping[mask]"
   ]
  },
  {
   "cell_type": "code",
   "execution_count": 25,
   "metadata": {},
   "outputs": [],
   "source": [
    "timeA = pd.Timestamp(\"2016-03-31 04:35:16 PM\")\n",
    "timeB = pd.Timestamp(\"2016-03-20 02:16:49 AM\")"
   ]
  },
  {
   "cell_type": "code",
   "execution_count": 26,
   "metadata": {},
   "outputs": [
    {
     "data": {
      "text/plain": [
       "Timedelta('-12 days +09:41:33')"
      ]
     },
     "execution_count": 26,
     "metadata": {},
     "output_type": "execute_result"
    }
   ],
   "source": [
    "timeB - timeA"
   ]
  },
  {
   "cell_type": "code",
   "execution_count": 217,
   "metadata": {},
   "outputs": [
    {
     "data": {
      "text/plain": [
       "pandas.tslib.Timedelta"
      ]
     },
     "execution_count": 217,
     "metadata": {},
     "output_type": "execute_result"
    }
   ],
   "source": [
    "type(timeA - timeB)"
   ]
  },
  {
   "cell_type": "code",
   "execution_count": 218,
   "metadata": {},
   "outputs": [
    {
     "data": {
      "text/plain": [
       "pandas.tslib.Timestamp"
      ]
     },
     "execution_count": 218,
     "metadata": {},
     "output_type": "execute_result"
    }
   ],
   "source": [
    "type(timeA)"
   ]
  },
  {
   "cell_type": "code",
   "execution_count": 227,
   "metadata": {},
   "outputs": [
    {
     "data": {
      "text/plain": [
       "Timedelta('59 days 12:45:00')"
      ]
     },
     "execution_count": 227,
     "metadata": {},
     "output_type": "execute_result"
    }
   ],
   "source": [
    "pd.Timedelta(weeks = 8, days = 3, hours = 12, minutes = 45)"
   ]
  },
  {
   "cell_type": "code",
   "execution_count": 226,
   "metadata": {},
   "outputs": [
    {
     "data": {
      "text/plain": [
       "Timedelta('14 days 06:12:49')"
      ]
     },
     "execution_count": 226,
     "metadata": {},
     "output_type": "execute_result"
    }
   ],
   "source": [
    "pd.Timedelta(\"14 days 6 hours 12 minutes 49 seconds\")"
   ]
  },
  {
   "cell_type": "markdown",
   "metadata": {},
   "source": [
    "## `Timedeltas` in a Dataset"
   ]
  },
  {
   "cell_type": "code",
   "execution_count": 240,
   "metadata": {},
   "outputs": [
    {
     "data": {
      "text/html": [
       "<div>\n",
       "<table border=\"1\" class=\"dataframe\">\n",
       "  <thead>\n",
       "    <tr style=\"text-align: right;\">\n",
       "      <th></th>\n",
       "      <th>order_date</th>\n",
       "      <th>delivery_date</th>\n",
       "    </tr>\n",
       "    <tr>\n",
       "      <th>ID</th>\n",
       "      <th></th>\n",
       "      <th></th>\n",
       "    </tr>\n",
       "  </thead>\n",
       "  <tbody>\n",
       "    <tr>\n",
       "      <th>1</th>\n",
       "      <td>1998-05-24</td>\n",
       "      <td>1999-02-05</td>\n",
       "    </tr>\n",
       "    <tr>\n",
       "      <th>2</th>\n",
       "      <td>1992-04-22</td>\n",
       "      <td>1998-03-06</td>\n",
       "    </tr>\n",
       "    <tr>\n",
       "      <th>4</th>\n",
       "      <td>1991-02-10</td>\n",
       "      <td>1992-08-26</td>\n",
       "    </tr>\n",
       "  </tbody>\n",
       "</table>\n",
       "</div>"
      ],
      "text/plain": [
       "   order_date delivery_date\n",
       "ID                         \n",
       "1  1998-05-24    1999-02-05\n",
       "2  1992-04-22    1998-03-06\n",
       "4  1991-02-10    1992-08-26"
      ]
     },
     "execution_count": 240,
     "metadata": {},
     "output_type": "execute_result"
    }
   ],
   "source": [
    "shipping = pd.read_csv(\"ecommerce.csv\", index_col = \"ID\", parse_dates = [\"order_date\", \"delivery_date\"])\n",
    "shipping.head(3)"
   ]
  },
  {
   "cell_type": "code",
   "execution_count": 243,
   "metadata": {},
   "outputs": [],
   "source": [
    "shipping[\"Delivery Time\"] = shipping[\"delivery_date\"] - shipping[\"order_date\"]"
   ]
  },
  {
   "cell_type": "code",
   "execution_count": 244,
   "metadata": {},
   "outputs": [
    {
     "data": {
      "text/html": [
       "<div>\n",
       "<table border=\"1\" class=\"dataframe\">\n",
       "  <thead>\n",
       "    <tr style=\"text-align: right;\">\n",
       "      <th></th>\n",
       "      <th>order_date</th>\n",
       "      <th>delivery_date</th>\n",
       "      <th>Delivery Time</th>\n",
       "    </tr>\n",
       "    <tr>\n",
       "      <th>ID</th>\n",
       "      <th></th>\n",
       "      <th></th>\n",
       "      <th></th>\n",
       "    </tr>\n",
       "  </thead>\n",
       "  <tbody>\n",
       "    <tr>\n",
       "      <th>1</th>\n",
       "      <td>1998-05-24</td>\n",
       "      <td>1999-02-05</td>\n",
       "      <td>257 days</td>\n",
       "    </tr>\n",
       "    <tr>\n",
       "      <th>2</th>\n",
       "      <td>1992-04-22</td>\n",
       "      <td>1998-03-06</td>\n",
       "      <td>2144 days</td>\n",
       "    </tr>\n",
       "    <tr>\n",
       "      <th>4</th>\n",
       "      <td>1991-02-10</td>\n",
       "      <td>1992-08-26</td>\n",
       "      <td>563 days</td>\n",
       "    </tr>\n",
       "  </tbody>\n",
       "</table>\n",
       "</div>"
      ],
      "text/plain": [
       "   order_date delivery_date  Delivery Time\n",
       "ID                                        \n",
       "1  1998-05-24    1999-02-05       257 days\n",
       "2  1992-04-22    1998-03-06      2144 days\n",
       "4  1991-02-10    1992-08-26       563 days"
      ]
     },
     "execution_count": 244,
     "metadata": {},
     "output_type": "execute_result"
    }
   ],
   "source": [
    "shipping.head(3)"
   ]
  },
  {
   "cell_type": "code",
   "execution_count": 249,
   "metadata": {},
   "outputs": [],
   "source": [
    "shipping[\"Twice As Long\"] = shipping[\"delivery_date\"] + shipping[\"Delivery Time\"]"
   ]
  },
  {
   "cell_type": "code",
   "execution_count": 250,
   "metadata": {},
   "outputs": [
    {
     "data": {
      "text/html": [
       "<div>\n",
       "<table border=\"1\" class=\"dataframe\">\n",
       "  <thead>\n",
       "    <tr style=\"text-align: right;\">\n",
       "      <th></th>\n",
       "      <th>order_date</th>\n",
       "      <th>delivery_date</th>\n",
       "      <th>Delivery Time</th>\n",
       "      <th>Twice As Long</th>\n",
       "    </tr>\n",
       "    <tr>\n",
       "      <th>ID</th>\n",
       "      <th></th>\n",
       "      <th></th>\n",
       "      <th></th>\n",
       "      <th></th>\n",
       "    </tr>\n",
       "  </thead>\n",
       "  <tbody>\n",
       "    <tr>\n",
       "      <th>1</th>\n",
       "      <td>1998-05-24</td>\n",
       "      <td>1999-02-05</td>\n",
       "      <td>257 days</td>\n",
       "      <td>1999-10-20</td>\n",
       "    </tr>\n",
       "    <tr>\n",
       "      <th>2</th>\n",
       "      <td>1992-04-22</td>\n",
       "      <td>1998-03-06</td>\n",
       "      <td>2144 days</td>\n",
       "      <td>2004-01-18</td>\n",
       "    </tr>\n",
       "    <tr>\n",
       "      <th>4</th>\n",
       "      <td>1991-02-10</td>\n",
       "      <td>1992-08-26</td>\n",
       "      <td>563 days</td>\n",
       "      <td>1994-03-12</td>\n",
       "    </tr>\n",
       "  </tbody>\n",
       "</table>\n",
       "</div>"
      ],
      "text/plain": [
       "   order_date delivery_date  Delivery Time Twice As Long\n",
       "ID                                                      \n",
       "1  1998-05-24    1999-02-05       257 days    1999-10-20\n",
       "2  1992-04-22    1998-03-06      2144 days    2004-01-18\n",
       "4  1991-02-10    1992-08-26       563 days    1994-03-12"
      ]
     },
     "execution_count": 250,
     "metadata": {},
     "output_type": "execute_result"
    }
   ],
   "source": [
    "shipping.head(3)"
   ]
  },
  {
   "cell_type": "code",
   "execution_count": 251,
   "metadata": {},
   "outputs": [
    {
     "data": {
      "text/plain": [
       "order_date        datetime64[ns]\n",
       "delivery_date     datetime64[ns]\n",
       "Delivery Time    timedelta64[ns]\n",
       "Twice As Long     datetime64[ns]\n",
       "dtype: object"
      ]
     },
     "execution_count": 251,
     "metadata": {},
     "output_type": "execute_result"
    }
   ],
   "source": [
    "shipping.dtypes"
   ]
  },
  {
   "cell_type": "code",
   "execution_count": 257,
   "metadata": {},
   "outputs": [
    {
     "data": {
      "text/html": [
       "<div>\n",
       "<table border=\"1\" class=\"dataframe\">\n",
       "  <thead>\n",
       "    <tr style=\"text-align: right;\">\n",
       "      <th></th>\n",
       "      <th>order_date</th>\n",
       "      <th>delivery_date</th>\n",
       "      <th>Delivery Time</th>\n",
       "      <th>Twice As Long</th>\n",
       "    </tr>\n",
       "    <tr>\n",
       "      <th>ID</th>\n",
       "      <th></th>\n",
       "      <th></th>\n",
       "      <th></th>\n",
       "      <th></th>\n",
       "    </tr>\n",
       "  </thead>\n",
       "  <tbody>\n",
       "    <tr>\n",
       "      <th>130</th>\n",
       "      <td>1990-04-02</td>\n",
       "      <td>1999-08-16</td>\n",
       "      <td>3423 days</td>\n",
       "      <td>2008-12-29</td>\n",
       "    </tr>\n",
       "  </tbody>\n",
       "</table>\n",
       "</div>"
      ],
      "text/plain": [
       "    order_date delivery_date  Delivery Time Twice As Long\n",
       "ID                                                       \n",
       "130 1990-04-02    1999-08-16      3423 days    2008-12-29"
      ]
     },
     "execution_count": 257,
     "metadata": {},
     "output_type": "execute_result"
    }
   ],
   "source": [
    "mask = shipping[\"Delivery Time\"] == \"3423 days\"\n",
    "shipping[mask]"
   ]
  },
  {
   "cell_type": "code",
   "execution_count": 260,
   "metadata": {},
   "outputs": [
    {
     "data": {
      "text/plain": [
       "Timedelta('8 days 00:00:00')"
      ]
     },
     "execution_count": 260,
     "metadata": {},
     "output_type": "execute_result"
    }
   ],
   "source": [
    "shipping[\"Delivery Time\"].min()"
   ]
  }
 ],
 "metadata": {
  "anaconda-cloud": {},
  "kernelspec": {
   "display_name": "Python 3",
   "language": "python",
   "name": "python3"
  },
  "language_info": {
   "codemirror_mode": {
    "name": "ipython",
    "version": 3
   },
   "file_extension": ".py",
   "mimetype": "text/x-python",
   "name": "python",
   "nbconvert_exporter": "python",
   "pygments_lexer": "ipython3",
   "version": "3.6.4"
  }
 },
 "nbformat": 4,
 "nbformat_minor": 1
}
