{
 "cells": [
  {
   "cell_type": "markdown",
   "metadata": {},
   "source": [
    "这章不多，直接写在下面了"
   ]
  },
  {
   "cell_type": "code",
   "execution_count": 23,
   "metadata": {},
   "outputs": [],
   "source": [
    "import pandas as pd"
   ]
  },
  {
   "cell_type": "markdown",
   "metadata": {},
   "source": [
    "## Quick Object Conversions"
   ]
  },
  {
   "cell_type": "markdown",
   "metadata": {},
   "source": [
    "pd.read_csv(\"file\") 如果在网上，一般找到csv下载Link复制即可"
   ]
  },
  {
   "cell_type": "code",
   "execution_count": 24,
   "metadata": {
    "scrolled": true
   },
   "outputs": [
    {
     "data": {
      "text/html": [
       "<div>\n",
       "<style scoped>\n",
       "    .dataframe tbody tr th:only-of-type {\n",
       "        vertical-align: middle;\n",
       "    }\n",
       "\n",
       "    .dataframe tbody tr th {\n",
       "        vertical-align: top;\n",
       "    }\n",
       "\n",
       "    .dataframe thead th {\n",
       "        text-align: right;\n",
       "    }\n",
       "</style>\n",
       "<table border=\"1\" class=\"dataframe\">\n",
       "  <thead>\n",
       "    <tr style=\"text-align: right;\">\n",
       "      <th></th>\n",
       "      <th>Year of Birth</th>\n",
       "      <th>Gender</th>\n",
       "      <th>Ethnicity</th>\n",
       "      <th>Child's First Name</th>\n",
       "      <th>Count</th>\n",
       "      <th>Rank</th>\n",
       "    </tr>\n",
       "  </thead>\n",
       "  <tbody>\n",
       "    <tr>\n",
       "      <th>0</th>\n",
       "      <td>2011</td>\n",
       "      <td>FEMALE</td>\n",
       "      <td>HISPANIC</td>\n",
       "      <td>GERALDINE</td>\n",
       "      <td>13</td>\n",
       "      <td>75</td>\n",
       "    </tr>\n",
       "    <tr>\n",
       "      <th>1</th>\n",
       "      <td>2011</td>\n",
       "      <td>FEMALE</td>\n",
       "      <td>HISPANIC</td>\n",
       "      <td>GIA</td>\n",
       "      <td>21</td>\n",
       "      <td>67</td>\n",
       "    </tr>\n",
       "    <tr>\n",
       "      <th>2</th>\n",
       "      <td>2011</td>\n",
       "      <td>FEMALE</td>\n",
       "      <td>HISPANIC</td>\n",
       "      <td>GIANNA</td>\n",
       "      <td>49</td>\n",
       "      <td>42</td>\n",
       "    </tr>\n",
       "  </tbody>\n",
       "</table>\n",
       "</div>"
      ],
      "text/plain": [
       "   Year of Birth  Gender Ethnicity Child's First Name  Count  Rank\n",
       "0           2011  FEMALE  HISPANIC          GERALDINE     13    75\n",
       "1           2011  FEMALE  HISPANIC                GIA     21    67\n",
       "2           2011  FEMALE  HISPANIC             GIANNA     49    42"
      ]
     },
     "execution_count": 24,
     "metadata": {},
     "output_type": "execute_result"
    }
   ],
   "source": [
    "baby_names = pd.read_csv(\"https://data.cityofnewyork.us/api/views/25th-nujf/rows.csv?accessType=DOWNLOAD\")\n",
    "baby_names.head(3)"
   ]
  },
  {
   "cell_type": "markdown",
   "metadata": {},
   "source": [
    "## Export `DataFrame` to CSV File with the `.to_csv()` Method"
   ]
  },
  {
   "cell_type": "markdown",
   "metadata": {},
   "source": [
    "导出csv：\n",
    "- dataframe.to_csv(\"name.csv\", index = False， columns = [\"Name\", \"Frequency\"],encoding=\"utf-8\") #不写地址，直接放到current directory里面\n",
    "- 若存的地址相同，会直接替换原有文件！\n",
    "- index:是否保存index列\n",
    "- columns：保存指定\n",
    "- encoding:如何处理一些特殊符号，用Utf-8比较好"
   ]
  },
  {
   "cell_type": "markdown",
   "metadata": {},
   "source": [
    "generate python list from dataframe"
   ]
  },
  {
   "cell_type": "code",
   "execution_count": 25,
   "metadata": {},
   "outputs": [
    {
     "data": {
      "text/plain": [
       "['GERALDINE',\n",
       " 'GIA',\n",
       " 'GIANNA',\n",
       " 'GISELLE',\n",
       " 'GRACE',\n",
       " 'GUADALUPE',\n",
       " 'HAILEY',\n",
       " 'HALEY',\n",
       " 'HANNAH',\n",
       " 'HAYLEE']"
      ]
     },
     "execution_count": 25,
     "metadata": {},
     "output_type": "execute_result"
    }
   ],
   "source": [
    "baby_names[\"Child's First Name\"].tolist()[0:10]"
   ]
  },
  {
   "cell_type": "markdown",
   "metadata": {},
   "source": [
    "transform to one column dataframe"
   ]
  },
  {
   "cell_type": "code",
   "execution_count": 26,
   "metadata": {
    "scrolled": true
   },
   "outputs": [
    {
     "data": {
      "text/html": [
       "<div>\n",
       "<style scoped>\n",
       "    .dataframe tbody tr th:only-of-type {\n",
       "        vertical-align: middle;\n",
       "    }\n",
       "\n",
       "    .dataframe tbody tr th {\n",
       "        vertical-align: top;\n",
       "    }\n",
       "\n",
       "    .dataframe thead th {\n",
       "        text-align: right;\n",
       "    }\n",
       "</style>\n",
       "<table border=\"1\" class=\"dataframe\">\n",
       "  <thead>\n",
       "    <tr style=\"text-align: right;\">\n",
       "      <th></th>\n",
       "      <th>Child's First Name</th>\n",
       "    </tr>\n",
       "  </thead>\n",
       "  <tbody>\n",
       "    <tr>\n",
       "      <th>0</th>\n",
       "      <td>GERALDINE</td>\n",
       "    </tr>\n",
       "    <tr>\n",
       "      <th>1</th>\n",
       "      <td>GIA</td>\n",
       "    </tr>\n",
       "    <tr>\n",
       "      <th>2</th>\n",
       "      <td>GIANNA</td>\n",
       "    </tr>\n",
       "    <tr>\n",
       "      <th>3</th>\n",
       "      <td>GISELLE</td>\n",
       "    </tr>\n",
       "    <tr>\n",
       "      <th>4</th>\n",
       "      <td>GRACE</td>\n",
       "    </tr>\n",
       "    <tr>\n",
       "      <th>...</th>\n",
       "      <td>...</td>\n",
       "    </tr>\n",
       "    <tr>\n",
       "      <th>29459</th>\n",
       "      <td>Alayna</td>\n",
       "    </tr>\n",
       "    <tr>\n",
       "      <th>29460</th>\n",
       "      <td>Yaritza</td>\n",
       "    </tr>\n",
       "    <tr>\n",
       "      <th>29461</th>\n",
       "      <td>Mendel</td>\n",
       "    </tr>\n",
       "    <tr>\n",
       "      <th>29462</th>\n",
       "      <td>Isaac</td>\n",
       "    </tr>\n",
       "    <tr>\n",
       "      <th>29463</th>\n",
       "      <td>Alessia</td>\n",
       "    </tr>\n",
       "  </tbody>\n",
       "</table>\n",
       "<p>29464 rows × 1 columns</p>\n",
       "</div>"
      ],
      "text/plain": [
       "      Child's First Name\n",
       "0              GERALDINE\n",
       "1                    GIA\n",
       "2                 GIANNA\n",
       "3                GISELLE\n",
       "4                  GRACE\n",
       "...                  ...\n",
       "29459             Alayna\n",
       "29460            Yaritza\n",
       "29461             Mendel\n",
       "29462              Isaac\n",
       "29463            Alessia\n",
       "\n",
       "[29464 rows x 1 columns]"
      ]
     },
     "execution_count": 26,
     "metadata": {},
     "output_type": "execute_result"
    }
   ],
   "source": [
    "baby_names[\"Child's First Name\"].to_frame()"
   ]
  },
  {
   "cell_type": "markdown",
   "metadata": {},
   "source": [
    "- 转成一个comma seperated string, join可以定义用什么东西连接那这些分割后的部分\n",
    "- 即“分隔符号”.join([一个string list])"
   ]
  },
  {
   "cell_type": "code",
   "execution_count": 29,
   "metadata": {},
   "outputs": [
    {
     "data": {
      "text/plain": [
       "'GERALDINE, GIA, GIANNA, GISELLE, GRACE, GUADALUPE, HAILEY, HALEY, HANNAH, HAYLEE, HAYLEY, HAZEL, HEAVEN, HEIDI, HEIDY, HELEN, IMANI, INGRID, IRENE, IRIS, ISABEL, ISABELA, ISABELLA, ISABELLE, ISIS, ITZEL, IZABELLA, JACQUELINE, JADA, JADE, JAELYNN, JAMIE, JANELLE, JASLENE, JASMIN, JASMINE, JAYDA, JAYLA, JAYLAH, JAYLEEN, JAYLENE, JAYLIN, JAYLYN, JAZLYN, JAZMIN, JAZMINE, JENNIFER, JESSICA, JIMENA, JOCELYN, JOHANNA, JOSELYN, JULIA, JULIANA, JULIANNA, JULIET, JULIETTE, JULISSA, KAELYN, KAILEY, KAILYN, KAITLYN, KAMILA, KAREN, KARLA, KATE, KATELYN, KATELYNN, KATHERINE, KATIE, KAYLA, KAYLEE, KAYLEEN, KAYLEIGH, KAYLIE, KAYLIN, KEILY, KELLY, KEYLA, KHLOE, KIARA, KIMBERLY, KRYSTAL, KYLEE, KYLIE, LAILA, LAURA, LAUREN, LAYLA, LEA, LEAH, LEILA, LEILANI, LESLEY, LESLIE, LESLY, LEYLA, LIA, LIANA, LILIANA, LILY, LINDSAY, LIZBETH, LONDON, LUCIA, LUNA, LUZ, MADELINE, MADELYN, MADISON, MAKAYLA, MARIA, MARIAH, MARIANA, MARILYN, MARISOL, MAYA, MEGAN, MELANIE, MELANY, MELISSA, MELODY, MIA, MIAH, MICHELLE, MIKAELA, MIKAYLA, MILA, MILEY, MIRANDA, MIRIAM, MYA, NADIA, NANCY, NAOMI, NATALIA, NATALIE, NATALY, NATASHA, NATHALIA, NATHALIE, NATHALY, NAYELI, NEVAEH, NICOLE, NINA, NOEMI, NYLA, OLIVIA, PAOLA, PENELOPE, PERLA, RACHEL, RAQUEL, REBECCA, RIHANNA, RILEY, ROSA, ROSE, ROSELYN, RUBY, SABRINA, SADIE, SAMANTHA, SAMARA, SARA, SARAH, SARAI, SARIAH, SASHA, SAVANNA, SAVANNAH, SCARLET, SCARLETT, SELENA, SERENITY, SHERLYN, SHIRLEY, SIENNA, SKYLA, SKYLAR, SOFIA, SOPHIA, SOPHIE, STACY, STELLA, STEPHANIE, STEPHANY, TATIANA, TAYLOR, TIANA, TIFFANY, VALENTINA, VALERIA, VALERIE, VANESSA, VERONICA, VICTORIA, VIOLET, VIVIANA, WENDY, XIMENA, YAMILET, YARETZI, ZOE, ZOEY, ABIGAIL, ADDISON, ADELE, ADELINE, ADINA, ADRIANA, ADRIANNA, AHUVA, ALESSANDRA, ALESSIA, ALEXA, ALEXANDRA, ALEXIS, ALICE, ALICIA, ALINA, ALISA, ALIZA, ALLISON, ALYSSA, AMANDA, AMELIA, AMELIE, AMINA, AMIRA, AMY, ANASTASIA, ANGELICA, ANGELINA, ANNA, ANNABEL, ANNABELLE, ARIANA, ARIANNA, ARIEL, ARIELA, ARIELLA, ASHLEY, ATARA, AUBREY, AUDREY, AUTUMN'"
      ]
     },
     "execution_count": 29,
     "metadata": {},
     "output_type": "execute_result"
    }
   ],
   "source": [
    "\", \".join(str(name) for name in baby_names[\"Child's First Name\"])[0:2000]"
   ]
  },
  {
   "cell_type": "code",
   "execution_count": 63,
   "metadata": {
    "tags": []
   },
   "outputs": [],
   "source": [
    "baby_names.to_csv(\"Baby Names.csv\", index = False, columns = [\"Name\", \"Frequency\"], encoding = \"utf-8\")"
   ]
  },
  {
   "cell_type": "markdown",
   "metadata": {},
   "source": [
    "## Import Excel File"
   ]
  },
  {
   "cell_type": "markdown",
   "metadata": {},
   "source": [
    "# 读取excel\n",
    "- 处理excel需要安装anaconda两个library: xlrd, openpyxl\n",
    "- popular.to_excel(excel_file, sheet_name = \"Popular Names\", index = False， columns = [\"Name\", \"Frequency\"],encoding=\"utf-8\")\n",
    "- 读一个excel：  df = pd.read_excel(\"Data - Single Worksheet.xlsx\")\n",
    "- 读一个excel的多个sheet：\n",
    "    - data = pd.read_excel(\"Data - Multiple Worksheets.xlsx\", sheetname = \"Data1\")\n",
    "    - data = pd.read_excel(\"Data - Multiple Worksheets.xlsx\", sheetname = [\"Data1\",\"Data2\"])\n",
    "    - data = pd.read_excel(\"Data - Multiple Worksheets.xlsx\", sheetname = [0,1])\n",
    "    - data = pd.read_excel(\"Data - Multiple Worksheets.xlsx\", sheetname = None) }导入所有sheet\n",
    "- 如果将多个sheet存入一个变量，其实是存成一个dictionary,key: sheetname, value:dataframe"
   ]
  },
  {
   "cell_type": "code",
   "execution_count": 5,
   "metadata": {},
   "outputs": [],
   "source": [
    "df = pd.read_excel(\"Data - Single Worksheet.xlsx\")"
   ]
  },
  {
   "cell_type": "code",
   "execution_count": 6,
   "metadata": {},
   "outputs": [
    {
     "name": "stderr",
     "output_type": "stream",
     "text": [
      "C:\\Users\\sunka\\AppData\\Roaming\\Python\\Python36\\site-packages\\pandas\\util\\_decorators.py:188: FutureWarning: The `sheetname` keyword is deprecated, use `sheet_name` instead\n",
      "  return func(*args, **kwargs)\n"
     ]
    }
   ],
   "source": [
    "data = pd.read_excel(\"Data - Multiple Worksheets.xlsx\", sheetname = None)"
   ]
  },
  {
   "cell_type": "code",
   "execution_count": 7,
   "metadata": {},
   "outputs": [
    {
     "data": {
      "text/plain": [
       "collections.OrderedDict"
      ]
     },
     "execution_count": 7,
     "metadata": {},
     "output_type": "execute_result"
    }
   ],
   "source": [
    "type(data)"
   ]
  },
  {
   "cell_type": "code",
   "execution_count": 8,
   "metadata": {},
   "outputs": [
    {
     "data": {
      "text/plain": [
       "OrderedDict([('Data 1',   First Name Last Name           City Gender\n",
       "              0    Brandon     James          Miami      M\n",
       "              1       Sean   Hawkins         Denver      M\n",
       "              2       Judy       Day    Los Angeles      F\n",
       "              3     Ashley      Ruiz  San Francisco      F\n",
       "              4  Stephanie     Gomez       Portland      F),\n",
       "             ('Data 2',   First Name Last Name           City Gender\n",
       "              0     Parker     Power        Raleigh      F\n",
       "              1    Preston  Prescott   Philadelphia      F\n",
       "              2    Ronaldo   Donaldo         Bangor      M\n",
       "              3      Megan   Stiller  San Francisco      M\n",
       "              4     Bustin    Jieber         Austin      F)])"
      ]
     },
     "execution_count": 8,
     "metadata": {},
     "output_type": "execute_result"
    }
   ],
   "source": [
    "data"
   ]
  },
  {
   "cell_type": "markdown",
   "metadata": {},
   "source": [
    "## Export Excel File"
   ]
  },
  {
   "cell_type": "markdown",
   "metadata": {},
   "source": [
    "# 存入excel\n",
    "- baby_names = pd.read_csv(\"https://data.illinois.gov/api/views/9ean-aer9/rows.csv\")\n",
    "- 先要设置一个基础workbook: \n",
    "    - excel_file = pd.ExcelWriter(\"Baby Name Frequencies.xlsx\")\n",
    "- 然后再存\n",
    "    - popular.to_excel(excel_file, sheet_name = \"Popular Names\", index = False,  columns = [\"Name\", \"Frequency\"])\n",
    "- excel_file.save()\n",
    "    - 最后是针对excel writer这个对象，进行保存！！！"
   ]
  },
  {
   "cell_type": "code",
   "execution_count": 124,
   "metadata": {},
   "outputs": [
    {
     "data": {
      "text/html": [
       "<div>\n",
       "<table border=\"1\" class=\"dataframe\">\n",
       "  <thead>\n",
       "    <tr style=\"text-align: right;\">\n",
       "      <th></th>\n",
       "      <th>Rank</th>\n",
       "      <th>Year</th>\n",
       "      <th>Name</th>\n",
       "      <th>Frequency</th>\n",
       "    </tr>\n",
       "  </thead>\n",
       "  <tbody>\n",
       "    <tr>\n",
       "      <th>0</th>\n",
       "      <td>1</td>\n",
       "      <td>1980</td>\n",
       "      <td>Michael</td>\n",
       "      <td>3886</td>\n",
       "    </tr>\n",
       "    <tr>\n",
       "      <th>1</th>\n",
       "      <td>2</td>\n",
       "      <td>1980</td>\n",
       "      <td>Jason</td>\n",
       "      <td>2389</td>\n",
       "    </tr>\n",
       "    <tr>\n",
       "      <th>2</th>\n",
       "      <td>3</td>\n",
       "      <td>1980</td>\n",
       "      <td>Christopher</td>\n",
       "      <td>2273</td>\n",
       "    </tr>\n",
       "  </tbody>\n",
       "</table>\n",
       "</div>"
      ],
      "text/plain": [
       "   Rank  Year         Name  Frequency\n",
       "0     1  1980      Michael       3886\n",
       "1     2  1980        Jason       2389\n",
       "2     3  1980  Christopher       2273"
      ]
     },
     "execution_count": 124,
     "metadata": {},
     "output_type": "execute_result"
    }
   ],
   "source": [
    "baby_names = pd.read_csv(\"https://data.illinois.gov/api/views/9ean-aer9/rows.csv\")\n",
    "baby_names.head(3)"
   ]
  },
  {
   "cell_type": "code",
   "execution_count": 131,
   "metadata": {},
   "outputs": [],
   "source": [
    "popular = baby_names[baby_names[\"Frequency\"] >= 2000]\n",
    "unpopular = baby_names[baby_names[\"Frequency\"] < 2000]"
   ]
  },
  {
   "cell_type": "code",
   "execution_count": 136,
   "metadata": {},
   "outputs": [],
   "source": [
    "excel_file = pd.ExcelWriter(\"Baby Name Frequencies.xlsx\")"
   ]
  },
  {
   "cell_type": "code",
   "execution_count": 137,
   "metadata": {
    "collapsed": true,
    "jupyter": {
     "outputs_hidden": true
    }
   },
   "outputs": [],
   "source": [
    "popular.to_excel(excel_file, sheet_name = \"Popular Names\", index = False)\n",
    "unpopular.to_excel(excel_file, sheet_name = \"Unpopular Names\", index = False, columns = [\"Name\", \"Frequency\"])"
   ]
  },
  {
   "cell_type": "code",
   "execution_count": 138,
   "metadata": {
    "collapsed": true,
    "jupyter": {
     "outputs_hidden": true
    }
   },
   "outputs": [],
   "source": [
    "excel_file.save()"
   ]
  },
  {
   "cell_type": "markdown",
   "metadata": {},
   "source": [
    "## Export Excel File"
   ]
  },
  {
   "cell_type": "code",
   "execution_count": 5,
   "metadata": {},
   "outputs": [
    {
     "data": {
      "text/html": [
       "<div>\n",
       "<table border=\"1\" class=\"dataframe\">\n",
       "  <thead>\n",
       "    <tr style=\"text-align: right;\">\n",
       "      <th></th>\n",
       "      <th>BRTH_YR</th>\n",
       "      <th>GNDR</th>\n",
       "      <th>ETHCTY</th>\n",
       "      <th>NM</th>\n",
       "      <th>CNT</th>\n",
       "      <th>RNK</th>\n",
       "    </tr>\n",
       "  </thead>\n",
       "  <tbody>\n",
       "    <tr>\n",
       "      <th>0</th>\n",
       "      <td>2011</td>\n",
       "      <td>FEMALE</td>\n",
       "      <td>HISPANIC</td>\n",
       "      <td>GERALDINE</td>\n",
       "      <td>13</td>\n",
       "      <td>75</td>\n",
       "    </tr>\n",
       "    <tr>\n",
       "      <th>1</th>\n",
       "      <td>2011</td>\n",
       "      <td>FEMALE</td>\n",
       "      <td>HISPANIC</td>\n",
       "      <td>GIA</td>\n",
       "      <td>21</td>\n",
       "      <td>67</td>\n",
       "    </tr>\n",
       "    <tr>\n",
       "      <th>2</th>\n",
       "      <td>2011</td>\n",
       "      <td>FEMALE</td>\n",
       "      <td>HISPANIC</td>\n",
       "      <td>GIANNA</td>\n",
       "      <td>49</td>\n",
       "      <td>42</td>\n",
       "    </tr>\n",
       "  </tbody>\n",
       "</table>\n",
       "</div>"
      ],
      "text/plain": [
       "   BRTH_YR    GNDR    ETHCTY         NM  CNT  RNK\n",
       "0     2011  FEMALE  HISPANIC  GERALDINE   13   75\n",
       "1     2011  FEMALE  HISPANIC        GIA   21   67\n",
       "2     2011  FEMALE  HISPANIC     GIANNA   49   42"
      ]
     },
     "execution_count": 5,
     "metadata": {},
     "output_type": "execute_result"
    }
   ],
   "source": [
    "URL = \"https://data.cityofnewyork.us/api/views/25th-nujf/rows.csv\"\n",
    "baby_names = pd.read_csv(URL)\n",
    "baby_names.head(3)"
   ]
  },
  {
   "cell_type": "code",
   "execution_count": 9,
   "metadata": {},
   "outputs": [],
   "source": [
    "girls = baby_names[baby_names[\"GNDR\"] == \"FEMALE\"]\n",
    "boys = baby_names[baby_names[\"GNDR\"] == \"MALE\"]"
   ]
  },
  {
   "cell_type": "code",
   "execution_count": 11,
   "metadata": {},
   "outputs": [],
   "source": [
    "excel_file = pd.ExcelWriter(\"Baby Names.xlsx\")"
   ]
  },
  {
   "cell_type": "code",
   "execution_count": 12,
   "metadata": {
    "collapsed": true,
    "jupyter": {
     "outputs_hidden": true
    }
   },
   "outputs": [],
   "source": [
    "girls.to_excel(excel_file, sheet_name = \"Girls\", index = False)\n",
    "boys.to_excel(excel_file, sheet_name = \"Boys\", index = False, columns = [\"GNDR\", \"NM\", \"CNT\"])"
   ]
  },
  {
   "cell_type": "code",
   "execution_count": 13,
   "metadata": {
    "tags": []
   },
   "outputs": [],
   "source": [
    "excel_file.save()"
   ]
  }
 ],
 "metadata": {
  "anaconda-cloud": {},
  "kernelspec": {
   "display_name": "Python 3",
   "language": "python",
   "name": "python3"
  },
  "language_info": {
   "codemirror_mode": {
    "name": "ipython",
    "version": 3
   },
   "file_extension": ".py",
   "mimetype": "text/x-python",
   "name": "python",
   "nbconvert_exporter": "python",
   "pygments_lexer": "ipython3",
   "version": "3.6.4"
  }
 },
 "nbformat": 4,
 "nbformat_minor": 4
}
