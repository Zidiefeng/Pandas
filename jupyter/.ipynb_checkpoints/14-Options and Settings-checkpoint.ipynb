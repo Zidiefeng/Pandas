{
 "cells": [
  {
   "cell_type": "markdown",
   "metadata": {},
   "source": [
    "# option 设置pandas相关设置\n",
    "- options 设置Python的一些设置\n",
    "    - 查看设置\n",
    "        - 比如 pd.options.display.max_rows 返回在Python中如果print出来一个dataframe,能显示多少行（其他的就省略）\n",
    "        - 如pd.options.display.max_columns\n",
    "    - 设置setting,直接=就行\n",
    "        - pd.options.display.max_rows = 4\n",
    "- 额外知识：如何随机生成一个指定大小树阵\n",
    "    - data = np.random.randint(0, 100, [1000, 50])  # low bound, higher bound, size\n",
    "    - generate int randomly as a dataframe\n",
    "    - df = pd.DataFrame(np.random.randn(5, 5))\n",
    "- pd.get_option(\"max_columns\")\n",
    "    - 查看： pd.get_option(\"max_columns\")\n",
    "    - 设置： pd.set_option(\"max_columns\", 20)\n",
    "    - 重置： pd.reset_option(\"max_columns\")\n",
    "    - 查看这个option设置的是啥： pd.describe_option(\"max_columns\")\n",
    "- 显示的精度（不是真正的精度）\n",
    "    - pd.set_option(\"precision\", 2) 显示两位小数"
   ]
  },
  {
   "cell_type": "code",
   "execution_count": 2,
   "metadata": {},
   "outputs": [],
   "source": [
    "import pandas as pd\n",
    "import numpy as np"
   ]
  },
  {
   "cell_type": "markdown",
   "metadata": {},
   "source": [
    "## Changing Options with Attributes and Dot Syntax"
   ]
  },
  {
   "cell_type": "code",
   "execution_count": 8,
   "metadata": {},
   "outputs": [
    {
     "data": {
      "text/html": [
       "<div>\n",
       "<style scoped>\n",
       "    .dataframe tbody tr th:only-of-type {\n",
       "        vertical-align: middle;\n",
       "    }\n",
       "\n",
       "    .dataframe tbody tr th {\n",
       "        vertical-align: top;\n",
       "    }\n",
       "\n",
       "    .dataframe thead th {\n",
       "        text-align: right;\n",
       "    }\n",
       "</style>\n",
       "<table border=\"1\" class=\"dataframe\">\n",
       "  <thead>\n",
       "    <tr style=\"text-align: right;\">\n",
       "      <th></th>\n",
       "      <th>0</th>\n",
       "      <th>1</th>\n",
       "      <th>2</th>\n",
       "      <th>3</th>\n",
       "      <th>4</th>\n",
       "      <th>5</th>\n",
       "      <th>6</th>\n",
       "      <th>7</th>\n",
       "      <th>8</th>\n",
       "      <th>9</th>\n",
       "      <th>...</th>\n",
       "      <th>40</th>\n",
       "      <th>41</th>\n",
       "      <th>42</th>\n",
       "      <th>43</th>\n",
       "      <th>44</th>\n",
       "      <th>45</th>\n",
       "      <th>46</th>\n",
       "      <th>47</th>\n",
       "      <th>48</th>\n",
       "      <th>49</th>\n",
       "    </tr>\n",
       "  </thead>\n",
       "  <tbody>\n",
       "    <tr>\n",
       "      <th>998</th>\n",
       "      <td>37</td>\n",
       "      <td>60</td>\n",
       "      <td>38</td>\n",
       "      <td>86</td>\n",
       "      <td>46</td>\n",
       "      <td>65</td>\n",
       "      <td>49</td>\n",
       "      <td>43</td>\n",
       "      <td>21</td>\n",
       "      <td>15</td>\n",
       "      <td>...</td>\n",
       "      <td>53</td>\n",
       "      <td>59</td>\n",
       "      <td>76</td>\n",
       "      <td>48</td>\n",
       "      <td>95</td>\n",
       "      <td>83</td>\n",
       "      <td>57</td>\n",
       "      <td>76</td>\n",
       "      <td>4</td>\n",
       "      <td>26</td>\n",
       "    </tr>\n",
       "    <tr>\n",
       "      <th>999</th>\n",
       "      <td>37</td>\n",
       "      <td>51</td>\n",
       "      <td>9</td>\n",
       "      <td>84</td>\n",
       "      <td>26</td>\n",
       "      <td>52</td>\n",
       "      <td>96</td>\n",
       "      <td>86</td>\n",
       "      <td>16</td>\n",
       "      <td>80</td>\n",
       "      <td>...</td>\n",
       "      <td>67</td>\n",
       "      <td>13</td>\n",
       "      <td>25</td>\n",
       "      <td>24</td>\n",
       "      <td>6</td>\n",
       "      <td>82</td>\n",
       "      <td>97</td>\n",
       "      <td>47</td>\n",
       "      <td>90</td>\n",
       "      <td>13</td>\n",
       "    </tr>\n",
       "  </tbody>\n",
       "</table>\n",
       "<p>2 rows × 50 columns</p>\n",
       "</div>"
      ],
      "text/plain": [
       "     0   1   2   3   4   5   6   7   8   9   ...  40  41  42  43  44  45  46  \\\n",
       "998  37  60  38  86  46  65  49  43  21  15  ...  53  59  76  48  95  83  57   \n",
       "999  37  51   9  84  26  52  96  86  16  80  ...  67  13  25  24   6  82  97   \n",
       "\n",
       "     47  48  49  \n",
       "998  76   4  26  \n",
       "999  47  90  13  \n",
       "\n",
       "[2 rows x 50 columns]"
      ]
     },
     "execution_count": 8,
     "metadata": {},
     "output_type": "execute_result"
    }
   ],
   "source": [
    "data = np.random.randint(0, 100, [1000, 50]) \n",
    "df = pd.DataFrame(data)\n",
    "df.tail(2)"
   ]
  },
  {
   "cell_type": "code",
   "execution_count": 9,
   "metadata": {},
   "outputs": [
    {
     "data": {
      "text/html": [
       "<div>\n",
       "<style scoped>\n",
       "    .dataframe tbody tr th:only-of-type {\n",
       "        vertical-align: middle;\n",
       "    }\n",
       "\n",
       "    .dataframe tbody tr th {\n",
       "        vertical-align: top;\n",
       "    }\n",
       "\n",
       "    .dataframe thead th {\n",
       "        text-align: right;\n",
       "    }\n",
       "</style>\n",
       "<table border=\"1\" class=\"dataframe\">\n",
       "  <thead>\n",
       "    <tr style=\"text-align: right;\">\n",
       "      <th></th>\n",
       "      <th>0</th>\n",
       "      <th>1</th>\n",
       "      <th>2</th>\n",
       "      <th>3</th>\n",
       "      <th>4</th>\n",
       "      <th>5</th>\n",
       "      <th>6</th>\n",
       "      <th>7</th>\n",
       "      <th>8</th>\n",
       "      <th>9</th>\n",
       "      <th>...</th>\n",
       "      <th>40</th>\n",
       "      <th>41</th>\n",
       "      <th>42</th>\n",
       "      <th>43</th>\n",
       "      <th>44</th>\n",
       "      <th>45</th>\n",
       "      <th>46</th>\n",
       "      <th>47</th>\n",
       "      <th>48</th>\n",
       "      <th>49</th>\n",
       "    </tr>\n",
       "  </thead>\n",
       "  <tbody>\n",
       "    <tr>\n",
       "      <th>0</th>\n",
       "      <td>72</td>\n",
       "      <td>11</td>\n",
       "      <td>75</td>\n",
       "      <td>57</td>\n",
       "      <td>24</td>\n",
       "      <td>75</td>\n",
       "      <td>26</td>\n",
       "      <td>73</td>\n",
       "      <td>31</td>\n",
       "      <td>97</td>\n",
       "      <td>...</td>\n",
       "      <td>49</td>\n",
       "      <td>33</td>\n",
       "      <td>37</td>\n",
       "      <td>60</td>\n",
       "      <td>96</td>\n",
       "      <td>25</td>\n",
       "      <td>83</td>\n",
       "      <td>29</td>\n",
       "      <td>4</td>\n",
       "      <td>37</td>\n",
       "    </tr>\n",
       "    <tr>\n",
       "      <th>1</th>\n",
       "      <td>87</td>\n",
       "      <td>13</td>\n",
       "      <td>43</td>\n",
       "      <td>23</td>\n",
       "      <td>99</td>\n",
       "      <td>22</td>\n",
       "      <td>78</td>\n",
       "      <td>51</td>\n",
       "      <td>68</td>\n",
       "      <td>27</td>\n",
       "      <td>...</td>\n",
       "      <td>60</td>\n",
       "      <td>92</td>\n",
       "      <td>95</td>\n",
       "      <td>72</td>\n",
       "      <td>50</td>\n",
       "      <td>75</td>\n",
       "      <td>85</td>\n",
       "      <td>85</td>\n",
       "      <td>94</td>\n",
       "      <td>67</td>\n",
       "    </tr>\n",
       "    <tr>\n",
       "      <th>...</th>\n",
       "      <td>...</td>\n",
       "      <td>...</td>\n",
       "      <td>...</td>\n",
       "      <td>...</td>\n",
       "      <td>...</td>\n",
       "      <td>...</td>\n",
       "      <td>...</td>\n",
       "      <td>...</td>\n",
       "      <td>...</td>\n",
       "      <td>...</td>\n",
       "      <td>...</td>\n",
       "      <td>...</td>\n",
       "      <td>...</td>\n",
       "      <td>...</td>\n",
       "      <td>...</td>\n",
       "      <td>...</td>\n",
       "      <td>...</td>\n",
       "      <td>...</td>\n",
       "      <td>...</td>\n",
       "      <td>...</td>\n",
       "      <td>...</td>\n",
       "    </tr>\n",
       "    <tr>\n",
       "      <th>998</th>\n",
       "      <td>37</td>\n",
       "      <td>60</td>\n",
       "      <td>38</td>\n",
       "      <td>86</td>\n",
       "      <td>46</td>\n",
       "      <td>65</td>\n",
       "      <td>49</td>\n",
       "      <td>43</td>\n",
       "      <td>21</td>\n",
       "      <td>15</td>\n",
       "      <td>...</td>\n",
       "      <td>53</td>\n",
       "      <td>59</td>\n",
       "      <td>76</td>\n",
       "      <td>48</td>\n",
       "      <td>95</td>\n",
       "      <td>83</td>\n",
       "      <td>57</td>\n",
       "      <td>76</td>\n",
       "      <td>4</td>\n",
       "      <td>26</td>\n",
       "    </tr>\n",
       "    <tr>\n",
       "      <th>999</th>\n",
       "      <td>37</td>\n",
       "      <td>51</td>\n",
       "      <td>9</td>\n",
       "      <td>84</td>\n",
       "      <td>26</td>\n",
       "      <td>52</td>\n",
       "      <td>96</td>\n",
       "      <td>86</td>\n",
       "      <td>16</td>\n",
       "      <td>80</td>\n",
       "      <td>...</td>\n",
       "      <td>67</td>\n",
       "      <td>13</td>\n",
       "      <td>25</td>\n",
       "      <td>24</td>\n",
       "      <td>6</td>\n",
       "      <td>82</td>\n",
       "      <td>97</td>\n",
       "      <td>47</td>\n",
       "      <td>90</td>\n",
       "      <td>13</td>\n",
       "    </tr>\n",
       "  </tbody>\n",
       "</table>\n",
       "<p>1000 rows × 50 columns</p>\n",
       "</div>"
      ],
      "text/plain": [
       "     0   1   2   3   4   5   6   7   8   9   ...  40  41  42  43  44  45  46  \\\n",
       "0    72  11  75  57  24  75  26  73  31  97  ...  49  33  37  60  96  25  83   \n",
       "1    87  13  43  23  99  22  78  51  68  27  ...  60  92  95  72  50  75  85   \n",
       "..   ..  ..  ..  ..  ..  ..  ..  ..  ..  ..  ...  ..  ..  ..  ..  ..  ..  ..   \n",
       "998  37  60  38  86  46  65  49  43  21  15  ...  53  59  76  48  95  83  57   \n",
       "999  37  51   9  84  26  52  96  86  16  80  ...  67  13  25  24   6  82  97   \n",
       "\n",
       "     47  48  49  \n",
       "0    29   4  37  \n",
       "1    85  94  67  \n",
       "..   ..  ..  ..  \n",
       "998  76   4  26  \n",
       "999  47  90  13  \n",
       "\n",
       "[1000 rows x 50 columns]"
      ]
     },
     "execution_count": 9,
     "metadata": {},
     "output_type": "execute_result"
    }
   ],
   "source": [
    "df"
   ]
  },
  {
   "cell_type": "code",
   "execution_count": 5,
   "metadata": {},
   "outputs": [
    {
     "data": {
      "text/plain": [
       "4"
      ]
     },
     "execution_count": 5,
     "metadata": {},
     "output_type": "execute_result"
    }
   ],
   "source": [
    "pd.options.display.max_rows"
   ]
  },
  {
   "cell_type": "code",
   "execution_count": 10,
   "metadata": {},
   "outputs": [
    {
     "data": {
      "text/plain": [
       "20"
      ]
     },
     "execution_count": 10,
     "metadata": {},
     "output_type": "execute_result"
    }
   ],
   "source": [
    "pd.options.display.max_columns"
   ]
  },
  {
   "cell_type": "code",
   "execution_count": 4,
   "metadata": {},
   "outputs": [],
   "source": [
    "pd.options.display.max_rows = 4"
   ]
  },
  {
   "cell_type": "code",
   "execution_count": 36,
   "metadata": {},
   "outputs": [],
   "source": [
    "pd.options.display.max_columns = 8"
   ]
  },
  {
   "cell_type": "code",
   "execution_count": 37,
   "metadata": {},
   "outputs": [
    {
     "data": {
      "text/html": [
       "<div>\n",
       "<table border=\"1\" class=\"dataframe\">\n",
       "  <thead>\n",
       "    <tr style=\"text-align: right;\">\n",
       "      <th></th>\n",
       "      <th>0</th>\n",
       "      <th>1</th>\n",
       "      <th>2</th>\n",
       "      <th>3</th>\n",
       "      <th>...</th>\n",
       "      <th>46</th>\n",
       "      <th>47</th>\n",
       "      <th>48</th>\n",
       "      <th>49</th>\n",
       "    </tr>\n",
       "  </thead>\n",
       "  <tbody>\n",
       "    <tr>\n",
       "      <th>0</th>\n",
       "      <td>54</td>\n",
       "      <td>51</td>\n",
       "      <td>42</td>\n",
       "      <td>1</td>\n",
       "      <td>...</td>\n",
       "      <td>54</td>\n",
       "      <td>57</td>\n",
       "      <td>99</td>\n",
       "      <td>64</td>\n",
       "    </tr>\n",
       "    <tr>\n",
       "      <th>1</th>\n",
       "      <td>36</td>\n",
       "      <td>33</td>\n",
       "      <td>8</td>\n",
       "      <td>57</td>\n",
       "      <td>...</td>\n",
       "      <td>76</td>\n",
       "      <td>49</td>\n",
       "      <td>88</td>\n",
       "      <td>8</td>\n",
       "    </tr>\n",
       "    <tr>\n",
       "      <th>...</th>\n",
       "      <td>...</td>\n",
       "      <td>...</td>\n",
       "      <td>...</td>\n",
       "      <td>...</td>\n",
       "      <td>...</td>\n",
       "      <td>...</td>\n",
       "      <td>...</td>\n",
       "      <td>...</td>\n",
       "      <td>...</td>\n",
       "    </tr>\n",
       "    <tr>\n",
       "      <th>998</th>\n",
       "      <td>75</td>\n",
       "      <td>7</td>\n",
       "      <td>12</td>\n",
       "      <td>39</td>\n",
       "      <td>...</td>\n",
       "      <td>49</td>\n",
       "      <td>24</td>\n",
       "      <td>94</td>\n",
       "      <td>89</td>\n",
       "    </tr>\n",
       "    <tr>\n",
       "      <th>999</th>\n",
       "      <td>7</td>\n",
       "      <td>87</td>\n",
       "      <td>36</td>\n",
       "      <td>54</td>\n",
       "      <td>...</td>\n",
       "      <td>80</td>\n",
       "      <td>17</td>\n",
       "      <td>69</td>\n",
       "      <td>85</td>\n",
       "    </tr>\n",
       "  </tbody>\n",
       "</table>\n",
       "<p>1000 rows × 50 columns</p>\n",
       "</div>"
      ],
      "text/plain": [
       "     0   1   2   3  ...  46  47  48  49\n",
       "0    54  51  42   1 ...  54  57  99  64\n",
       "1    36  33   8  57 ...  76  49  88   8\n",
       "..   ..  ..  ..  .. ...  ..  ..  ..  ..\n",
       "998  75   7  12  39 ...  49  24  94  89\n",
       "999   7  87  36  54 ...  80  17  69  85\n",
       "\n",
       "[1000 rows x 50 columns]"
      ]
     },
     "execution_count": 37,
     "metadata": {},
     "output_type": "execute_result"
    }
   ],
   "source": [
    "df"
   ]
  },
  {
   "cell_type": "markdown",
   "metadata": {},
   "source": [
    "## Changing `pandas` Options with Methods"
   ]
  },
  {
   "cell_type": "code",
   "execution_count": 42,
   "metadata": {},
   "outputs": [
    {
     "data": {
      "text/html": [
       "<div>\n",
       "<table border=\"1\" class=\"dataframe\">\n",
       "  <thead>\n",
       "    <tr style=\"text-align: right;\">\n",
       "      <th></th>\n",
       "      <th>0</th>\n",
       "      <th>1</th>\n",
       "      <th>2</th>\n",
       "      <th>3</th>\n",
       "      <th>...</th>\n",
       "      <th>46</th>\n",
       "      <th>47</th>\n",
       "      <th>48</th>\n",
       "      <th>49</th>\n",
       "    </tr>\n",
       "  </thead>\n",
       "  <tbody>\n",
       "    <tr>\n",
       "      <th>998</th>\n",
       "      <td>73</td>\n",
       "      <td>2</td>\n",
       "      <td>4</td>\n",
       "      <td>16</td>\n",
       "      <td>...</td>\n",
       "      <td>14</td>\n",
       "      <td>17</td>\n",
       "      <td>64</td>\n",
       "      <td>20</td>\n",
       "    </tr>\n",
       "    <tr>\n",
       "      <th>999</th>\n",
       "      <td>76</td>\n",
       "      <td>28</td>\n",
       "      <td>61</td>\n",
       "      <td>59</td>\n",
       "      <td>...</td>\n",
       "      <td>81</td>\n",
       "      <td>45</td>\n",
       "      <td>56</td>\n",
       "      <td>34</td>\n",
       "    </tr>\n",
       "  </tbody>\n",
       "</table>\n",
       "<p>2 rows × 50 columns</p>\n",
       "</div>"
      ],
      "text/plain": [
       "     0   1   2   3  ...  46  47  48  49\n",
       "998  73   2   4  16 ...  14  17  64  20\n",
       "999  76  28  61  59 ...  81  45  56  34\n",
       "\n",
       "[2 rows x 50 columns]"
      ]
     },
     "execution_count": 42,
     "metadata": {},
     "output_type": "execute_result"
    }
   ],
   "source": [
    "data = np.random.randint(0, 100, [1000, 50])\n",
    "df = pd.DataFrame(data)\n",
    "df.tail(2)"
   ]
  },
  {
   "cell_type": "code",
   "execution_count": 43,
   "metadata": {},
   "outputs": [
    {
     "data": {
      "text/plain": [
       "4"
      ]
     },
     "execution_count": 43,
     "metadata": {},
     "output_type": "execute_result"
    }
   ],
   "source": [
    "pd.get_option(\"max_rows\")"
   ]
  },
  {
   "cell_type": "code",
   "execution_count": 44,
   "metadata": {},
   "outputs": [
    {
     "data": {
      "text/plain": [
       "8"
      ]
     },
     "execution_count": 44,
     "metadata": {},
     "output_type": "execute_result"
    }
   ],
   "source": [
    "pd.get_option(\"max_columns\")"
   ]
  },
  {
   "cell_type": "code",
   "execution_count": 47,
   "metadata": {
    "collapsed": true
   },
   "outputs": [],
   "source": [
    "pd.set_option(\"max_columns\", 20)"
   ]
  },
  {
   "cell_type": "code",
   "execution_count": 50,
   "metadata": {},
   "outputs": [],
   "source": [
    "pd.options.display.max_columns = 10"
   ]
  },
  {
   "cell_type": "code",
   "execution_count": 52,
   "metadata": {},
   "outputs": [
    {
     "data": {
      "text/plain": [
       "10"
      ]
     },
     "execution_count": 52,
     "metadata": {},
     "output_type": "execute_result"
    }
   ],
   "source": [
    "pd.get_option(\"mAX_columns\")"
   ]
  },
  {
   "cell_type": "code",
   "execution_count": 55,
   "metadata": {
    "collapsed": true
   },
   "outputs": [],
   "source": [
    "pd.reset_option(\"max_columns\")"
   ]
  },
  {
   "cell_type": "code",
   "execution_count": 56,
   "metadata": {},
   "outputs": [
    {
     "data": {
      "text/plain": [
       "20"
      ]
     },
     "execution_count": 56,
     "metadata": {},
     "output_type": "execute_result"
    }
   ],
   "source": [
    "pd.get_option(\"max_columns\")"
   ]
  },
  {
   "cell_type": "code",
   "execution_count": 57,
   "metadata": {},
   "outputs": [
    {
     "name": "stdout",
     "output_type": "stream",
     "text": [
      "display.max_columns : int\n",
      "    If max_cols is exceeded, switch to truncate view. Depending on\n",
      "    `large_repr`, objects are either centrally truncated or printed as\n",
      "    a summary view. 'None' value means unlimited.\n",
      "\n",
      "    In case python/IPython is running in a terminal and `large_repr`\n",
      "    equals 'truncate' this can be set to 0 and pandas will auto-detect\n",
      "    the width of the terminal and print a truncated object which fits\n",
      "    the screen width. The IPython notebook, IPython qtconsole, or IDLE\n",
      "    do not run in a terminal and hence it is not possible to do\n",
      "    correct auto-detection.\n",
      "    [default: 20] [currently: 20]\n",
      "\n",
      "\n"
     ]
    }
   ],
   "source": [
    "pd.describe_option(\"max_columns\")"
   ]
  },
  {
   "cell_type": "markdown",
   "metadata": {},
   "source": [
    "## The `precision` Option"
   ]
  },
  {
   "cell_type": "code",
   "execution_count": 58,
   "metadata": {},
   "outputs": [
    {
     "data": {
      "text/html": [
       "<div>\n",
       "<table border=\"1\" class=\"dataframe\">\n",
       "  <thead>\n",
       "    <tr style=\"text-align: right;\">\n",
       "      <th></th>\n",
       "      <th>0</th>\n",
       "      <th>1</th>\n",
       "      <th>2</th>\n",
       "      <th>3</th>\n",
       "      <th>4</th>\n",
       "    </tr>\n",
       "  </thead>\n",
       "  <tbody>\n",
       "    <tr>\n",
       "      <th>0</th>\n",
       "      <td>-0.295331</td>\n",
       "      <td>0.297070</td>\n",
       "      <td>0.414826</td>\n",
       "      <td>0.470304</td>\n",
       "      <td>-0.824621</td>\n",
       "    </tr>\n",
       "    <tr>\n",
       "      <th>1</th>\n",
       "      <td>1.640154</td>\n",
       "      <td>-3.218202</td>\n",
       "      <td>0.911258</td>\n",
       "      <td>-0.117271</td>\n",
       "      <td>-0.128362</td>\n",
       "    </tr>\n",
       "    <tr>\n",
       "      <th>2</th>\n",
       "      <td>1.207132</td>\n",
       "      <td>1.173281</td>\n",
       "      <td>0.857209</td>\n",
       "      <td>-0.482647</td>\n",
       "      <td>-0.771982</td>\n",
       "    </tr>\n",
       "    <tr>\n",
       "      <th>3</th>\n",
       "      <td>-0.171130</td>\n",
       "      <td>0.303083</td>\n",
       "      <td>-0.572508</td>\n",
       "      <td>-1.133498</td>\n",
       "      <td>-1.233743</td>\n",
       "    </tr>\n",
       "    <tr>\n",
       "      <th>4</th>\n",
       "      <td>0.479362</td>\n",
       "      <td>1.370951</td>\n",
       "      <td>1.879856</td>\n",
       "      <td>-1.352938</td>\n",
       "      <td>-0.759176</td>\n",
       "    </tr>\n",
       "  </tbody>\n",
       "</table>\n",
       "</div>"
      ],
      "text/plain": [
       "          0         1         2         3         4\n",
       "0 -0.295331  0.297070  0.414826  0.470304 -0.824621\n",
       "1  1.640154 -3.218202  0.911258 -0.117271 -0.128362\n",
       "2  1.207132  1.173281  0.857209 -0.482647 -0.771982\n",
       "3 -0.171130  0.303083 -0.572508 -1.133498 -1.233743\n",
       "4  0.479362  1.370951  1.879856 -1.352938 -0.759176"
      ]
     },
     "execution_count": 58,
     "metadata": {},
     "output_type": "execute_result"
    }
   ],
   "source": [
    "df = pd.DataFrame(np.random.randn(5, 5))\n",
    "df"
   ]
  },
  {
   "cell_type": "code",
   "execution_count": 59,
   "metadata": {},
   "outputs": [
    {
     "data": {
      "text/plain": [
       "6"
      ]
     },
     "execution_count": 59,
     "metadata": {},
     "output_type": "execute_result"
    }
   ],
   "source": [
    "pd.get_option(\"precision\")"
   ]
  },
  {
   "cell_type": "code",
   "execution_count": 60,
   "metadata": {
    "collapsed": true
   },
   "outputs": [],
   "source": [
    "pd.set_option(\"precision\", 2)"
   ]
  },
  {
   "cell_type": "code",
   "execution_count": 63,
   "metadata": {},
   "outputs": [
    {
     "data": {
      "text/html": [
       "<div>\n",
       "<table border=\"1\" class=\"dataframe\">\n",
       "  <thead>\n",
       "    <tr style=\"text-align: right;\">\n",
       "      <th></th>\n",
       "      <th>0</th>\n",
       "      <th>1</th>\n",
       "      <th>2</th>\n",
       "      <th>3</th>\n",
       "      <th>4</th>\n",
       "    </tr>\n",
       "  </thead>\n",
       "  <tbody>\n",
       "    <tr>\n",
       "      <th>0</th>\n",
       "      <td>-0.295331</td>\n",
       "      <td>0.297070</td>\n",
       "      <td>0.414826</td>\n",
       "      <td>0.470304</td>\n",
       "      <td>-0.824621</td>\n",
       "    </tr>\n",
       "    <tr>\n",
       "      <th>1</th>\n",
       "      <td>1.640154</td>\n",
       "      <td>-3.218202</td>\n",
       "      <td>0.911258</td>\n",
       "      <td>-0.117271</td>\n",
       "      <td>-0.128362</td>\n",
       "    </tr>\n",
       "    <tr>\n",
       "      <th>2</th>\n",
       "      <td>1.207132</td>\n",
       "      <td>1.173281</td>\n",
       "      <td>0.857209</td>\n",
       "      <td>-0.482647</td>\n",
       "      <td>-0.771982</td>\n",
       "    </tr>\n",
       "    <tr>\n",
       "      <th>3</th>\n",
       "      <td>-0.171130</td>\n",
       "      <td>0.303083</td>\n",
       "      <td>-0.572508</td>\n",
       "      <td>-1.133498</td>\n",
       "      <td>-1.233743</td>\n",
       "    </tr>\n",
       "    <tr>\n",
       "      <th>4</th>\n",
       "      <td>0.479362</td>\n",
       "      <td>1.370951</td>\n",
       "      <td>1.879856</td>\n",
       "      <td>-1.352938</td>\n",
       "      <td>-0.759176</td>\n",
       "    </tr>\n",
       "  </tbody>\n",
       "</table>\n",
       "</div>"
      ],
      "text/plain": [
       "          0         1         2         3         4\n",
       "0 -0.295331  0.297070  0.414826  0.470304 -0.824621\n",
       "1  1.640154 -3.218202  0.911258 -0.117271 -0.128362\n",
       "2  1.207132  1.173281  0.857209 -0.482647 -0.771982\n",
       "3 -0.171130  0.303083 -0.572508 -1.133498 -1.233743\n",
       "4  0.479362  1.370951  1.879856 -1.352938 -0.759176"
      ]
     },
     "execution_count": 63,
     "metadata": {},
     "output_type": "execute_result"
    }
   ],
   "source": [
    "df"
   ]
  },
  {
   "cell_type": "code",
   "execution_count": 62,
   "metadata": {
    "collapsed": true
   },
   "outputs": [],
   "source": [
    "pd.reset_option(\"precision\")"
   ]
  },
  {
   "cell_type": "markdown",
   "metadata": {},
   "source": [
    "## The `chop_threshold()` Option"
   ]
  },
  {
   "cell_type": "code",
   "execution_count": 12,
   "metadata": {},
   "outputs": [
    {
     "data": {
      "text/html": [
       "<div>\n",
       "<style scoped>\n",
       "    .dataframe tbody tr th:only-of-type {\n",
       "        vertical-align: middle;\n",
       "    }\n",
       "\n",
       "    .dataframe tbody tr th {\n",
       "        vertical-align: top;\n",
       "    }\n",
       "\n",
       "    .dataframe thead th {\n",
       "        text-align: right;\n",
       "    }\n",
       "</style>\n",
       "<table border=\"1\" class=\"dataframe\">\n",
       "  <thead>\n",
       "    <tr style=\"text-align: right;\">\n",
       "      <th></th>\n",
       "      <th>0</th>\n",
       "      <th>1</th>\n",
       "      <th>2</th>\n",
       "      <th>3</th>\n",
       "      <th>4</th>\n",
       "      <th>5</th>\n",
       "      <th>6</th>\n",
       "      <th>7</th>\n",
       "      <th>8</th>\n",
       "      <th>9</th>\n",
       "    </tr>\n",
       "  </thead>\n",
       "  <tbody>\n",
       "    <tr>\n",
       "      <th>0</th>\n",
       "      <td>0.782995</td>\n",
       "      <td>-1.009478</td>\n",
       "      <td>-0.308497</td>\n",
       "      <td>-0.848471</td>\n",
       "      <td>-1.584774</td>\n",
       "      <td>-1.289890</td>\n",
       "      <td>-0.402736</td>\n",
       "      <td>1.126080</td>\n",
       "      <td>1.227195</td>\n",
       "      <td>0.471267</td>\n",
       "    </tr>\n",
       "    <tr>\n",
       "      <th>1</th>\n",
       "      <td>-1.172871</td>\n",
       "      <td>-1.467342</td>\n",
       "      <td>1.868303</td>\n",
       "      <td>-1.017403</td>\n",
       "      <td>-0.321993</td>\n",
       "      <td>0.851137</td>\n",
       "      <td>-0.328057</td>\n",
       "      <td>0.014015</td>\n",
       "      <td>-0.106919</td>\n",
       "      <td>-0.902133</td>\n",
       "    </tr>\n",
       "    <tr>\n",
       "      <th>...</th>\n",
       "      <td>...</td>\n",
       "      <td>...</td>\n",
       "      <td>...</td>\n",
       "      <td>...</td>\n",
       "      <td>...</td>\n",
       "      <td>...</td>\n",
       "      <td>...</td>\n",
       "      <td>...</td>\n",
       "      <td>...</td>\n",
       "      <td>...</td>\n",
       "    </tr>\n",
       "    <tr>\n",
       "      <th>8</th>\n",
       "      <td>0.765630</td>\n",
       "      <td>0.714657</td>\n",
       "      <td>1.018185</td>\n",
       "      <td>1.441083</td>\n",
       "      <td>0.463860</td>\n",
       "      <td>1.009505</td>\n",
       "      <td>-0.659041</td>\n",
       "      <td>0.990041</td>\n",
       "      <td>-0.902489</td>\n",
       "      <td>-0.688150</td>\n",
       "    </tr>\n",
       "    <tr>\n",
       "      <th>9</th>\n",
       "      <td>0.525464</td>\n",
       "      <td>1.946112</td>\n",
       "      <td>-0.840318</td>\n",
       "      <td>0.654767</td>\n",
       "      <td>-0.902926</td>\n",
       "      <td>-2.295429</td>\n",
       "      <td>0.162773</td>\n",
       "      <td>-0.104502</td>\n",
       "      <td>-1.416948</td>\n",
       "      <td>1.658724</td>\n",
       "    </tr>\n",
       "  </tbody>\n",
       "</table>\n",
       "<p>10 rows × 10 columns</p>\n",
       "</div>"
      ],
      "text/plain": [
       "           0         1         2         3         4         5         6  \\\n",
       "0   0.782995 -1.009478 -0.308497 -0.848471 -1.584774 -1.289890 -0.402736   \n",
       "1  -1.172871 -1.467342  1.868303 -1.017403 -0.321993  0.851137 -0.328057   \n",
       "..       ...       ...       ...       ...       ...       ...       ...   \n",
       "8   0.765630  0.714657  1.018185  1.441083  0.463860  1.009505 -0.659041   \n",
       "9   0.525464  1.946112 -0.840318  0.654767 -0.902926 -2.295429  0.162773   \n",
       "\n",
       "           7         8         9  \n",
       "0   1.126080  1.227195  0.471267  \n",
       "1   0.014015 -0.106919 -0.902133  \n",
       "..       ...       ...       ...  \n",
       "8   0.990041 -0.902489 -0.688150  \n",
       "9  -0.104502 -1.416948  1.658724  \n",
       "\n",
       "[10 rows x 10 columns]"
      ]
     },
     "execution_count": 12,
     "metadata": {},
     "output_type": "execute_result"
    }
   ],
   "source": [
    "df = pd.DataFrame(np.random.randn(10, 10))\n",
    "df"
   ]
  },
  {
   "cell_type": "code",
   "execution_count": 19,
   "metadata": {},
   "outputs": [],
   "source": [
    "pd.set_option(\"chop_threshold\", 1)"
   ]
  },
  {
   "cell_type": "code",
   "execution_count": 21,
   "metadata": {},
   "outputs": [
    {
     "data": {
      "text/html": [
       "<div>\n",
       "<style scoped>\n",
       "    .dataframe tbody tr th:only-of-type {\n",
       "        vertical-align: middle;\n",
       "    }\n",
       "\n",
       "    .dataframe tbody tr th {\n",
       "        vertical-align: top;\n",
       "    }\n",
       "\n",
       "    .dataframe thead th {\n",
       "        text-align: right;\n",
       "    }\n",
       "</style>\n",
       "<table border=\"1\" class=\"dataframe\">\n",
       "  <thead>\n",
       "    <tr style=\"text-align: right;\">\n",
       "      <th></th>\n",
       "      <th>0</th>\n",
       "      <th>1</th>\n",
       "      <th>2</th>\n",
       "      <th>3</th>\n",
       "      <th>4</th>\n",
       "      <th>5</th>\n",
       "      <th>6</th>\n",
       "      <th>7</th>\n",
       "      <th>8</th>\n",
       "      <th>9</th>\n",
       "    </tr>\n",
       "  </thead>\n",
       "  <tbody>\n",
       "    <tr>\n",
       "      <th>0</th>\n",
       "      <td>0.000000</td>\n",
       "      <td>-1.009478</td>\n",
       "      <td>0.000000</td>\n",
       "      <td>0.000000</td>\n",
       "      <td>-1.584774</td>\n",
       "      <td>-1.289890</td>\n",
       "      <td>0.0</td>\n",
       "      <td>1.12608</td>\n",
       "      <td>1.227195</td>\n",
       "      <td>0.000000</td>\n",
       "    </tr>\n",
       "    <tr>\n",
       "      <th>1</th>\n",
       "      <td>-1.172871</td>\n",
       "      <td>-1.467342</td>\n",
       "      <td>1.868303</td>\n",
       "      <td>-1.017403</td>\n",
       "      <td>0.000000</td>\n",
       "      <td>0.000000</td>\n",
       "      <td>0.0</td>\n",
       "      <td>0.00000</td>\n",
       "      <td>0.000000</td>\n",
       "      <td>0.000000</td>\n",
       "    </tr>\n",
       "    <tr>\n",
       "      <th>...</th>\n",
       "      <td>...</td>\n",
       "      <td>...</td>\n",
       "      <td>...</td>\n",
       "      <td>...</td>\n",
       "      <td>...</td>\n",
       "      <td>...</td>\n",
       "      <td>...</td>\n",
       "      <td>...</td>\n",
       "      <td>...</td>\n",
       "      <td>...</td>\n",
       "    </tr>\n",
       "    <tr>\n",
       "      <th>8</th>\n",
       "      <td>0.000000</td>\n",
       "      <td>0.000000</td>\n",
       "      <td>1.018185</td>\n",
       "      <td>1.441083</td>\n",
       "      <td>0.000000</td>\n",
       "      <td>1.009505</td>\n",
       "      <td>0.0</td>\n",
       "      <td>0.00000</td>\n",
       "      <td>0.000000</td>\n",
       "      <td>0.000000</td>\n",
       "    </tr>\n",
       "    <tr>\n",
       "      <th>9</th>\n",
       "      <td>0.000000</td>\n",
       "      <td>1.946112</td>\n",
       "      <td>0.000000</td>\n",
       "      <td>0.000000</td>\n",
       "      <td>0.000000</td>\n",
       "      <td>-2.295429</td>\n",
       "      <td>0.0</td>\n",
       "      <td>0.00000</td>\n",
       "      <td>-1.416948</td>\n",
       "      <td>1.658724</td>\n",
       "    </tr>\n",
       "  </tbody>\n",
       "</table>\n",
       "<p>10 rows × 10 columns</p>\n",
       "</div>"
      ],
      "text/plain": [
       "           0         1         2         3         4         5    6        7  \\\n",
       "0   0.000000 -1.009478  0.000000  0.000000 -1.584774 -1.289890  0.0  1.12608   \n",
       "1  -1.172871 -1.467342  1.868303 -1.017403  0.000000  0.000000  0.0  0.00000   \n",
       "..       ...       ...       ...       ...       ...       ...  ...      ...   \n",
       "8   0.000000  0.000000  1.018185  1.441083  0.000000  1.009505  0.0  0.00000   \n",
       "9   0.000000  1.946112  0.000000  0.000000  0.000000 -2.295429  0.0  0.00000   \n",
       "\n",
       "           8         9  \n",
       "0   1.227195  0.000000  \n",
       "1   0.000000  0.000000  \n",
       "..       ...       ...  \n",
       "8   0.000000  0.000000  \n",
       "9  -1.416948  1.658724  \n",
       "\n",
       "[10 rows x 10 columns]"
      ]
     },
     "execution_count": 21,
     "metadata": {},
     "output_type": "execute_result"
    }
   ],
   "source": [
    "df"
   ]
  },
  {
   "cell_type": "code",
   "execution_count": 16,
   "metadata": {},
   "outputs": [],
   "source": [
    "pd.reset_option(\"chop_threshold\")"
   ]
  },
  {
   "cell_type": "code",
   "execution_count": 18,
   "metadata": {},
   "outputs": [
    {
     "data": {
      "text/html": [
       "<div>\n",
       "<style scoped>\n",
       "    .dataframe tbody tr th:only-of-type {\n",
       "        vertical-align: middle;\n",
       "    }\n",
       "\n",
       "    .dataframe tbody tr th {\n",
       "        vertical-align: top;\n",
       "    }\n",
       "\n",
       "    .dataframe thead th {\n",
       "        text-align: right;\n",
       "    }\n",
       "</style>\n",
       "<table border=\"1\" class=\"dataframe\">\n",
       "  <thead>\n",
       "    <tr style=\"text-align: right;\">\n",
       "      <th></th>\n",
       "      <th>0</th>\n",
       "      <th>1</th>\n",
       "      <th>2</th>\n",
       "      <th>3</th>\n",
       "      <th>4</th>\n",
       "      <th>5</th>\n",
       "      <th>6</th>\n",
       "      <th>7</th>\n",
       "      <th>8</th>\n",
       "      <th>9</th>\n",
       "    </tr>\n",
       "  </thead>\n",
       "  <tbody>\n",
       "    <tr>\n",
       "      <th>0</th>\n",
       "      <td>0.782995</td>\n",
       "      <td>-1.009478</td>\n",
       "      <td>-0.308497</td>\n",
       "      <td>-0.848471</td>\n",
       "      <td>-1.584774</td>\n",
       "      <td>-1.289890</td>\n",
       "      <td>-0.402736</td>\n",
       "      <td>1.126080</td>\n",
       "      <td>1.227195</td>\n",
       "      <td>0.471267</td>\n",
       "    </tr>\n",
       "    <tr>\n",
       "      <th>1</th>\n",
       "      <td>-1.172871</td>\n",
       "      <td>-1.467342</td>\n",
       "      <td>1.868303</td>\n",
       "      <td>-1.017403</td>\n",
       "      <td>-0.321993</td>\n",
       "      <td>0.851137</td>\n",
       "      <td>-0.328057</td>\n",
       "      <td>0.014015</td>\n",
       "      <td>-0.106919</td>\n",
       "      <td>-0.902133</td>\n",
       "    </tr>\n",
       "    <tr>\n",
       "      <th>...</th>\n",
       "      <td>...</td>\n",
       "      <td>...</td>\n",
       "      <td>...</td>\n",
       "      <td>...</td>\n",
       "      <td>...</td>\n",
       "      <td>...</td>\n",
       "      <td>...</td>\n",
       "      <td>...</td>\n",
       "      <td>...</td>\n",
       "      <td>...</td>\n",
       "    </tr>\n",
       "    <tr>\n",
       "      <th>8</th>\n",
       "      <td>0.765630</td>\n",
       "      <td>0.714657</td>\n",
       "      <td>1.018185</td>\n",
       "      <td>1.441083</td>\n",
       "      <td>0.463860</td>\n",
       "      <td>1.009505</td>\n",
       "      <td>-0.659041</td>\n",
       "      <td>0.990041</td>\n",
       "      <td>-0.902489</td>\n",
       "      <td>-0.688150</td>\n",
       "    </tr>\n",
       "    <tr>\n",
       "      <th>9</th>\n",
       "      <td>0.525464</td>\n",
       "      <td>1.946112</td>\n",
       "      <td>-0.840318</td>\n",
       "      <td>0.654767</td>\n",
       "      <td>-0.902926</td>\n",
       "      <td>-2.295429</td>\n",
       "      <td>0.162773</td>\n",
       "      <td>-0.104502</td>\n",
       "      <td>-1.416948</td>\n",
       "      <td>1.658724</td>\n",
       "    </tr>\n",
       "  </tbody>\n",
       "</table>\n",
       "<p>10 rows × 10 columns</p>\n",
       "</div>"
      ],
      "text/plain": [
       "           0         1         2         3         4         5         6  \\\n",
       "0   0.782995 -1.009478 -0.308497 -0.848471 -1.584774 -1.289890 -0.402736   \n",
       "1  -1.172871 -1.467342  1.868303 -1.017403 -0.321993  0.851137 -0.328057   \n",
       "..       ...       ...       ...       ...       ...       ...       ...   \n",
       "8   0.765630  0.714657  1.018185  1.441083  0.463860  1.009505 -0.659041   \n",
       "9   0.525464  1.946112 -0.840318  0.654767 -0.902926 -2.295429  0.162773   \n",
       "\n",
       "           7         8         9  \n",
       "0   1.126080  1.227195  0.471267  \n",
       "1   0.014015 -0.106919 -0.902133  \n",
       "..       ...       ...       ...  \n",
       "8   0.990041 -0.902489 -0.688150  \n",
       "9  -0.104502 -1.416948  1.658724  \n",
       "\n",
       "[10 rows x 10 columns]"
      ]
     },
     "execution_count": 18,
     "metadata": {},
     "output_type": "execute_result"
    }
   ],
   "source": [
    "df"
   ]
  },
  {
   "cell_type": "code",
   "execution_count": 11,
   "metadata": {},
   "outputs": [
    {
     "name": "stdout",
     "output_type": "stream",
     "text": [
      "display.chop_threshold : float or None\n",
      "    if set to a float value, all float values smaller then the given threshold\n",
      "    will be displayed as exactly 0 by repr and friends.\n",
      "    [default: None] [currently: None]\n",
      "\n",
      "\n"
     ]
    }
   ],
   "source": [
    "pd.describe_option(\"chop_threshold\")"
   ]
  }
 ],
 "metadata": {
  "anaconda-cloud": {},
  "kernelspec": {
   "display_name": "Python 3",
   "language": "python",
   "name": "python3"
  },
  "language_info": {
   "codemirror_mode": {
    "name": "ipython",
    "version": 3
   },
   "file_extension": ".py",
   "mimetype": "text/x-python",
   "name": "python",
   "nbconvert_exporter": "python",
   "pygments_lexer": "ipython3",
   "version": "3.6.4"
  }
 },
 "nbformat": 4,
 "nbformat_minor": 1
}
